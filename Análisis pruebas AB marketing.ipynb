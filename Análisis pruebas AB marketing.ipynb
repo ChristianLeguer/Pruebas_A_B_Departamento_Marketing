{
 "cells": [
  {
   "cell_type": "markdown",
   "metadata": {},
   "source": [
    "Hola Christian!\n",
    "\n",
    "Soy **Patricio Requena** 👋. Es un placer ser el revisor de tu proyecto el día de hoy!\n",
    "\n",
    "Revisaré tu proyecto detenidamente con el objetivo de ayudarte a mejorar y perfeccionar tus habilidades. Durante mi revisión, identificaré áreas donde puedas hacer mejoras en tu código, señalando específicamente qué y cómo podrías ajustar para optimizar el rendimiento y la claridad de tu proyecto. Además, es importante para mí destacar los aspectos que has manejado excepcionalmente bien. Reconocer tus fortalezas te ayudará a entender qué técnicas y métodos están funcionando a tu favor y cómo puedes aplicarlos en futuras tareas. \n",
    "\n",
    "_**Recuerda que al final de este notebook encontrarás un comentario general de mi parte**_, empecemos!\n",
    "\n",
    "Encontrarás mis comentarios dentro de cajas verdes, amarillas o rojas, ⚠️ **por favor, no muevas, modifiques o borres mis comentarios** ⚠️:\n",
    "\n",
    "\n",
    "<div class=\"alert alert-block alert-success\">\n",
    "<b>Comentario del revisor</b> <a class=“tocSkip”></a>\n",
    "Si todo está perfecto.\n",
    "</div>\n",
    "\n",
    "<div class=\"alert alert-block alert-warning\">\n",
    "<b>Comentario del revisor</b> <a class=“tocSkip”></a>\n",
    "Si tu código está bien pero se puede mejorar o hay algún detalle que le hace falta.\n",
    "</div>\n",
    "\n",
    "<div class=\"alert alert-block alert-danger\">\n",
    "<b>Comentario del revisor</b> <a class=“tocSkip”></a>\n",
    "Si de pronto hace falta algo o existe algún problema con tu código o conclusiones.\n",
    "</div>\n",
    "\n",
    "Puedes responderme de esta forma:\n",
    "<div class=\"alert alert-block alert-info\">\n",
    "<b>Respuesta del estudiante</b> <a class=“tocSkip”></a>\n",
    "</div>"
   ]
  },
  {
   "cell_type": "markdown",
   "metadata": {},
   "source": [
    "# Descripción del proyecto"
   ]
  },
  {
   "cell_type": "markdown",
   "metadata": {},
   "source": [
    "En una empresa de videojuegos se trabaja junto con el departamento de Marketing con la finalidad de: \n",
    " - Priorizar hipótesis entre los frameworks \"ICE\" y \"RICE\" con la finalidad de obtener la más viable para aplicar y comprobar.\n",
    " - Realizar análisis A/B.\n",
    "     - Hacer graficas y conjeturas sobre los resultados.\n",
    "     - Analizar los resultados con y sin anomalías para ver los cambios ponderados promedio.\n",
    " - Decidir si la prueba continua o es necesario detenerla."
   ]
  },
  {
   "cell_type": "markdown",
   "metadata": {},
   "source": [
    "## Importación de librerias y bases de datos"
   ]
  },
  {
   "cell_type": "code",
   "execution_count": 1,
   "metadata": {},
   "outputs": [],
   "source": [
    "import pandas as pd\n",
    "import matplotlib.pyplot as plt\n",
    "import seaborn as sns\n",
    "import numpy as np\n",
    "from scipy.stats import ttest_ind\n",
    "from scipy.stats import mannwhitneyu"
   ]
  },
  {
   "cell_type": "code",
   "execution_count": 2,
   "metadata": {},
   "outputs": [
    {
     "data": {
      "text/html": [
       "<div>\n",
       "<style scoped>\n",
       "    .dataframe tbody tr th:only-of-type {\n",
       "        vertical-align: middle;\n",
       "    }\n",
       "\n",
       "    .dataframe tbody tr th {\n",
       "        vertical-align: top;\n",
       "    }\n",
       "\n",
       "    .dataframe thead th {\n",
       "        text-align: right;\n",
       "    }\n",
       "</style>\n",
       "<table border=\"1\" class=\"dataframe\">\n",
       "  <thead>\n",
       "    <tr style=\"text-align: right;\">\n",
       "      <th></th>\n",
       "      <th>Hypothesis</th>\n",
       "      <th>Reach</th>\n",
       "      <th>Impact</th>\n",
       "      <th>Confidence</th>\n",
       "      <th>Effort</th>\n",
       "    </tr>\n",
       "  </thead>\n",
       "  <tbody>\n",
       "    <tr>\n",
       "      <th>0</th>\n",
       "      <td>Add two new channels for attracting traffic. T...</td>\n",
       "      <td>3</td>\n",
       "      <td>10</td>\n",
       "      <td>8</td>\n",
       "      <td>6</td>\n",
       "    </tr>\n",
       "    <tr>\n",
       "      <th>1</th>\n",
       "      <td>Launch your own delivery service. This will sh...</td>\n",
       "      <td>2</td>\n",
       "      <td>5</td>\n",
       "      <td>4</td>\n",
       "      <td>10</td>\n",
       "    </tr>\n",
       "  </tbody>\n",
       "</table>\n",
       "</div>"
      ],
      "text/plain": [
       "                                          Hypothesis  Reach  Impact  \\\n",
       "0  Add two new channels for attracting traffic. T...      3      10   \n",
       "1  Launch your own delivery service. This will sh...      2       5   \n",
       "\n",
       "   Confidence  Effort  \n",
       "0           8       6  \n",
       "1           4      10  "
      ]
     },
     "metadata": {},
     "output_type": "display_data"
    },
    {
     "data": {
      "text/html": [
       "<div>\n",
       "<style scoped>\n",
       "    .dataframe tbody tr th:only-of-type {\n",
       "        vertical-align: middle;\n",
       "    }\n",
       "\n",
       "    .dataframe tbody tr th {\n",
       "        vertical-align: top;\n",
       "    }\n",
       "\n",
       "    .dataframe thead th {\n",
       "        text-align: right;\n",
       "    }\n",
       "</style>\n",
       "<table border=\"1\" class=\"dataframe\">\n",
       "  <thead>\n",
       "    <tr style=\"text-align: right;\">\n",
       "      <th></th>\n",
       "      <th>Hypothesis</th>\n",
       "      <th>Reach</th>\n",
       "      <th>Impact</th>\n",
       "      <th>Confidence</th>\n",
       "      <th>Effort</th>\n",
       "    </tr>\n",
       "  </thead>\n",
       "  <tbody>\n",
       "    <tr>\n",
       "      <th>7</th>\n",
       "      <td>Add a subscription form to all the main pages....</td>\n",
       "      <td>10</td>\n",
       "      <td>7</td>\n",
       "      <td>8</td>\n",
       "      <td>5</td>\n",
       "    </tr>\n",
       "    <tr>\n",
       "      <th>8</th>\n",
       "      <td>Launch a promotion that gives users discounts ...</td>\n",
       "      <td>1</td>\n",
       "      <td>9</td>\n",
       "      <td>9</td>\n",
       "      <td>5</td>\n",
       "    </tr>\n",
       "  </tbody>\n",
       "</table>\n",
       "</div>"
      ],
      "text/plain": [
       "                                          Hypothesis  Reach  Impact  \\\n",
       "7  Add a subscription form to all the main pages....     10       7   \n",
       "8  Launch a promotion that gives users discounts ...      1       9   \n",
       "\n",
       "   Confidence  Effort  \n",
       "7           8       5  \n",
       "8           9       5  "
      ]
     },
     "metadata": {},
     "output_type": "display_data"
    },
    {
     "data": {
      "text/html": [
       "<div>\n",
       "<style scoped>\n",
       "    .dataframe tbody tr th:only-of-type {\n",
       "        vertical-align: middle;\n",
       "    }\n",
       "\n",
       "    .dataframe tbody tr th {\n",
       "        vertical-align: top;\n",
       "    }\n",
       "\n",
       "    .dataframe thead th {\n",
       "        text-align: right;\n",
       "    }\n",
       "</style>\n",
       "<table border=\"1\" class=\"dataframe\">\n",
       "  <thead>\n",
       "    <tr style=\"text-align: right;\">\n",
       "      <th></th>\n",
       "      <th>transactionId</th>\n",
       "      <th>visitorId</th>\n",
       "      <th>date</th>\n",
       "      <th>revenue</th>\n",
       "      <th>group</th>\n",
       "    </tr>\n",
       "  </thead>\n",
       "  <tbody>\n",
       "    <tr>\n",
       "      <th>0</th>\n",
       "      <td>3667963787</td>\n",
       "      <td>3312258926</td>\n",
       "      <td>2019-08-15</td>\n",
       "      <td>30.4</td>\n",
       "      <td>B</td>\n",
       "    </tr>\n",
       "    <tr>\n",
       "      <th>1</th>\n",
       "      <td>2804400009</td>\n",
       "      <td>3642806036</td>\n",
       "      <td>2019-08-15</td>\n",
       "      <td>15.2</td>\n",
       "      <td>B</td>\n",
       "    </tr>\n",
       "  </tbody>\n",
       "</table>\n",
       "</div>"
      ],
      "text/plain": [
       "   transactionId   visitorId        date  revenue group\n",
       "0     3667963787  3312258926  2019-08-15     30.4     B\n",
       "1     2804400009  3642806036  2019-08-15     15.2     B"
      ]
     },
     "metadata": {},
     "output_type": "display_data"
    },
    {
     "data": {
      "text/html": [
       "<div>\n",
       "<style scoped>\n",
       "    .dataframe tbody tr th:only-of-type {\n",
       "        vertical-align: middle;\n",
       "    }\n",
       "\n",
       "    .dataframe tbody tr th {\n",
       "        vertical-align: top;\n",
       "    }\n",
       "\n",
       "    .dataframe thead th {\n",
       "        text-align: right;\n",
       "    }\n",
       "</style>\n",
       "<table border=\"1\" class=\"dataframe\">\n",
       "  <thead>\n",
       "    <tr style=\"text-align: right;\">\n",
       "      <th></th>\n",
       "      <th>transactionId</th>\n",
       "      <th>visitorId</th>\n",
       "      <th>date</th>\n",
       "      <th>revenue</th>\n",
       "      <th>group</th>\n",
       "    </tr>\n",
       "  </thead>\n",
       "  <tbody>\n",
       "    <tr>\n",
       "      <th>1195</th>\n",
       "      <td>1947021204</td>\n",
       "      <td>1614305549</td>\n",
       "      <td>2019-08-14</td>\n",
       "      <td>5.5</td>\n",
       "      <td>A</td>\n",
       "    </tr>\n",
       "    <tr>\n",
       "      <th>1196</th>\n",
       "      <td>3936777065</td>\n",
       "      <td>2108080724</td>\n",
       "      <td>2019-08-15</td>\n",
       "      <td>3120.1</td>\n",
       "      <td>B</td>\n",
       "    </tr>\n",
       "  </tbody>\n",
       "</table>\n",
       "</div>"
      ],
      "text/plain": [
       "      transactionId   visitorId        date  revenue group\n",
       "1195     1947021204  1614305549  2019-08-14      5.5     A\n",
       "1196     3936777065  2108080724  2019-08-15   3120.1     B"
      ]
     },
     "metadata": {},
     "output_type": "display_data"
    },
    {
     "data": {
      "text/html": [
       "<div>\n",
       "<style scoped>\n",
       "    .dataframe tbody tr th:only-of-type {\n",
       "        vertical-align: middle;\n",
       "    }\n",
       "\n",
       "    .dataframe tbody tr th {\n",
       "        vertical-align: top;\n",
       "    }\n",
       "\n",
       "    .dataframe thead th {\n",
       "        text-align: right;\n",
       "    }\n",
       "</style>\n",
       "<table border=\"1\" class=\"dataframe\">\n",
       "  <thead>\n",
       "    <tr style=\"text-align: right;\">\n",
       "      <th></th>\n",
       "      <th>date</th>\n",
       "      <th>group</th>\n",
       "      <th>visits</th>\n",
       "    </tr>\n",
       "  </thead>\n",
       "  <tbody>\n",
       "    <tr>\n",
       "      <th>0</th>\n",
       "      <td>2019-08-01</td>\n",
       "      <td>A</td>\n",
       "      <td>719</td>\n",
       "    </tr>\n",
       "    <tr>\n",
       "      <th>1</th>\n",
       "      <td>2019-08-02</td>\n",
       "      <td>A</td>\n",
       "      <td>619</td>\n",
       "    </tr>\n",
       "  </tbody>\n",
       "</table>\n",
       "</div>"
      ],
      "text/plain": [
       "         date group  visits\n",
       "0  2019-08-01     A     719\n",
       "1  2019-08-02     A     619"
      ]
     },
     "metadata": {},
     "output_type": "display_data"
    },
    {
     "data": {
      "text/html": [
       "<div>\n",
       "<style scoped>\n",
       "    .dataframe tbody tr th:only-of-type {\n",
       "        vertical-align: middle;\n",
       "    }\n",
       "\n",
       "    .dataframe tbody tr th {\n",
       "        vertical-align: top;\n",
       "    }\n",
       "\n",
       "    .dataframe thead th {\n",
       "        text-align: right;\n",
       "    }\n",
       "</style>\n",
       "<table border=\"1\" class=\"dataframe\">\n",
       "  <thead>\n",
       "    <tr style=\"text-align: right;\">\n",
       "      <th></th>\n",
       "      <th>date</th>\n",
       "      <th>group</th>\n",
       "      <th>visits</th>\n",
       "    </tr>\n",
       "  </thead>\n",
       "  <tbody>\n",
       "    <tr>\n",
       "      <th>60</th>\n",
       "      <td>2019-08-30</td>\n",
       "      <td>B</td>\n",
       "      <td>490</td>\n",
       "    </tr>\n",
       "    <tr>\n",
       "      <th>61</th>\n",
       "      <td>2019-08-31</td>\n",
       "      <td>B</td>\n",
       "      <td>718</td>\n",
       "    </tr>\n",
       "  </tbody>\n",
       "</table>\n",
       "</div>"
      ],
      "text/plain": [
       "          date group  visits\n",
       "60  2019-08-30     B     490\n",
       "61  2019-08-31     B     718"
      ]
     },
     "metadata": {},
     "output_type": "display_data"
    }
   ],
   "source": [
    "hypotheses = pd.read_csv(\"/datasets/hypotheses_us.csv\", sep = \";\")\n",
    "orders = pd.read_csv(\"/datasets/orders_us.csv\")\n",
    "visits = pd.read_csv(\"/datasets/visits_us.csv\")\n",
    "\n",
    "display(hypotheses.head(2))\n",
    "display(hypotheses.tail(2))\n",
    "display(orders.head(2))\n",
    "display(orders.tail(2))\n",
    "display(visits.head(2))\n",
    "display(visits.tail(2))"
   ]
  },
  {
   "cell_type": "markdown",
   "metadata": {},
   "source": [
    "## Análisis Exploratorio de Datos (AED) y tratamiento de datos"
   ]
  },
  {
   "cell_type": "markdown",
   "metadata": {},
   "source": [
    "### DataFrame \"hypotheses\""
   ]
  },
  {
   "cell_type": "code",
   "execution_count": 3,
   "metadata": {},
   "outputs": [
    {
     "name": "stdout",
     "output_type": "stream",
     "text": [
      "Forma del DF \"hypotheses\"\n"
     ]
    },
    {
     "data": {
      "text/plain": [
       "(9, 5)"
      ]
     },
     "metadata": {},
     "output_type": "display_data"
    },
    {
     "name": "stdout",
     "output_type": "stream",
     "text": [
      "Información general del DF \"hypotheses\"\n",
      "<class 'pandas.core.frame.DataFrame'>\n",
      "RangeIndex: 9 entries, 0 to 8\n",
      "Data columns (total 5 columns):\n",
      " #   Column      Non-Null Count  Dtype \n",
      "---  ------      --------------  ----- \n",
      " 0   Hypothesis  9 non-null      object\n",
      " 1   Reach       9 non-null      int64 \n",
      " 2   Impact      9 non-null      int64 \n",
      " 3   Confidence  9 non-null      int64 \n",
      " 4   Effort      9 non-null      int64 \n",
      "dtypes: int64(4), object(1)\n",
      "memory usage: 488.0+ bytes\n"
     ]
    },
    {
     "data": {
      "text/plain": [
       "None"
      ]
     },
     "metadata": {},
     "output_type": "display_data"
    },
    {
     "name": "stdout",
     "output_type": "stream",
     "text": [
      "Descripción del DF \"hypotheses\"\n"
     ]
    },
    {
     "data": {
      "text/html": [
       "<div>\n",
       "<style scoped>\n",
       "    .dataframe tbody tr th:only-of-type {\n",
       "        vertical-align: middle;\n",
       "    }\n",
       "\n",
       "    .dataframe tbody tr th {\n",
       "        vertical-align: top;\n",
       "    }\n",
       "\n",
       "    .dataframe thead th {\n",
       "        text-align: right;\n",
       "    }\n",
       "</style>\n",
       "<table border=\"1\" class=\"dataframe\">\n",
       "  <thead>\n",
       "    <tr style=\"text-align: right;\">\n",
       "      <th></th>\n",
       "      <th>Reach</th>\n",
       "      <th>Impact</th>\n",
       "      <th>Confidence</th>\n",
       "      <th>Effort</th>\n",
       "    </tr>\n",
       "  </thead>\n",
       "  <tbody>\n",
       "    <tr>\n",
       "      <th>count</th>\n",
       "      <td>9.000000</td>\n",
       "      <td>9.000000</td>\n",
       "      <td>9.000000</td>\n",
       "      <td>9.000000</td>\n",
       "    </tr>\n",
       "    <tr>\n",
       "      <th>mean</th>\n",
       "      <td>4.777778</td>\n",
       "      <td>4.777778</td>\n",
       "      <td>5.555556</td>\n",
       "      <td>4.888889</td>\n",
       "    </tr>\n",
       "    <tr>\n",
       "      <th>std</th>\n",
       "      <td>3.153481</td>\n",
       "      <td>3.192874</td>\n",
       "      <td>3.045944</td>\n",
       "      <td>2.803767</td>\n",
       "    </tr>\n",
       "    <tr>\n",
       "      <th>min</th>\n",
       "      <td>1.000000</td>\n",
       "      <td>1.000000</td>\n",
       "      <td>1.000000</td>\n",
       "      <td>1.000000</td>\n",
       "    </tr>\n",
       "    <tr>\n",
       "      <th>25%</th>\n",
       "      <td>3.000000</td>\n",
       "      <td>3.000000</td>\n",
       "      <td>3.000000</td>\n",
       "      <td>3.000000</td>\n",
       "    </tr>\n",
       "    <tr>\n",
       "      <th>50%</th>\n",
       "      <td>3.000000</td>\n",
       "      <td>3.000000</td>\n",
       "      <td>7.000000</td>\n",
       "      <td>5.000000</td>\n",
       "    </tr>\n",
       "    <tr>\n",
       "      <th>75%</th>\n",
       "      <td>8.000000</td>\n",
       "      <td>7.000000</td>\n",
       "      <td>8.000000</td>\n",
       "      <td>6.000000</td>\n",
       "    </tr>\n",
       "    <tr>\n",
       "      <th>max</th>\n",
       "      <td>10.000000</td>\n",
       "      <td>10.000000</td>\n",
       "      <td>9.000000</td>\n",
       "      <td>10.000000</td>\n",
       "    </tr>\n",
       "  </tbody>\n",
       "</table>\n",
       "</div>"
      ],
      "text/plain": [
       "           Reach     Impact  Confidence     Effort\n",
       "count   9.000000   9.000000    9.000000   9.000000\n",
       "mean    4.777778   4.777778    5.555556   4.888889\n",
       "std     3.153481   3.192874    3.045944   2.803767\n",
       "min     1.000000   1.000000    1.000000   1.000000\n",
       "25%     3.000000   3.000000    3.000000   3.000000\n",
       "50%     3.000000   3.000000    7.000000   5.000000\n",
       "75%     8.000000   7.000000    8.000000   6.000000\n",
       "max    10.000000  10.000000    9.000000  10.000000"
      ]
     },
     "metadata": {},
     "output_type": "display_data"
    },
    {
     "name": "stdout",
     "output_type": "stream",
     "text": [
      "Filas duplicadas del DF \"hypotheses\"\n"
     ]
    },
    {
     "data": {
      "text/plain": [
       "0"
      ]
     },
     "metadata": {},
     "output_type": "display_data"
    }
   ],
   "source": [
    "print('Forma del DF \"hypotheses\"')\n",
    "display(hypotheses.shape)\n",
    "print('Información general del DF \"hypotheses\"')\n",
    "display(hypotheses.info())\n",
    "print('Descripción del DF \"hypotheses\"')\n",
    "display(hypotheses.describe())\n",
    "print('Filas duplicadas del DF \"hypotheses\"')\n",
    "display(hypotheses.duplicated().sum())"
   ]
  },
  {
   "cell_type": "markdown",
   "metadata": {},
   "source": [
    "#### Conclusiónes del AED \"hipotesis\""
   ]
  },
  {
   "cell_type": "markdown",
   "metadata": {},
   "source": [
    "Las columnas tienen nombres que inician con mayúsculas. Para para facilitar el uso de mi parte los cambiaré a minusculas en pasos futuros. También tenemos un df con 9 filas y 5 columnas sin valores nulos ni filas duplicadas. El Df contiene información sobre hipótesis para aumentar las ventas en las tiendas con distintos parametros para evaluar las opciones."
   ]
  },
  {
   "cell_type": "markdown",
   "metadata": {},
   "source": [
    "### DataFrame \"orders\""
   ]
  },
  {
   "cell_type": "code",
   "execution_count": 4,
   "metadata": {},
   "outputs": [
    {
     "name": "stdout",
     "output_type": "stream",
     "text": [
      "Forma del DF \"orders\"\n"
     ]
    },
    {
     "data": {
      "text/plain": [
       "(1197, 5)"
      ]
     },
     "metadata": {},
     "output_type": "display_data"
    },
    {
     "name": "stdout",
     "output_type": "stream",
     "text": [
      "Información general del DF \"orders\"\n",
      "<class 'pandas.core.frame.DataFrame'>\n",
      "RangeIndex: 1197 entries, 0 to 1196\n",
      "Data columns (total 5 columns):\n",
      " #   Column         Non-Null Count  Dtype  \n",
      "---  ------         --------------  -----  \n",
      " 0   transactionId  1197 non-null   int64  \n",
      " 1   visitorId      1197 non-null   int64  \n",
      " 2   date           1197 non-null   object \n",
      " 3   revenue        1197 non-null   float64\n",
      " 4   group          1197 non-null   object \n",
      "dtypes: float64(1), int64(2), object(2)\n",
      "memory usage: 46.9+ KB\n"
     ]
    },
    {
     "data": {
      "text/plain": [
       "None"
      ]
     },
     "metadata": {},
     "output_type": "display_data"
    },
    {
     "name": "stdout",
     "output_type": "stream",
     "text": [
      "Descripción del DF \"orders\"\n"
     ]
    },
    {
     "data": {
      "text/html": [
       "<div>\n",
       "<style scoped>\n",
       "    .dataframe tbody tr th:only-of-type {\n",
       "        vertical-align: middle;\n",
       "    }\n",
       "\n",
       "    .dataframe tbody tr th {\n",
       "        vertical-align: top;\n",
       "    }\n",
       "\n",
       "    .dataframe thead th {\n",
       "        text-align: right;\n",
       "    }\n",
       "</style>\n",
       "<table border=\"1\" class=\"dataframe\">\n",
       "  <thead>\n",
       "    <tr style=\"text-align: right;\">\n",
       "      <th></th>\n",
       "      <th>transactionId</th>\n",
       "      <th>visitorId</th>\n",
       "      <th>revenue</th>\n",
       "    </tr>\n",
       "  </thead>\n",
       "  <tbody>\n",
       "    <tr>\n",
       "      <th>count</th>\n",
       "      <td>1.197000e+03</td>\n",
       "      <td>1.197000e+03</td>\n",
       "      <td>1197.000000</td>\n",
       "    </tr>\n",
       "    <tr>\n",
       "      <th>mean</th>\n",
       "      <td>2.155621e+09</td>\n",
       "      <td>2.165960e+09</td>\n",
       "      <td>131.491646</td>\n",
       "    </tr>\n",
       "    <tr>\n",
       "      <th>std</th>\n",
       "      <td>1.229085e+09</td>\n",
       "      <td>1.236014e+09</td>\n",
       "      <td>603.004729</td>\n",
       "    </tr>\n",
       "    <tr>\n",
       "      <th>min</th>\n",
       "      <td>1.062393e+06</td>\n",
       "      <td>5.114589e+06</td>\n",
       "      <td>5.000000</td>\n",
       "    </tr>\n",
       "    <tr>\n",
       "      <th>25%</th>\n",
       "      <td>1.166776e+09</td>\n",
       "      <td>1.111826e+09</td>\n",
       "      <td>20.800000</td>\n",
       "    </tr>\n",
       "    <tr>\n",
       "      <th>50%</th>\n",
       "      <td>2.145194e+09</td>\n",
       "      <td>2.217985e+09</td>\n",
       "      <td>50.200000</td>\n",
       "    </tr>\n",
       "    <tr>\n",
       "      <th>75%</th>\n",
       "      <td>3.237740e+09</td>\n",
       "      <td>3.177606e+09</td>\n",
       "      <td>130.400000</td>\n",
       "    </tr>\n",
       "    <tr>\n",
       "      <th>max</th>\n",
       "      <td>4.293856e+09</td>\n",
       "      <td>4.283872e+09</td>\n",
       "      <td>19920.400000</td>\n",
       "    </tr>\n",
       "  </tbody>\n",
       "</table>\n",
       "</div>"
      ],
      "text/plain": [
       "       transactionId     visitorId       revenue\n",
       "count   1.197000e+03  1.197000e+03   1197.000000\n",
       "mean    2.155621e+09  2.165960e+09    131.491646\n",
       "std     1.229085e+09  1.236014e+09    603.004729\n",
       "min     1.062393e+06  5.114589e+06      5.000000\n",
       "25%     1.166776e+09  1.111826e+09     20.800000\n",
       "50%     2.145194e+09  2.217985e+09     50.200000\n",
       "75%     3.237740e+09  3.177606e+09    130.400000\n",
       "max     4.293856e+09  4.283872e+09  19920.400000"
      ]
     },
     "metadata": {},
     "output_type": "display_data"
    },
    {
     "name": "stdout",
     "output_type": "stream",
     "text": [
      "Filas duplicadas del DF \"orders\"\n"
     ]
    },
    {
     "data": {
      "text/plain": [
       "0"
      ]
     },
     "metadata": {},
     "output_type": "display_data"
    }
   ],
   "source": [
    "print('Forma del DF \"orders\"')\n",
    "display(orders.shape)\n",
    "print('Información general del DF \"orders\"')\n",
    "display(orders.info())\n",
    "print('Descripción del DF \"orders\"')\n",
    "display(orders.describe())\n",
    "print('Filas duplicadas del DF \"orders\"')\n",
    "display(orders.duplicated().sum())"
   ]
  },
  {
   "cell_type": "markdown",
   "metadata": {},
   "source": [
    "#### Conclusiónes del AED \"orders\""
   ]
  },
  {
   "cell_type": "markdown",
   "metadata": {},
   "source": [
    "El df cuenta con 1197 filas y 5 columnas sin valores nulos y sin filas duplicadas. Para el mejor manejo los nombres de las columnas serán cambiados a que solo contengan minúsculas y separar palabras con \"_\"."
   ]
  },
  {
   "cell_type": "markdown",
   "metadata": {},
   "source": [
    "### DataFrame \"visits\""
   ]
  },
  {
   "cell_type": "code",
   "execution_count": 5,
   "metadata": {},
   "outputs": [
    {
     "name": "stdout",
     "output_type": "stream",
     "text": [
      "Forma del DF \"visits\"\n"
     ]
    },
    {
     "data": {
      "text/plain": [
       "(62, 3)"
      ]
     },
     "metadata": {},
     "output_type": "display_data"
    },
    {
     "name": "stdout",
     "output_type": "stream",
     "text": [
      "Información general del DF \"visits\"\n",
      "<class 'pandas.core.frame.DataFrame'>\n",
      "RangeIndex: 62 entries, 0 to 61\n",
      "Data columns (total 3 columns):\n",
      " #   Column  Non-Null Count  Dtype \n",
      "---  ------  --------------  ----- \n",
      " 0   date    62 non-null     object\n",
      " 1   group   62 non-null     object\n",
      " 2   visits  62 non-null     int64 \n",
      "dtypes: int64(1), object(2)\n",
      "memory usage: 1.6+ KB\n"
     ]
    },
    {
     "data": {
      "text/plain": [
       "None"
      ]
     },
     "metadata": {},
     "output_type": "display_data"
    },
    {
     "name": "stdout",
     "output_type": "stream",
     "text": [
      "Descripción del DF \"visits\"\n"
     ]
    },
    {
     "data": {
      "text/html": [
       "<div>\n",
       "<style scoped>\n",
       "    .dataframe tbody tr th:only-of-type {\n",
       "        vertical-align: middle;\n",
       "    }\n",
       "\n",
       "    .dataframe tbody tr th {\n",
       "        vertical-align: top;\n",
       "    }\n",
       "\n",
       "    .dataframe thead th {\n",
       "        text-align: right;\n",
       "    }\n",
       "</style>\n",
       "<table border=\"1\" class=\"dataframe\">\n",
       "  <thead>\n",
       "    <tr style=\"text-align: right;\">\n",
       "      <th></th>\n",
       "      <th>visits</th>\n",
       "    </tr>\n",
       "  </thead>\n",
       "  <tbody>\n",
       "    <tr>\n",
       "      <th>count</th>\n",
       "      <td>62.000000</td>\n",
       "    </tr>\n",
       "    <tr>\n",
       "      <th>mean</th>\n",
       "      <td>607.290323</td>\n",
       "    </tr>\n",
       "    <tr>\n",
       "      <th>std</th>\n",
       "      <td>114.400560</td>\n",
       "    </tr>\n",
       "    <tr>\n",
       "      <th>min</th>\n",
       "      <td>361.000000</td>\n",
       "    </tr>\n",
       "    <tr>\n",
       "      <th>25%</th>\n",
       "      <td>534.000000</td>\n",
       "    </tr>\n",
       "    <tr>\n",
       "      <th>50%</th>\n",
       "      <td>624.500000</td>\n",
       "    </tr>\n",
       "    <tr>\n",
       "      <th>75%</th>\n",
       "      <td>710.500000</td>\n",
       "    </tr>\n",
       "    <tr>\n",
       "      <th>max</th>\n",
       "      <td>770.000000</td>\n",
       "    </tr>\n",
       "  </tbody>\n",
       "</table>\n",
       "</div>"
      ],
      "text/plain": [
       "           visits\n",
       "count   62.000000\n",
       "mean   607.290323\n",
       "std    114.400560\n",
       "min    361.000000\n",
       "25%    534.000000\n",
       "50%    624.500000\n",
       "75%    710.500000\n",
       "max    770.000000"
      ]
     },
     "metadata": {},
     "output_type": "display_data"
    },
    {
     "name": "stdout",
     "output_type": "stream",
     "text": [
      "Filas duplicadas del DF \"visits\"\n"
     ]
    },
    {
     "data": {
      "text/plain": [
       "0"
      ]
     },
     "metadata": {},
     "output_type": "display_data"
    }
   ],
   "source": [
    "print('Forma del DF \"visits\"')\n",
    "display(visits.shape)\n",
    "print('Información general del DF \"visits\"')\n",
    "display(visits.info())\n",
    "print('Descripción del DF \"visits\"')\n",
    "display(visits.describe())\n",
    "print('Filas duplicadas del DF \"visits\"')\n",
    "display(visits.duplicated().sum())"
   ]
  },
  {
   "cell_type": "markdown",
   "metadata": {},
   "source": [
    "#### Conclusiónes del AED \"visits\""
   ]
  },
  {
   "cell_type": "markdown",
   "metadata": {},
   "source": [
    "El df contiene 62 filas y 3 columnas sin valores nulos ni filas duplicadas. De momento me parece que no es necesario realizar algún cambio en el tratamiento de datos."
   ]
  },
  {
   "cell_type": "markdown",
   "metadata": {},
   "source": [
    "*Tareas Chris*\n",
    "- Modificar el nombre de las columnas del df hypotheses\n",
    "- Cambiar el nombre de la columna con un guion bajo antes del id"
   ]
  },
  {
   "cell_type": "code",
   "execution_count": 6,
   "metadata": {},
   "outputs": [],
   "source": [
    "def correct_columns(df):\n",
    "    df.columns = df.columns.str.lower()\n",
    "    return df"
   ]
  },
  {
   "cell_type": "code",
   "execution_count": 7,
   "metadata": {},
   "outputs": [
    {
     "data": {
      "text/plain": [
       "Index(['hypothesis', 'reach', 'impact', 'confidence', 'effort'], dtype='object')"
      ]
     },
     "metadata": {},
     "output_type": "display_data"
    },
    {
     "data": {
      "text/plain": [
       "Index(['transaction_id', 'visitor_id', 'date', 'revenue', 'group'], dtype='object')"
      ]
     },
     "metadata": {},
     "output_type": "display_data"
    }
   ],
   "source": [
    "hypotheses = correct_columns(hypotheses)\n",
    "orders = orders.rename(columns = {'transactionId': 'transaction_id', 'visitorId': 'visitor_id'})\n",
    "\n",
    "display(hypotheses.columns)\n",
    "display(orders.columns)"
   ]
  },
  {
   "cell_type": "markdown",
   "metadata": {},
   "source": [
    "### Conclusiones del AED"
   ]
  },
  {
   "cell_type": "markdown",
   "metadata": {},
   "source": [
    "Contamos con 3 df que tienen información completa sin valores nulos ni filas faltantes a los cuales se les ha hecho un tratamiento unicamente en el nombre de las columnas para hacer más sencillo el manejo para los análisis posteriores."
   ]
  },
  {
   "cell_type": "markdown",
   "metadata": {},
   "source": [
    "<div class=\"alert alert-block alert-success\">\n",
    "<b>Comentario del revisor (1ra Iteracion)</b> <a class=“tocSkip”></a>\n",
    "\n",
    "Buen trabajo con la revisión inicial de tus datos, siempre es importante entender con lo que trabajarás!\n",
    "</div>"
   ]
  },
  {
   "cell_type": "markdown",
   "metadata": {},
   "source": [
    "## Priorizar hipótesis"
   ]
  },
  {
   "cell_type": "code",
   "execution_count": 8,
   "metadata": {},
   "outputs": [
    {
     "data": {
      "text/html": [
       "<div>\n",
       "<style scoped>\n",
       "    .dataframe tbody tr th:only-of-type {\n",
       "        vertical-align: middle;\n",
       "    }\n",
       "\n",
       "    .dataframe tbody tr th {\n",
       "        vertical-align: top;\n",
       "    }\n",
       "\n",
       "    .dataframe thead th {\n",
       "        text-align: right;\n",
       "    }\n",
       "</style>\n",
       "<table border=\"1\" class=\"dataframe\">\n",
       "  <thead>\n",
       "    <tr style=\"text-align: right;\">\n",
       "      <th></th>\n",
       "      <th>hypothesis</th>\n",
       "      <th>reach</th>\n",
       "      <th>impact</th>\n",
       "      <th>confidence</th>\n",
       "      <th>effort</th>\n",
       "    </tr>\n",
       "  </thead>\n",
       "  <tbody>\n",
       "    <tr>\n",
       "      <th>0</th>\n",
       "      <td>Add two new channels for attracting traffic. T...</td>\n",
       "      <td>3</td>\n",
       "      <td>10</td>\n",
       "      <td>8</td>\n",
       "      <td>6</td>\n",
       "    </tr>\n",
       "    <tr>\n",
       "      <th>1</th>\n",
       "      <td>Launch your own delivery service. This will sh...</td>\n",
       "      <td>2</td>\n",
       "      <td>5</td>\n",
       "      <td>4</td>\n",
       "      <td>10</td>\n",
       "    </tr>\n",
       "  </tbody>\n",
       "</table>\n",
       "</div>"
      ],
      "text/plain": [
       "                                          hypothesis  reach  impact  \\\n",
       "0  Add two new channels for attracting traffic. T...      3      10   \n",
       "1  Launch your own delivery service. This will sh...      2       5   \n",
       "\n",
       "   confidence  effort  \n",
       "0           8       6  \n",
       "1           4      10  "
      ]
     },
     "execution_count": 8,
     "metadata": {},
     "output_type": "execute_result"
    }
   ],
   "source": [
    "hypotheses.head(2)"
   ]
  },
  {
   "cell_type": "markdown",
   "metadata": {},
   "source": [
    "### Framework \"ICE\""
   ]
  },
  {
   "cell_type": "code",
   "execution_count": 9,
   "metadata": {},
   "outputs": [
    {
     "data": {
      "text/html": [
       "<div>\n",
       "<style scoped>\n",
       "    .dataframe tbody tr th:only-of-type {\n",
       "        vertical-align: middle;\n",
       "    }\n",
       "\n",
       "    .dataframe tbody tr th {\n",
       "        vertical-align: top;\n",
       "    }\n",
       "\n",
       "    .dataframe thead th {\n",
       "        text-align: right;\n",
       "    }\n",
       "</style>\n",
       "<table border=\"1\" class=\"dataframe\">\n",
       "  <thead>\n",
       "    <tr style=\"text-align: right;\">\n",
       "      <th></th>\n",
       "      <th>hypothesis</th>\n",
       "      <th>ice</th>\n",
       "    </tr>\n",
       "  </thead>\n",
       "  <tbody>\n",
       "    <tr>\n",
       "      <th>8</th>\n",
       "      <td>Launch a promotion that gives users discounts ...</td>\n",
       "      <td>16.200000</td>\n",
       "    </tr>\n",
       "    <tr>\n",
       "      <th>0</th>\n",
       "      <td>Add two new channels for attracting traffic. T...</td>\n",
       "      <td>13.333333</td>\n",
       "    </tr>\n",
       "    <tr>\n",
       "      <th>7</th>\n",
       "      <td>Add a subscription form to all the main pages....</td>\n",
       "      <td>11.200000</td>\n",
       "    </tr>\n",
       "    <tr>\n",
       "      <th>6</th>\n",
       "      <td>Show banners with current offers and sales on ...</td>\n",
       "      <td>8.000000</td>\n",
       "    </tr>\n",
       "    <tr>\n",
       "      <th>2</th>\n",
       "      <td>Add product recommendation blocks to the store...</td>\n",
       "      <td>7.000000</td>\n",
       "    </tr>\n",
       "    <tr>\n",
       "      <th>1</th>\n",
       "      <td>Launch your own delivery service. This will sh...</td>\n",
       "      <td>2.000000</td>\n",
       "    </tr>\n",
       "    <tr>\n",
       "      <th>5</th>\n",
       "      <td>Add a customer review page. This will increase...</td>\n",
       "      <td>1.333333</td>\n",
       "    </tr>\n",
       "    <tr>\n",
       "      <th>3</th>\n",
       "      <td>Change the category structure. This will incre...</td>\n",
       "      <td>1.125000</td>\n",
       "    </tr>\n",
       "    <tr>\n",
       "      <th>4</th>\n",
       "      <td>Change the background color on the main page. ...</td>\n",
       "      <td>1.000000</td>\n",
       "    </tr>\n",
       "  </tbody>\n",
       "</table>\n",
       "</div>"
      ],
      "text/plain": [
       "                                          hypothesis        ice\n",
       "8  Launch a promotion that gives users discounts ...  16.200000\n",
       "0  Add two new channels for attracting traffic. T...  13.333333\n",
       "7  Add a subscription form to all the main pages....  11.200000\n",
       "6  Show banners with current offers and sales on ...   8.000000\n",
       "2  Add product recommendation blocks to the store...   7.000000\n",
       "1  Launch your own delivery service. This will sh...   2.000000\n",
       "5  Add a customer review page. This will increase...   1.333333\n",
       "3  Change the category structure. This will incre...   1.125000\n",
       "4  Change the background color on the main page. ...   1.000000"
      ]
     },
     "metadata": {},
     "output_type": "display_data"
    }
   ],
   "source": [
    "hypotheses['ice'] = (\n",
    "    hypotheses['impact']\n",
    "    * hypotheses['confidence']\n",
    ") / hypotheses['effort']\n",
    "\n",
    "display(hypotheses[['hypothesis', 'ice']].sort_values(by = 'ice', ascending = False))"
   ]
  },
  {
   "cell_type": "markdown",
   "metadata": {},
   "source": [
    "### Framewwork \"RICE\""
   ]
  },
  {
   "cell_type": "code",
   "execution_count": 10,
   "metadata": {},
   "outputs": [
    {
     "data": {
      "text/html": [
       "<div>\n",
       "<style scoped>\n",
       "    .dataframe tbody tr th:only-of-type {\n",
       "        vertical-align: middle;\n",
       "    }\n",
       "\n",
       "    .dataframe tbody tr th {\n",
       "        vertical-align: top;\n",
       "    }\n",
       "\n",
       "    .dataframe thead th {\n",
       "        text-align: right;\n",
       "    }\n",
       "</style>\n",
       "<table border=\"1\" class=\"dataframe\">\n",
       "  <thead>\n",
       "    <tr style=\"text-align: right;\">\n",
       "      <th></th>\n",
       "      <th>hypothesis</th>\n",
       "      <th>rice</th>\n",
       "    </tr>\n",
       "  </thead>\n",
       "  <tbody>\n",
       "    <tr>\n",
       "      <th>7</th>\n",
       "      <td>Add a subscription form to all the main pages....</td>\n",
       "      <td>112.0</td>\n",
       "    </tr>\n",
       "    <tr>\n",
       "      <th>2</th>\n",
       "      <td>Add product recommendation blocks to the store...</td>\n",
       "      <td>56.0</td>\n",
       "    </tr>\n",
       "    <tr>\n",
       "      <th>0</th>\n",
       "      <td>Add two new channels for attracting traffic. T...</td>\n",
       "      <td>40.0</td>\n",
       "    </tr>\n",
       "    <tr>\n",
       "      <th>6</th>\n",
       "      <td>Show banners with current offers and sales on ...</td>\n",
       "      <td>40.0</td>\n",
       "    </tr>\n",
       "    <tr>\n",
       "      <th>8</th>\n",
       "      <td>Launch a promotion that gives users discounts ...</td>\n",
       "      <td>16.2</td>\n",
       "    </tr>\n",
       "    <tr>\n",
       "      <th>3</th>\n",
       "      <td>Change the category structure. This will incre...</td>\n",
       "      <td>9.0</td>\n",
       "    </tr>\n",
       "    <tr>\n",
       "      <th>1</th>\n",
       "      <td>Launch your own delivery service. This will sh...</td>\n",
       "      <td>4.0</td>\n",
       "    </tr>\n",
       "    <tr>\n",
       "      <th>5</th>\n",
       "      <td>Add a customer review page. This will increase...</td>\n",
       "      <td>4.0</td>\n",
       "    </tr>\n",
       "    <tr>\n",
       "      <th>4</th>\n",
       "      <td>Change the background color on the main page. ...</td>\n",
       "      <td>3.0</td>\n",
       "    </tr>\n",
       "  </tbody>\n",
       "</table>\n",
       "</div>"
      ],
      "text/plain": [
       "                                          hypothesis   rice\n",
       "7  Add a subscription form to all the main pages....  112.0\n",
       "2  Add product recommendation blocks to the store...   56.0\n",
       "0  Add two new channels for attracting traffic. T...   40.0\n",
       "6  Show banners with current offers and sales on ...   40.0\n",
       "8  Launch a promotion that gives users discounts ...   16.2\n",
       "3  Change the category structure. This will incre...    9.0\n",
       "1  Launch your own delivery service. This will sh...    4.0\n",
       "5  Add a customer review page. This will increase...    4.0\n",
       "4  Change the background color on the main page. ...    3.0"
      ]
     },
     "metadata": {},
     "output_type": "display_data"
    }
   ],
   "source": [
    "hypotheses['rice'] = (\n",
    "    hypotheses['reach']\n",
    "    * hypotheses['impact']\n",
    "    * hypotheses['confidence']\n",
    ") / hypotheses['effort']\n",
    "\n",
    "display(hypotheses[['hypothesis', 'rice']].sort_values(by = 'rice', ascending = False))"
   ]
  },
  {
   "cell_type": "code",
   "execution_count": 11,
   "metadata": {},
   "outputs": [
    {
     "data": {
      "text/html": [
       "<div>\n",
       "<style scoped>\n",
       "    .dataframe tbody tr th:only-of-type {\n",
       "        vertical-align: middle;\n",
       "    }\n",
       "\n",
       "    .dataframe tbody tr th {\n",
       "        vertical-align: top;\n",
       "    }\n",
       "\n",
       "    .dataframe thead th {\n",
       "        text-align: right;\n",
       "    }\n",
       "</style>\n",
       "<table border=\"1\" class=\"dataframe\">\n",
       "  <thead>\n",
       "    <tr style=\"text-align: right;\">\n",
       "      <th></th>\n",
       "      <th>hypothesis</th>\n",
       "      <th>reach</th>\n",
       "      <th>impact</th>\n",
       "      <th>confidence</th>\n",
       "      <th>effort</th>\n",
       "      <th>ice</th>\n",
       "      <th>rice</th>\n",
       "    </tr>\n",
       "  </thead>\n",
       "  <tbody>\n",
       "    <tr>\n",
       "      <th>0</th>\n",
       "      <td>Add two new channels for attracting traffic. T...</td>\n",
       "      <td>3</td>\n",
       "      <td>10</td>\n",
       "      <td>8</td>\n",
       "      <td>6</td>\n",
       "      <td>13.333333</td>\n",
       "      <td>40.0</td>\n",
       "    </tr>\n",
       "    <tr>\n",
       "      <th>2</th>\n",
       "      <td>Add product recommendation blocks to the store...</td>\n",
       "      <td>8</td>\n",
       "      <td>3</td>\n",
       "      <td>7</td>\n",
       "      <td>3</td>\n",
       "      <td>7.000000</td>\n",
       "      <td>56.0</td>\n",
       "    </tr>\n",
       "    <tr>\n",
       "      <th>7</th>\n",
       "      <td>Add a subscription form to all the main pages....</td>\n",
       "      <td>10</td>\n",
       "      <td>7</td>\n",
       "      <td>8</td>\n",
       "      <td>5</td>\n",
       "      <td>11.200000</td>\n",
       "      <td>112.0</td>\n",
       "    </tr>\n",
       "    <tr>\n",
       "      <th>8</th>\n",
       "      <td>Launch a promotion that gives users discounts ...</td>\n",
       "      <td>1</td>\n",
       "      <td>9</td>\n",
       "      <td>9</td>\n",
       "      <td>5</td>\n",
       "      <td>16.200000</td>\n",
       "      <td>16.2</td>\n",
       "    </tr>\n",
       "  </tbody>\n",
       "</table>\n",
       "</div>"
      ],
      "text/plain": [
       "                                          hypothesis  reach  impact  \\\n",
       "0  Add two new channels for attracting traffic. T...      3      10   \n",
       "2  Add product recommendation blocks to the store...      8       3   \n",
       "7  Add a subscription form to all the main pages....     10       7   \n",
       "8  Launch a promotion that gives users discounts ...      1       9   \n",
       "\n",
       "   confidence  effort        ice   rice  \n",
       "0           8       6  13.333333   40.0  \n",
       "2           7       3   7.000000   56.0  \n",
       "7           8       5  11.200000  112.0  \n",
       "8           9       5  16.200000   16.2  "
      ]
     },
     "metadata": {},
     "output_type": "display_data"
    }
   ],
   "source": [
    "display(hypotheses.iloc[[0,2,7,8]])"
   ]
  },
  {
   "cell_type": "code",
   "execution_count": 12,
   "metadata": {},
   "outputs": [
    {
     "data": {
      "image/png": "[encoded data removed]",
      "text/plain": [
       "<Figure size 640x480 with 1 Axes>"
      ]
     },
     "metadata": {},
     "output_type": "display_data"
    },
    {
     "data": {
      "text/plain": [
       "<Figure size 1000x600 with 0 Axes>"
      ]
     },
     "metadata": {},
     "output_type": "display_data"
    }
   ],
   "source": [
    "ax = hypotheses.plot(\n",
    "    kind = 'scatter',\n",
    "    x = 'ice',\n",
    "    y = 'rice',\n",
    ")\n",
    "\n",
    "for i, txt in enumerate(hypotheses.index):\n",
    "    ax.annotate(txt, (hypotheses['ice'][i], hypotheses['rice'][i]), textcoords=\"offset points\", xytext=(5,5), ha='center')\n",
    "\n",
    "plt.figure(figsize=(10, 6))\n",
    "    \n",
    "plt.show()"
   ]
  },
  {
   "cell_type": "markdown",
   "metadata": {},
   "source": [
    "### Cambios en la priorización"
   ]
  },
  {
   "cell_type": "markdown",
   "metadata": {},
   "source": [
    "Las hipótesis en el índice 0 y 8 que parecían importantes para ICE perdieron importancia cuando utilizamos el método RICE, mientras que la hipótesis en el íncice 7 que ya estaba en los primeros 3 lugares toma aún más relevancia. El problema para las primeras dos mencionadas es que tienen muy poco alcance comparado con la del índice 7."
   ]
  },
  {
   "cell_type": "markdown",
   "metadata": {},
   "source": [
    "<div class=\"alert alert-block alert-success\">\n",
    "<b>Comentario del revisor (1ra Iteracion)</b> <a class=“tocSkip”></a>\n",
    "\n",
    "Muy buen trabajo con el cálculo y la explicación de los cambios con la gráfica, siempre es mejor mostrar un gráfico para realizar la comparación y dar mejor entendimiento de tus conclusiones\n",
    "</div>"
   ]
  },
  {
   "cell_type": "markdown",
   "metadata": {},
   "source": [
    "### Conclusiones de priorización de hipótesis."
   ]
  },
  {
   "cell_type": "markdown",
   "metadata": {},
   "source": [
    "Parece que la mejor opción será usar la hipótesis del índice 7."
   ]
  },
  {
   "cell_type": "markdown",
   "metadata": {},
   "source": [
    "## Análisis de test A/B"
   ]
  },
  {
   "cell_type": "code",
   "execution_count": 13,
   "metadata": {},
   "outputs": [
    {
     "data": {
      "text/html": [
       "<div>\n",
       "<style scoped>\n",
       "    .dataframe tbody tr th:only-of-type {\n",
       "        vertical-align: middle;\n",
       "    }\n",
       "\n",
       "    .dataframe tbody tr th {\n",
       "        vertical-align: top;\n",
       "    }\n",
       "\n",
       "    .dataframe thead th {\n",
       "        text-align: right;\n",
       "    }\n",
       "</style>\n",
       "<table border=\"1\" class=\"dataframe\">\n",
       "  <thead>\n",
       "    <tr style=\"text-align: right;\">\n",
       "      <th></th>\n",
       "      <th>transaction_id</th>\n",
       "      <th>visitor_id</th>\n",
       "      <th>date</th>\n",
       "      <th>revenue</th>\n",
       "      <th>group</th>\n",
       "    </tr>\n",
       "  </thead>\n",
       "  <tbody>\n",
       "    <tr>\n",
       "      <th>0</th>\n",
       "      <td>3667963787</td>\n",
       "      <td>3312258926</td>\n",
       "      <td>2019-08-15</td>\n",
       "      <td>30.4</td>\n",
       "      <td>B</td>\n",
       "    </tr>\n",
       "    <tr>\n",
       "      <th>1</th>\n",
       "      <td>2804400009</td>\n",
       "      <td>3642806036</td>\n",
       "      <td>2019-08-15</td>\n",
       "      <td>15.2</td>\n",
       "      <td>B</td>\n",
       "    </tr>\n",
       "    <tr>\n",
       "      <th>2</th>\n",
       "      <td>2961555356</td>\n",
       "      <td>4069496402</td>\n",
       "      <td>2019-08-15</td>\n",
       "      <td>10.2</td>\n",
       "      <td>A</td>\n",
       "    </tr>\n",
       "  </tbody>\n",
       "</table>\n",
       "</div>"
      ],
      "text/plain": [
       "   transaction_id  visitor_id        date  revenue group\n",
       "0      3667963787  3312258926  2019-08-15     30.4     B\n",
       "1      2804400009  3642806036  2019-08-15     15.2     B\n",
       "2      2961555356  4069496402  2019-08-15     10.2     A"
      ]
     },
     "execution_count": 13,
     "metadata": {},
     "output_type": "execute_result"
    }
   ],
   "source": [
    "orders.head(3)"
   ]
  },
  {
   "cell_type": "markdown",
   "metadata": {},
   "source": [
    "### Graficos de ingresos acumulados."
   ]
  },
  {
   "cell_type": "code",
   "execution_count": 14,
   "metadata": {},
   "outputs": [
    {
     "data": {
      "text/html": [
       "<div>\n",
       "<style scoped>\n",
       "    .dataframe tbody tr th:only-of-type {\n",
       "        vertical-align: middle;\n",
       "    }\n",
       "\n",
       "    .dataframe tbody tr th {\n",
       "        vertical-align: top;\n",
       "    }\n",
       "\n",
       "    .dataframe thead th {\n",
       "        text-align: right;\n",
       "    }\n",
       "</style>\n",
       "<table border=\"1\" class=\"dataframe\">\n",
       "  <thead>\n",
       "    <tr style=\"text-align: right;\">\n",
       "      <th></th>\n",
       "      <th>date</th>\n",
       "      <th>group</th>\n",
       "      <th>revenue</th>\n",
       "      <th>cumulative_revenue</th>\n",
       "    </tr>\n",
       "  </thead>\n",
       "  <tbody>\n",
       "    <tr>\n",
       "      <th>0</th>\n",
       "      <td>2019-08-01</td>\n",
       "      <td>A</td>\n",
       "      <td>2356.8</td>\n",
       "      <td>2356.8</td>\n",
       "    </tr>\n",
       "    <tr>\n",
       "      <th>1</th>\n",
       "      <td>2019-08-01</td>\n",
       "      <td>B</td>\n",
       "      <td>1620.0</td>\n",
       "      <td>1620.0</td>\n",
       "    </tr>\n",
       "    <tr>\n",
       "      <th>2</th>\n",
       "      <td>2019-08-02</td>\n",
       "      <td>A</td>\n",
       "      <td>1503.5</td>\n",
       "      <td>3860.3</td>\n",
       "    </tr>\n",
       "    <tr>\n",
       "      <th>3</th>\n",
       "      <td>2019-08-02</td>\n",
       "      <td>B</td>\n",
       "      <td>2623.8</td>\n",
       "      <td>4243.8</td>\n",
       "    </tr>\n",
       "    <tr>\n",
       "      <th>4</th>\n",
       "      <td>2019-08-03</td>\n",
       "      <td>A</td>\n",
       "      <td>1815.2</td>\n",
       "      <td>5675.5</td>\n",
       "    </tr>\n",
       "  </tbody>\n",
       "</table>\n",
       "</div>"
      ],
      "text/plain": [
       "         date group  revenue  cumulative_revenue\n",
       "0  2019-08-01     A   2356.8              2356.8\n",
       "1  2019-08-01     B   1620.0              1620.0\n",
       "2  2019-08-02     A   1503.5              3860.3\n",
       "3  2019-08-02     B   2623.8              4243.8\n",
       "4  2019-08-03     A   1815.2              5675.5"
      ]
     },
     "metadata": {},
     "output_type": "display_data"
    }
   ],
   "source": [
    "daily_orders = orders.groupby(['date', 'group'])['revenue'].sum().reset_index()\n",
    "\n",
    "daily_orders['cumulative_revenue'] = daily_orders.sort_values(by = 'date').groupby('group')['revenue'].cumsum()\n",
    "display(daily_orders.head(5))\n"
   ]
  },
  {
   "cell_type": "code",
   "execution_count": 15,
   "metadata": {},
   "outputs": [
    {
     "data": {
      "image/png": "[encoded data removed]",
      "text/plain": [
       "<Figure size 640x480 with 1 Axes>"
      ]
     },
     "metadata": {},
     "output_type": "display_data"
    }
   ],
   "source": [
    "daily_orders.pivot_table(\n",
    "    index = 'date',\n",
    "    columns = 'group',\n",
    "    values = 'cumulative_revenue',\n",
    "    aggfunc = 'mean'\n",
    ").plot(\n",
    "    kind = 'line'\n",
    ")\n",
    "\n",
    "plt.title('Ventas acumuladas')\n",
    "plt.xlabel('Fecha')\n",
    "plt.ylabel('Ventas acumuladas')\n",
    "plt.xticks(rotation = 45)\n",
    "\n",
    "plt.show()"
   ]
  },
  {
   "cell_type": "markdown",
   "metadata": {},
   "source": [
    "#### Conclusiones Gráficos de ingresos acumulados."
   ]
  },
  {
   "cell_type": "markdown",
   "metadata": {},
   "source": [
    "En el gráfico de ingresos acumulados podemos ver que el grupo \"B\" supera al grupo \"A\" sin embargo, poco después de la fecha del 16 de agosto hay una subida repentina que podría ser un dato atípico que afecte al resultado final."
   ]
  },
  {
   "cell_type": "markdown",
   "metadata": {},
   "source": [
    "<div class=\"alert alert-block alert-success\">\n",
    "<b>Comentario del revisor (1ra Iteracion)</b> <a class=“tocSkip”></a>\n",
    "\n",
    "Buen trabajo, la visualización deja ver la diferencia claramente\n",
    "</div>"
   ]
  },
  {
   "cell_type": "markdown",
   "metadata": {},
   "source": [
    "### Tamaño promedio por grupo acumulado."
   ]
  },
  {
   "cell_type": "code",
   "execution_count": 16,
   "metadata": {},
   "outputs": [
    {
     "data": {
      "image/png": "[encoded data removed]",
      "text/plain": [
       "<Figure size 640x480 with 1 Axes>"
      ]
     },
     "metadata": {},
     "output_type": "display_data"
    }
   ],
   "source": [
    "daily_average_orders = (\n",
    "    orders\n",
    "    .groupby(['date', 'group'])\n",
    "    .agg({'visitor_id': 'nunique',\n",
    "          'revenue': 'sum'                  \n",
    "    })\n",
    "    .reset_index()\n",
    "    .rename(columns = {\n",
    "        'visitor_id': 'n_buyers'\n",
    "    })\n",
    ")\n",
    "\n",
    "daily_average_orders['cumulative_buyers'] = daily_average_orders.sort_values(by = 'date').groupby('group')['n_buyers'].cumsum()\n",
    "daily_average_orders['cumulative_revenue'] = daily_average_orders.sort_values(by = 'date').groupby('group')['revenue'].cumsum()\n",
    "\n",
    "daily_average_orders['average_revenue'] = daily_average_orders['cumulative_revenue'] / daily_average_orders['cumulative_buyers']\n",
    "\n",
    "daily_average_orders_by_group = (\n",
    "    daily_average_orders\n",
    "    .pivot_table(\n",
    "        index = 'date',\n",
    "        columns = 'group',\n",
    "        values = 'average_revenue'\n",
    "    )\n",
    ")\n",
    "\n",
    "daily_average_orders_by_group.plot(kind = 'line')\n",
    "\n",
    "plt.title('Tamaño promedio por grupo')\n",
    "plt.xlabel('Fecha')\n",
    "plt.ylabel('Promedio por grupo')\n",
    "plt.xticks(rotation = 45)\n",
    "\n",
    "plt.show()"
   ]
  },
  {
   "cell_type": "markdown",
   "metadata": {},
   "source": [
    "#### Conclusiones tamaño promedio por grupo acumulado."
   ]
  },
  {
   "cell_type": "markdown",
   "metadata": {},
   "source": [
    "Al igual que en el gráfico anterior, poco después del 16 de agosto podemos ver una subida brusca que refuerza la idea de datos atiípicos."
   ]
  },
  {
   "cell_type": "markdown",
   "metadata": {},
   "source": [
    "### Diferencia relativa entre el tamaño de pedido promedio acumulado para el grupo B en comparación con el grupo A."
   ]
  },
  {
   "cell_type": "code",
   "execution_count": 17,
   "metadata": {},
   "outputs": [
    {
     "data": {
      "text/html": [
       "<div>\n",
       "<style scoped>\n",
       "    .dataframe tbody tr th:only-of-type {\n",
       "        vertical-align: middle;\n",
       "    }\n",
       "\n",
       "    .dataframe tbody tr th {\n",
       "        vertical-align: top;\n",
       "    }\n",
       "\n",
       "    .dataframe thead th {\n",
       "        text-align: right;\n",
       "    }\n",
       "</style>\n",
       "<table border=\"1\" class=\"dataframe\">\n",
       "  <thead>\n",
       "    <tr style=\"text-align: right;\">\n",
       "      <th>group</th>\n",
       "      <th>A</th>\n",
       "      <th>B</th>\n",
       "    </tr>\n",
       "    <tr>\n",
       "      <th>date</th>\n",
       "      <th></th>\n",
       "      <th></th>\n",
       "    </tr>\n",
       "  </thead>\n",
       "  <tbody>\n",
       "    <tr>\n",
       "      <th>2019-08-01</th>\n",
       "      <td>117.840000</td>\n",
       "      <td>81.000000</td>\n",
       "    </tr>\n",
       "    <tr>\n",
       "      <th>2019-08-02</th>\n",
       "      <td>98.982051</td>\n",
       "      <td>98.693023</td>\n",
       "    </tr>\n",
       "  </tbody>\n",
       "</table>\n",
       "</div>"
      ],
      "text/plain": [
       "group                A          B\n",
       "date                             \n",
       "2019-08-01  117.840000  81.000000\n",
       "2019-08-02   98.982051  98.693023"
      ]
     },
     "execution_count": 17,
     "metadata": {},
     "output_type": "execute_result"
    }
   ],
   "source": [
    "daily_average_orders_by_group.head(2)"
   ]
  },
  {
   "cell_type": "code",
   "execution_count": 18,
   "metadata": {},
   "outputs": [
    {
     "data": {
      "image/png": "[encoded data removed]",
      "text/plain": [
       "<Figure size 1000x600 with 1 Axes>"
      ]
     },
     "metadata": {},
     "output_type": "display_data"
    }
   ],
   "source": [
    "daily_average_orders_by_group['relative_changes'] = (\n",
    "    daily_average_orders_by_group['B'] / daily_average_orders_by_group['A']\n",
    ") -1 \n",
    "\n",
    "plt.figure(figsize=(10, 6))\n",
    "plt.plot(daily_average_orders_by_group.index, daily_average_orders_by_group['relative_changes'], marker='')\n",
    "plt.title('Cambio Relativo B/A - 1')\n",
    "plt.xlabel('Fecha')\n",
    "plt.ylabel('Cambio Relativo')\n",
    "plt.grid(True)\n",
    "plt.axhline(y = 0, color = 'black', linestyle = '--')\n",
    "plt.xticks(rotation = 45)\n",
    "\n",
    "plt.show()"
   ]
  },
  {
   "cell_type": "markdown",
   "metadata": {},
   "source": [
    "#### Conclusiones del tamaño de pedido promedio acumulado para el grupo B en comparación con el grupo A."
   ]
  },
  {
   "cell_type": "markdown",
   "metadata": {},
   "source": [
    "En la diferencia relativa podemos ver el mismo valor atípico cerca de la misma fecha que nos confirma que algo paso. Esto podría deberse a una compra o tal vez en este momento el equipo de ventas realizó algo diferente que ayudó a que las ventas aumentaran."
   ]
  },
  {
   "cell_type": "markdown",
   "metadata": {},
   "source": [
    "### Tasa de conversión de cada grupo y la relación entre los pedidos y el número de visitas de cada día."
   ]
  },
  {
   "cell_type": "markdown",
   "metadata": {},
   "source": [
    "#### Relación pedidos y visitas por día."
   ]
  },
  {
   "cell_type": "code",
   "execution_count": 19,
   "metadata": {},
   "outputs": [
    {
     "data": {
      "text/html": [
       "<div>\n",
       "<style scoped>\n",
       "    .dataframe tbody tr th:only-of-type {\n",
       "        vertical-align: middle;\n",
       "    }\n",
       "\n",
       "    .dataframe tbody tr th {\n",
       "        vertical-align: top;\n",
       "    }\n",
       "\n",
       "    .dataframe thead th {\n",
       "        text-align: right;\n",
       "    }\n",
       "</style>\n",
       "<table border=\"1\" class=\"dataframe\">\n",
       "  <thead>\n",
       "    <tr style=\"text-align: right;\">\n",
       "      <th></th>\n",
       "      <th>date</th>\n",
       "      <th>group</th>\n",
       "      <th>visits</th>\n",
       "      <th>n_buyers</th>\n",
       "      <th>conversion_rate</th>\n",
       "      <th>cumulative_buyers</th>\n",
       "      <th>cumulative_visits</th>\n",
       "      <th>cumulative_conversion</th>\n",
       "    </tr>\n",
       "  </thead>\n",
       "  <tbody>\n",
       "    <tr>\n",
       "      <th>0</th>\n",
       "      <td>2019-08-01</td>\n",
       "      <td>A</td>\n",
       "      <td>719</td>\n",
       "      <td>20</td>\n",
       "      <td>0.027816</td>\n",
       "      <td>20</td>\n",
       "      <td>719</td>\n",
       "      <td>0.027816</td>\n",
       "    </tr>\n",
       "    <tr>\n",
       "      <th>1</th>\n",
       "      <td>2019-08-01</td>\n",
       "      <td>B</td>\n",
       "      <td>713</td>\n",
       "      <td>20</td>\n",
       "      <td>0.028050</td>\n",
       "      <td>20</td>\n",
       "      <td>713</td>\n",
       "      <td>0.028050</td>\n",
       "    </tr>\n",
       "    <tr>\n",
       "      <th>2</th>\n",
       "      <td>2019-08-02</td>\n",
       "      <td>A</td>\n",
       "      <td>619</td>\n",
       "      <td>19</td>\n",
       "      <td>0.030695</td>\n",
       "      <td>39</td>\n",
       "      <td>1338</td>\n",
       "      <td>0.029148</td>\n",
       "    </tr>\n",
       "    <tr>\n",
       "      <th>3</th>\n",
       "      <td>2019-08-02</td>\n",
       "      <td>B</td>\n",
       "      <td>581</td>\n",
       "      <td>23</td>\n",
       "      <td>0.039587</td>\n",
       "      <td>43</td>\n",
       "      <td>1294</td>\n",
       "      <td>0.033230</td>\n",
       "    </tr>\n",
       "    <tr>\n",
       "      <th>4</th>\n",
       "      <td>2019-08-03</td>\n",
       "      <td>A</td>\n",
       "      <td>507</td>\n",
       "      <td>24</td>\n",
       "      <td>0.047337</td>\n",
       "      <td>63</td>\n",
       "      <td>1845</td>\n",
       "      <td>0.034146</td>\n",
       "    </tr>\n",
       "  </tbody>\n",
       "</table>\n",
       "</div>"
      ],
      "text/plain": [
       "         date group  visits  n_buyers  conversion_rate  cumulative_buyers  \\\n",
       "0  2019-08-01     A     719        20         0.027816                 20   \n",
       "1  2019-08-01     B     713        20         0.028050                 20   \n",
       "2  2019-08-02     A     619        19         0.030695                 39   \n",
       "3  2019-08-02     B     581        23         0.039587                 43   \n",
       "4  2019-08-03     A     507        24         0.047337                 63   \n",
       "\n",
       "   cumulative_visits  cumulative_conversion  \n",
       "0                719               0.027816  \n",
       "1                713               0.028050  \n",
       "2               1338               0.029148  \n",
       "3               1294               0.033230  \n",
       "4               1845               0.034146  "
      ]
     },
     "execution_count": 19,
     "metadata": {},
     "output_type": "execute_result"
    }
   ],
   "source": [
    "orders_visits_merged = orders.merge(\n",
    "    visits,\n",
    "    on = ['date', 'group'],\n",
    "    how = 'inner'\n",
    ")\n",
    "\n",
    "orders_visits_merged['d'] = orders_visits_merged['visitor_id']\n",
    "\n",
    "orders_visits_grouped = (\n",
    "    orders_visits_merged\n",
    "    .sort_values(by = 'date')\n",
    "    .groupby(['date', 'group', 'visits'])\n",
    "    .agg({'d': 'nunique',\n",
    "         \n",
    "         })\n",
    "    .reset_index()\n",
    "    .rename(columns = {\n",
    "        'd': 'n_buyers'\n",
    "    })\n",
    ")\n",
    "\n",
    "orders_visits_grouped['conversion_rate'] = (\n",
    "    orders_visits_grouped['n_buyers']\n",
    "    / orders_visits_grouped['visits']\n",
    ")\n",
    "\n",
    "orders_visits_grouped['cumulative_buyers'] = (\n",
    "    orders_visits_grouped\n",
    "    .sort_values(by = 'date')\n",
    "    .groupby('group')['n_buyers']\n",
    "    .cumsum()\n",
    ")\n",
    "\n",
    "orders_visits_grouped['cumulative_visits'] = (\n",
    "    orders_visits_grouped\n",
    "    .sort_values(by = 'date')\n",
    "    .groupby('group')['visits']\n",
    "    .cumsum()\n",
    ")\n",
    "\n",
    "orders_visits_grouped['cumulative_conversion'] = (\n",
    "    orders_visits_grouped['cumulative_buyers']\n",
    "    / orders_visits_grouped['cumulative_visits']\n",
    ")\n",
    "\n",
    "orders_visits_grouped.head(5)"
   ]
  },
  {
   "cell_type": "code",
   "execution_count": 20,
   "metadata": {},
   "outputs": [
    {
     "data": {
      "text/html": [
       "<div>\n",
       "<style scoped>\n",
       "    .dataframe tbody tr th:only-of-type {\n",
       "        vertical-align: middle;\n",
       "    }\n",
       "\n",
       "    .dataframe tbody tr th {\n",
       "        vertical-align: top;\n",
       "    }\n",
       "\n",
       "    .dataframe thead th {\n",
       "        text-align: right;\n",
       "    }\n",
       "</style>\n",
       "<table border=\"1\" class=\"dataframe\">\n",
       "  <thead>\n",
       "    <tr style=\"text-align: right;\">\n",
       "      <th></th>\n",
       "      <th>transaction_id</th>\n",
       "      <th>visitor_id</th>\n",
       "      <th>date</th>\n",
       "      <th>revenue</th>\n",
       "      <th>group</th>\n",
       "      <th>visits</th>\n",
       "      <th>d</th>\n",
       "    </tr>\n",
       "  </thead>\n",
       "  <tbody>\n",
       "    <tr>\n",
       "      <th>0</th>\n",
       "      <td>3667963787</td>\n",
       "      <td>3312258926</td>\n",
       "      <td>2019-08-15</td>\n",
       "      <td>30.4</td>\n",
       "      <td>B</td>\n",
       "      <td>544</td>\n",
       "      <td>3312258926</td>\n",
       "    </tr>\n",
       "    <tr>\n",
       "      <th>1</th>\n",
       "      <td>2804400009</td>\n",
       "      <td>3642806036</td>\n",
       "      <td>2019-08-15</td>\n",
       "      <td>15.2</td>\n",
       "      <td>B</td>\n",
       "      <td>544</td>\n",
       "      <td>3642806036</td>\n",
       "    </tr>\n",
       "    <tr>\n",
       "      <th>2</th>\n",
       "      <td>3797467345</td>\n",
       "      <td>1196621759</td>\n",
       "      <td>2019-08-15</td>\n",
       "      <td>155.1</td>\n",
       "      <td>B</td>\n",
       "      <td>544</td>\n",
       "      <td>1196621759</td>\n",
       "    </tr>\n",
       "    <tr>\n",
       "      <th>3</th>\n",
       "      <td>2282983706</td>\n",
       "      <td>2322279887</td>\n",
       "      <td>2019-08-15</td>\n",
       "      <td>40.5</td>\n",
       "      <td>B</td>\n",
       "      <td>544</td>\n",
       "      <td>2322279887</td>\n",
       "    </tr>\n",
       "    <tr>\n",
       "      <th>4</th>\n",
       "      <td>182168103</td>\n",
       "      <td>935554773</td>\n",
       "      <td>2019-08-15</td>\n",
       "      <td>35.0</td>\n",
       "      <td>B</td>\n",
       "      <td>544</td>\n",
       "      <td>935554773</td>\n",
       "    </tr>\n",
       "    <tr>\n",
       "      <th>...</th>\n",
       "      <td>...</td>\n",
       "      <td>...</td>\n",
       "      <td>...</td>\n",
       "      <td>...</td>\n",
       "      <td>...</td>\n",
       "      <td>...</td>\n",
       "      <td>...</td>\n",
       "    </tr>\n",
       "    <tr>\n",
       "      <th>1192</th>\n",
       "      <td>2274188238</td>\n",
       "      <td>132143192</td>\n",
       "      <td>2019-08-14</td>\n",
       "      <td>15.5</td>\n",
       "      <td>A</td>\n",
       "      <td>735</td>\n",
       "      <td>132143192</td>\n",
       "    </tr>\n",
       "    <tr>\n",
       "      <th>1193</th>\n",
       "      <td>1692103379</td>\n",
       "      <td>1022829655</td>\n",
       "      <td>2019-08-14</td>\n",
       "      <td>5.7</td>\n",
       "      <td>A</td>\n",
       "      <td>735</td>\n",
       "      <td>1022829655</td>\n",
       "    </tr>\n",
       "    <tr>\n",
       "      <th>1194</th>\n",
       "      <td>2203539145</td>\n",
       "      <td>370388673</td>\n",
       "      <td>2019-08-14</td>\n",
       "      <td>50.1</td>\n",
       "      <td>A</td>\n",
       "      <td>735</td>\n",
       "      <td>370388673</td>\n",
       "    </tr>\n",
       "    <tr>\n",
       "      <th>1195</th>\n",
       "      <td>1807773912</td>\n",
       "      <td>573423106</td>\n",
       "      <td>2019-08-14</td>\n",
       "      <td>165.3</td>\n",
       "      <td>A</td>\n",
       "      <td>735</td>\n",
       "      <td>573423106</td>\n",
       "    </tr>\n",
       "    <tr>\n",
       "      <th>1196</th>\n",
       "      <td>1947021204</td>\n",
       "      <td>1614305549</td>\n",
       "      <td>2019-08-14</td>\n",
       "      <td>5.5</td>\n",
       "      <td>A</td>\n",
       "      <td>735</td>\n",
       "      <td>1614305549</td>\n",
       "    </tr>\n",
       "  </tbody>\n",
       "</table>\n",
       "<p>1197 rows × 7 columns</p>\n",
       "</div>"
      ],
      "text/plain": [
       "      transaction_id  visitor_id        date  revenue group  visits  \\\n",
       "0         3667963787  3312258926  2019-08-15     30.4     B     544   \n",
       "1         2804400009  3642806036  2019-08-15     15.2     B     544   \n",
       "2         3797467345  1196621759  2019-08-15    155.1     B     544   \n",
       "3         2282983706  2322279887  2019-08-15     40.5     B     544   \n",
       "4          182168103   935554773  2019-08-15     35.0     B     544   \n",
       "...              ...         ...         ...      ...   ...     ...   \n",
       "1192      2274188238   132143192  2019-08-14     15.5     A     735   \n",
       "1193      1692103379  1022829655  2019-08-14      5.7     A     735   \n",
       "1194      2203539145   370388673  2019-08-14     50.1     A     735   \n",
       "1195      1807773912   573423106  2019-08-14    165.3     A     735   \n",
       "1196      1947021204  1614305549  2019-08-14      5.5     A     735   \n",
       "\n",
       "               d  \n",
       "0     3312258926  \n",
       "1     3642806036  \n",
       "2     1196621759  \n",
       "3     2322279887  \n",
       "4      935554773  \n",
       "...          ...  \n",
       "1192   132143192  \n",
       "1193  1022829655  \n",
       "1194   370388673  \n",
       "1195   573423106  \n",
       "1196  1614305549  \n",
       "\n",
       "[1197 rows x 7 columns]"
      ]
     },
     "execution_count": 20,
     "metadata": {},
     "output_type": "execute_result"
    }
   ],
   "source": [
    "orders_visits_merged"
   ]
  },
  {
   "cell_type": "code",
   "execution_count": 21,
   "metadata": {},
   "outputs": [
    {
     "data": {
      "image/png": "[encoded data removed]",
      "text/plain": [
       "<Figure size 640x480 with 1 Axes>"
      ]
     },
     "metadata": {},
     "output_type": "display_data"
    }
   ],
   "source": [
    "conversion_group_A = orders_visits_grouped[orders_visits_grouped['group'] == 'A']\n",
    "conversion_group_B = orders_visits_grouped[orders_visits_grouped['group'] == 'B']\n",
    "\n",
    "plt.plot(conversion_group_A['date'], conversion_group_A['conversion_rate'], label='Conversión A')\n",
    "plt.plot(conversion_group_B['date'], conversion_group_B['conversion_rate'], label='Conversión B')\n",
    "\n",
    "plt.title('Comparación de conversión entre grupos')\n",
    "plt.xlabel('Fecha')\n",
    "plt.ylabel('Ratio de conversión')\n",
    "plt.legend(title='Grupos')\n",
    "plt.grid(True)\n",
    "plt.xticks(rotation = 60)\n",
    "\n",
    "plt.show()"
   ]
  },
  {
   "cell_type": "code",
   "execution_count": 22,
   "metadata": {},
   "outputs": [
    {
     "data": {
      "image/png": "[encoded data removed]",
      "text/plain": [
       "<Figure size 640x480 with 1 Axes>"
      ]
     },
     "metadata": {},
     "output_type": "display_data"
    }
   ],
   "source": [
    "conversion_group_A = orders_visits_grouped[orders_visits_grouped['group'] == 'A']\n",
    "conversion_group_B = orders_visits_grouped[orders_visits_grouped['group'] == 'B']\n",
    "\n",
    "plt.plot(conversion_group_A['date'], conversion_group_A['cumulative_conversion'], label='Conversión A')\n",
    "plt.plot(conversion_group_B['date'], conversion_group_B['cumulative_conversion'], label='Conversión B')\n",
    "\n",
    "plt.title('Comparación de conversión acumulada entre grupos')\n",
    "plt.xlabel('Fecha')\n",
    "plt.ylabel('Ratio de conversión')\n",
    "plt.legend(title='Grupos')\n",
    "plt.grid(True)\n",
    "plt.xticks(rotation = 60)\n",
    "\n",
    "plt.show()"
   ]
  },
  {
   "cell_type": "markdown",
   "metadata": {},
   "source": [
    "#### Conversión por grupo."
   ]
  },
  {
   "cell_type": "code",
   "execution_count": 23,
   "metadata": {},
   "outputs": [
    {
     "data": {
      "text/html": [
       "<div>\n",
       "<style scoped>\n",
       "    .dataframe tbody tr th:only-of-type {\n",
       "        vertical-align: middle;\n",
       "    }\n",
       "\n",
       "    .dataframe tbody tr th {\n",
       "        vertical-align: top;\n",
       "    }\n",
       "\n",
       "    .dataframe thead th {\n",
       "        text-align: right;\n",
       "    }\n",
       "</style>\n",
       "<table border=\"1\" class=\"dataframe\">\n",
       "  <thead>\n",
       "    <tr style=\"text-align: right;\">\n",
       "      <th></th>\n",
       "      <th>n_buyers</th>\n",
       "      <th>visits</th>\n",
       "      <th>conversion_by_group</th>\n",
       "    </tr>\n",
       "    <tr>\n",
       "      <th>group</th>\n",
       "      <th></th>\n",
       "      <th></th>\n",
       "      <th></th>\n",
       "    </tr>\n",
       "  </thead>\n",
       "  <tbody>\n",
       "    <tr>\n",
       "      <th>A</th>\n",
       "      <td>543</td>\n",
       "      <td>18736</td>\n",
       "      <td>0.028982</td>\n",
       "    </tr>\n",
       "    <tr>\n",
       "      <th>B</th>\n",
       "      <td>628</td>\n",
       "      <td>18916</td>\n",
       "      <td>0.033199</td>\n",
       "    </tr>\n",
       "  </tbody>\n",
       "</table>\n",
       "</div>"
      ],
      "text/plain": [
       "       n_buyers  visits  conversion_by_group\n",
       "group                                       \n",
       "A           543   18736             0.028982\n",
       "B           628   18916             0.033199"
      ]
     },
     "execution_count": 23,
     "metadata": {},
     "output_type": "execute_result"
    }
   ],
   "source": [
    "conversion_by_group = (\n",
    "    orders_visits_grouped\n",
    "    .groupby('group')\n",
    "    .agg({'n_buyers': 'sum',\n",
    "         'visits': 'sum'})\n",
    ")\n",
    "conversion_by_group['conversion_by_group'] = conversion_by_group['n_buyers'] / conversion_by_group['visits']\n",
    "\n",
    "conversion_by_group"
   ]
  },
  {
   "cell_type": "markdown",
   "metadata": {},
   "source": [
    "#### Conclusión de tasa de conversión por grupo y relación."
   ]
  },
  {
   "cell_type": "markdown",
   "metadata": {},
   "source": [
    "En el gráfico de cambios de conversión entre grupos podemos ver líneas que en general van muy similares, enn cuanto al gráfico de conversión acumulada el grupo \"B\" se mantiene por arriba del \"A\". Con esta metrica, no parece haber un cambio significativo en la fecha que habíamos visto previamente.\n",
    "\n",
    "También podemos ver que en el total por grupo la conversión es muy similar, practicamente igual."
   ]
  },
  {
   "cell_type": "markdown",
   "metadata": {},
   "source": [
    "### Gráfico de dispersión del número de pedidos por usuario."
   ]
  },
  {
   "cell_type": "code",
   "execution_count": 24,
   "metadata": {},
   "outputs": [
    {
     "data": {
      "text/plain": [
       "<AxesSubplot:xlabel='A', ylabel='B'>"
      ]
     },
     "execution_count": 24,
     "metadata": {},
     "output_type": "execute_result"
    },
    {
     "data": {
      "image/png": "[encoded data removed]",
      "text/plain": [
       "<Figure size 640x480 with 1 Axes>"
      ]
     },
     "metadata": {},
     "output_type": "display_data"
    }
   ],
   "source": [
    "orders_visits_grouped.pivot_table(\n",
    "    index = 'date',\n",
    "    columns = 'group',\n",
    "    values = 'n_buyers'\n",
    ").plot(kind = 'scatter', x = \"A\", y = \"B\")"
   ]
  },
  {
   "cell_type": "code",
   "execution_count": 25,
   "metadata": {},
   "outputs": [
    {
     "data": {
      "image/png": "[encoded data removed]",
      "text/plain": [
       "<Figure size 640x480 with 1 Axes>"
      ]
     },
     "metadata": {},
     "output_type": "display_data"
    }
   ],
   "source": [
    "n_orders_by_user = (\n",
    "    orders\n",
    "    .groupby('visitor_id')['transaction_id']\n",
    "    .count()\n",
    "    .reset_index()\n",
    "    .rename(columns = {\n",
    "        'transaction_id': 'total_orders'\n",
    "    })\n",
    ")\n",
    "\n",
    "n_orders_by_user.plot(kind = 'scatter', x = 'visitor_id', y = 'total_orders')\n",
    "\n",
    "plt.title('Pedidos por usuario')\n",
    "plt.xlabel('Usuarios')\n",
    "plt.ylabel('Total de pedidos')\n",
    "\n",
    "plt.show()"
   ]
  },
  {
   "cell_type": "markdown",
   "metadata": {},
   "source": [
    "#### Conclusión del número de pedidos por usuario."
   ]
  },
  {
   "cell_type": "markdown",
   "metadata": {},
   "source": [
    "Podemos ver que los pedidos por usuario suelen ser de 3 o menos mientras que solo pocos realizan 5 o más."
   ]
  },
  {
   "cell_type": "markdown",
   "metadata": {},
   "source": [
    "<div class=\"alert alert-block alert-success\">\n",
    "<b>Comentario del revisor (1ra Iteracion)</b> <a class=“tocSkip”></a>\n",
    "\n",
    "Excelente trabajo con las visualizaciones y conclusiones desde las mismas, se pueden ver de manera correcta las diferencias entre grupos\n",
    "</div>"
   ]
  },
  {
   "cell_type": "markdown",
   "metadata": {},
   "source": [
    "### Percentiles 95 y 99 del número de pedidos por usuario."
   ]
  },
  {
   "cell_type": "code",
   "execution_count": 26,
   "metadata": {},
   "outputs": [
    {
     "name": "stdout",
     "output_type": "stream",
     "text": [
      "La cantidad de usuarios que se encuentran dentro del 95% en realización de pedidos o menos son: 2.0\n",
      "La cantidad de usuarios que se encuentran dentro del 99% en realización de pedidos o menos son: 4.0\n"
     ]
    }
   ],
   "source": [
    "print(f'La cantidad de usuarios que se encuentran dentro del 95% en realización de pedidos o menos son: {np.percentile(n_orders_by_user[\"total_orders\"],[95])[0]}')\n",
    "print(f'La cantidad de usuarios que se encuentran dentro del 99% en realización de pedidos o menos son: {np.percentile(n_orders_by_user[\"total_orders\"],[99])[0]}')\n"
   ]
  },
  {
   "cell_type": "markdown",
   "metadata": {},
   "source": [
    "#### Conclusiones de los percentiles de pedidos por usuario. "
   ]
  },
  {
   "cell_type": "markdown",
   "metadata": {},
   "source": [
    "Solo el 1% de los usuarios realizan más de 4 pedidos mientras que el resto realizan 4 o menos pedidos."
   ]
  },
  {
   "cell_type": "markdown",
   "metadata": {},
   "source": [
    "### Gráfico de dispersión de precios de los pedidos."
   ]
  },
  {
   "cell_type": "code",
   "execution_count": 27,
   "metadata": {},
   "outputs": [
    {
     "data": {
      "image/png": "[encoded data removed]",
      "text/plain": [
       "<Figure size 640x480 with 1 Axes>"
      ]
     },
     "metadata": {},
     "output_type": "display_data"
    }
   ],
   "source": [
    "revenue_by_orders = (\n",
    "    orders\n",
    "    .groupby(['visitor_id', 'transaction_id'])['revenue']\n",
    "    .sum()\n",
    "    .reset_index()\n",
    "    .rename(columns = {\n",
    "        'revenue': 'total_per_order'\n",
    "    })\n",
    ")\n",
    "\n",
    "revenue_by_orders.plot(kind = 'scatter', x = 'transaction_id', y = 'total_per_order')\n",
    "\n",
    "plt.title('Precios de los pedidos')\n",
    "plt.xlabel('Transacción')\n",
    "plt.ylabel('Total por pedido')\n",
    "\n",
    "plt.show()"
   ]
  },
  {
   "cell_type": "code",
   "execution_count": 28,
   "metadata": {},
   "outputs": [
    {
     "data": {
      "image/png": "[encoded data removed]",
      "text/plain": [
       "<Figure size 640x480 with 1 Axes>"
      ]
     },
     "metadata": {},
     "output_type": "display_data"
    }
   ],
   "source": [
    "revenue_by_orders.plot(kind = 'scatter', x = 'transaction_id', y = 'total_per_order')\n",
    "\n",
    "plt.title('Precios de los pedidos')\n",
    "plt.xlabel('Transacción')\n",
    "plt.ylabel('Total por pedido')\n",
    "plt.ylim(0, 3500)\n",
    "\n",
    "plt.show()"
   ]
  },
  {
   "cell_type": "markdown",
   "metadata": {},
   "source": [
    "#### Conclusiones de pedidos por usuario."
   ]
  },
  {
   "cell_type": "markdown",
   "metadata": {},
   "source": [
    "En una primera vista hay un pedido que va muy por encima del resto. Por esta razon se limitó en una segunda gráfica para obtener una vista sin este valor muy atípico. En la segúnda gráfica encontramos que la grán mayoría de los pedidos se encuentran por debajo del valor de $500."
   ]
  },
  {
   "cell_type": "markdown",
   "metadata": {},
   "source": [
    "### Percentiles 95 y 99 de precios de productos."
   ]
  },
  {
   "cell_type": "code",
   "execution_count": 29,
   "metadata": {},
   "outputs": [
    {
     "name": "stdout",
     "output_type": "stream",
     "text": [
      "El 95% de los pedidos son de: 435.54 o menos\n",
      "El 99% de los pedidos son de: 900.9039999999999 o menos\n"
     ]
    }
   ],
   "source": [
    "print(f'El 95% de los pedidos son de: {np.percentile(revenue_by_orders[\"total_per_order\"],[95])[0]} o menos')\n",
    "print(f'El 99% de los pedidos son de: {np.percentile(revenue_by_orders[\"total_per_order\"],[99])[0]} o menos')"
   ]
  },
  {
   "cell_type": "markdown",
   "metadata": {},
   "source": [
    "#### Conclusiones de los percentiles de precios de productos."
   ]
  },
  {
   "cell_type": "markdown",
   "metadata": {},
   "source": [
    "El 99% de los precios por pedidos se encuentran por debajo del valor de 900 mientras que el 95% están por debajo de 436."
   ]
  },
  {
   "cell_type": "markdown",
   "metadata": {},
   "source": [
    "<div class=\"alert alert-block alert-success\">\n",
    "<b>Comentario general (1ra Iteracion)</b> <a class=“tocSkip”></a>\n",
    "\n",
    "Buen trabajo revisando los percentiles, encontrar valores anómalos puede ser crucial al momento de mostrar métricas correctas\n",
    "</div>"
   ]
  },
  {
   "cell_type": "markdown",
   "metadata": {},
   "source": [
    "### Significancia estadística de conversión entre los grupos con los datos en bruto."
   ]
  },
  {
   "cell_type": "code",
   "execution_count": 30,
   "metadata": {},
   "outputs": [
    {
     "name": "stdout",
     "output_type": "stream",
     "text": [
      "El valor p de la tasa de conversión es: 0.08641354604901753\n",
      "No hay una diferencia significativa entre los grupos\n",
      "\n",
      "\n",
      "\n",
      "El valor p de la tasa de conversión acumulada es: 1.0838035743017294e-15\n",
      "Hay una diferencia significativa entre los grupos\n"
     ]
    }
   ],
   "source": [
    "alpha = 0.05\n",
    "\n",
    "t_stat, p_val = ttest_ind(\n",
    "    orders_visits_grouped.query('group == \"A\"')['conversion_rate'],\n",
    "    orders_visits_grouped.query('group == \"B\"')['conversion_rate']\n",
    ")\n",
    "print(f'El valor p de la tasa de conversión es: {p_val}')\n",
    "\n",
    "if p_val < alpha:\n",
    "    print(\"Hay una diferencia significativa entre los grupos\")\n",
    "else:\n",
    "    print(\"No hay una diferencia significativa entre los grupos\")\n",
    "\n",
    "print(\"\"\"\n",
    "\n",
    "\"\"\")\n",
    "    \n",
    "t_stat_cumulative, p_val_cumulative = ttest_ind(\n",
    "    orders_visits_grouped.query('group == \"A\"')['cumulative_conversion'],\n",
    "    orders_visits_grouped.query('group == \"B\"')['cumulative_conversion']\n",
    ")\n",
    "print(f'El valor p de la tasa de conversión acumulada es: {p_val_cumulative}')\n",
    "\n",
    "if p_val_cumulative < alpha:\n",
    "    print(\"Hay una diferencia significativa entre los grupos\")\n",
    "else:\n",
    "    print(\"No hay una diferencia significativa entre los grupos\")"
   ]
  },
  {
   "cell_type": "markdown",
   "metadata": {},
   "source": [
    "#### Conclusiones de la significancia estadística con datos en bruto."
   ]
  },
  {
   "cell_type": "markdown",
   "metadata": {},
   "source": [
    "Al buscar la significancia estadística en las tasas de conversión pudimos ver que no existe una diverencia en los grupos vistos por día, mientras que en la tasa acumulada sí."
   ]
  },
  {
   "cell_type": "markdown",
   "metadata": {},
   "source": [
    "### Significancia estadística del tamaño promedio de pedido de los grupos con los datos en bruto."
   ]
  },
  {
   "cell_type": "code",
   "execution_count": 31,
   "metadata": {},
   "outputs": [
    {
     "name": "stdout",
     "output_type": "stream",
     "text": [
      "El valor promedio por compras de \"\" es: total_sales_per_day    2082.416129\n",
      "dtype: float64\n",
      "El valor promedio por compras de \"\" es: total_sales_per_day    2994.858065\n",
      "dtype: float64\n",
      "El valor p de la tasa de conversión es: 0.18990653829346774\n",
      "\n",
      "\n",
      "No hay una diferencia significativa entre los grupos\n"
     ]
    }
   ],
   "source": [
    "orders_visits_revenue_merged = (\n",
    "    orders_visits_grouped\n",
    "    .merge(orders[['date','revenue', 'group']],\n",
    "          on = ['date', 'group'],\n",
    "          how = 'left'\n",
    "          )\n",
    ")\n",
    "\n",
    "orders_visits_revenue_grouped = (\n",
    "    orders_visits_revenue_merged\n",
    "    .groupby(['date', 'group'])['revenue']\n",
    "    .sum()\n",
    "    .reset_index()\n",
    "    .rename(columns = {\n",
    "        'revenue': 'total_sales_per_day'\n",
    "    })\n",
    ")\n",
    "\n",
    "sales_per_day_A = orders_visits_revenue_grouped[orders_visits_revenue_grouped['group'] == 'A'].mean()\n",
    "sales_per_day_B = orders_visits_revenue_grouped[orders_visits_revenue_grouped['group'] == 'B'].mean()\n",
    "\n",
    "ttest_revenue, p_val_revenue = ttest_ind(\n",
    "    orders_visits_revenue_grouped.query('group == \"A\"')['total_sales_per_day'],\n",
    "    orders_visits_revenue_grouped.query('group == \"B\"')['total_sales_per_day']    \n",
    ")\n",
    "print(f'El valor promedio por compras de \"\" es: {sales_per_day_A}')\n",
    "print(f'El valor promedio por compras de \"\" es: {sales_per_day_B}')\n",
    "print(f'El valor p de la tasa de conversión es: {p_val_revenue}')\n",
    "print(\"\"\"\n",
    "\"\"\")\n",
    "if p_val < alpha:\n",
    "    print(\"Hay una diferencia significativa entre los grupos\")\n",
    "else:\n",
    "    print(\"No hay una diferencia significativa entre los grupos\")"
   ]
  },
  {
   "cell_type": "markdown",
   "metadata": {},
   "source": [
    "#### Conclusiones de la significancia estadística del tamaño promedio de los grupos con los datos en bruto."
   ]
  },
  {
   "cell_type": "markdown",
   "metadata": {},
   "source": [
    "Se decidió realizar una prueba Wilcoxon-Mann-Whitney ya que notamos que había valores atípicos muy grandes y parecía ser una prueba más adaptada para este contexto. En las pruebas, parece no haber una diferencia sifnificativa."
   ]
  },
  {
   "cell_type": "markdown",
   "metadata": {},
   "source": [
    "<div class=\"alert alert-block alert-success\">\n",
    "<b>Comentario general (1ra Iteracion)</b> <a class=“tocSkip”></a>\n",
    "\n",
    "Buen trabajo aplicando las pruebas de hipótesis con los datos sin filtrar, veamos como resulta la misma prueba con los datos filtrados\n",
    "</div>"
   ]
  },
  {
   "cell_type": "markdown",
   "metadata": {},
   "source": [
    "### Significancia estadística de la diferencia en la conversión entre los grupos utilizando los datos filtrados."
   ]
  },
  {
   "cell_type": "code",
   "execution_count": 32,
   "metadata": {},
   "outputs": [
    {
     "data": {
      "text/html": [
       "<div>\n",
       "<style scoped>\n",
       "    .dataframe tbody tr th:only-of-type {\n",
       "        vertical-align: middle;\n",
       "    }\n",
       "\n",
       "    .dataframe tbody tr th {\n",
       "        vertical-align: top;\n",
       "    }\n",
       "\n",
       "    .dataframe thead th {\n",
       "        text-align: right;\n",
       "    }\n",
       "</style>\n",
       "<table border=\"1\" class=\"dataframe\">\n",
       "  <thead>\n",
       "    <tr style=\"text-align: right;\">\n",
       "      <th></th>\n",
       "      <th>visitor_id</th>\n",
       "      <th>total_orders</th>\n",
       "    </tr>\n",
       "  </thead>\n",
       "  <tbody>\n",
       "    <tr>\n",
       "      <th>0</th>\n",
       "      <td>5114589</td>\n",
       "      <td>1</td>\n",
       "    </tr>\n",
       "    <tr>\n",
       "      <th>1</th>\n",
       "      <td>6958315</td>\n",
       "      <td>1</td>\n",
       "    </tr>\n",
       "  </tbody>\n",
       "</table>\n",
       "</div>"
      ],
      "text/plain": [
       "   visitor_id  total_orders\n",
       "0     5114589             1\n",
       "1     6958315             1"
      ]
     },
     "metadata": {},
     "output_type": "display_data"
    },
    {
     "data": {
      "text/html": [
       "<div>\n",
       "<style scoped>\n",
       "    .dataframe tbody tr th:only-of-type {\n",
       "        vertical-align: middle;\n",
       "    }\n",
       "\n",
       "    .dataframe tbody tr th {\n",
       "        vertical-align: top;\n",
       "    }\n",
       "\n",
       "    .dataframe thead th {\n",
       "        text-align: right;\n",
       "    }\n",
       "</style>\n",
       "<table border=\"1\" class=\"dataframe\">\n",
       "  <thead>\n",
       "    <tr style=\"text-align: right;\">\n",
       "      <th></th>\n",
       "      <th>visitor_id</th>\n",
       "      <th>transaction_id</th>\n",
       "      <th>total_per_order</th>\n",
       "    </tr>\n",
       "  </thead>\n",
       "  <tbody>\n",
       "    <tr>\n",
       "      <th>0</th>\n",
       "      <td>5114589</td>\n",
       "      <td>900025958</td>\n",
       "      <td>10.8</td>\n",
       "    </tr>\n",
       "    <tr>\n",
       "      <th>1</th>\n",
       "      <td>6958315</td>\n",
       "      <td>1887336629</td>\n",
       "      <td>25.9</td>\n",
       "    </tr>\n",
       "  </tbody>\n",
       "</table>\n",
       "</div>"
      ],
      "text/plain": [
       "   visitor_id  transaction_id  total_per_order\n",
       "0     5114589       900025958             10.8\n",
       "1     6958315      1887336629             25.9"
      ]
     },
     "metadata": {},
     "output_type": "display_data"
    }
   ],
   "source": [
    "display(n_orders_by_user.head(2))\n",
    "display(revenue_by_orders.head(2))"
   ]
  },
  {
   "cell_type": "markdown",
   "metadata": {},
   "source": [
    "#### Primero realizaré una serie que contenga los datos anormales."
   ]
  },
  {
   "cell_type": "code",
   "execution_count": 33,
   "metadata": {},
   "outputs": [
    {
     "data": {
      "text/html": [
       "<div>\n",
       "<style scoped>\n",
       "    .dataframe tbody tr th:only-of-type {\n",
       "        vertical-align: middle;\n",
       "    }\n",
       "\n",
       "    .dataframe tbody tr th {\n",
       "        vertical-align: top;\n",
       "    }\n",
       "\n",
       "    .dataframe thead th {\n",
       "        text-align: right;\n",
       "    }\n",
       "</style>\n",
       "<table border=\"1\" class=\"dataframe\">\n",
       "  <thead>\n",
       "    <tr style=\"text-align: right;\">\n",
       "      <th></th>\n",
       "      <th>index</th>\n",
       "      <th>visitor_id</th>\n",
       "      <th>total_orders</th>\n",
       "      <th>transaction_id</th>\n",
       "      <th>total_per_order</th>\n",
       "    </tr>\n",
       "  </thead>\n",
       "  <tbody>\n",
       "    <tr>\n",
       "      <th>0</th>\n",
       "      <td>27</td>\n",
       "      <td>148427295</td>\n",
       "      <td>NaN</td>\n",
       "      <td>316924019.0</td>\n",
       "      <td>1015.9</td>\n",
       "    </tr>\n",
       "    <tr>\n",
       "      <th>1</th>\n",
       "      <td>44</td>\n",
       "      <td>199603092</td>\n",
       "      <td>5.0</td>\n",
       "      <td>NaN</td>\n",
       "      <td>NaN</td>\n",
       "    </tr>\n",
       "    <tr>\n",
       "      <th>2</th>\n",
       "      <td>55</td>\n",
       "      <td>237748145</td>\n",
       "      <td>5.0</td>\n",
       "      <td>NaN</td>\n",
       "      <td>NaN</td>\n",
       "    </tr>\n",
       "  </tbody>\n",
       "</table>\n",
       "</div>"
      ],
      "text/plain": [
       "   index  visitor_id  total_orders  transaction_id  total_per_order\n",
       "0     27   148427295           NaN     316924019.0           1015.9\n",
       "1     44   199603092           5.0             NaN              NaN\n",
       "2     55   237748145           5.0             NaN              NaN"
      ]
     },
     "metadata": {},
     "output_type": "display_data"
    },
    {
     "name": "stdout",
     "output_type": "stream",
     "text": [
      "(24, 5)\n"
     ]
    }
   ],
   "source": [
    "users_with_many_orders = (n_orders_by_user[n_orders_by_user['total_orders'] > 4])\n",
    "expensive_orders = (revenue_by_orders[revenue_by_orders['total_per_order'] > 900])\n",
    "\n",
    "abnormal_users = pd.concat([users_with_many_orders, expensive_orders], axis = 0).drop_duplicates().sort_values(by = 'visitor_id').reset_index()\n",
    "\n",
    "display(abnormal_users.head(3))\n",
    "print(abnormal_users.shape)"
   ]
  },
  {
   "cell_type": "markdown",
   "metadata": {},
   "source": [
    "#### Una vez que tengo los visitor_id con los valores atípicos realizaré un filtrado de las bases para dejar fuera aquellos usuarios arriba del 95%"
   ]
  },
  {
   "cell_type": "code",
   "execution_count": 34,
   "metadata": {},
   "outputs": [
    {
     "data": {
      "text/html": [
       "<div>\n",
       "<style scoped>\n",
       "    .dataframe tbody tr th:only-of-type {\n",
       "        vertical-align: middle;\n",
       "    }\n",
       "\n",
       "    .dataframe tbody tr th {\n",
       "        vertical-align: top;\n",
       "    }\n",
       "\n",
       "    .dataframe thead th {\n",
       "        text-align: right;\n",
       "    }\n",
       "</style>\n",
       "<table border=\"1\" class=\"dataframe\">\n",
       "  <thead>\n",
       "    <tr style=\"text-align: right;\">\n",
       "      <th></th>\n",
       "      <th>transaction_id</th>\n",
       "      <th>visitor_id</th>\n",
       "      <th>date</th>\n",
       "      <th>revenue</th>\n",
       "      <th>group</th>\n",
       "      <th>visits</th>\n",
       "    </tr>\n",
       "  </thead>\n",
       "  <tbody>\n",
       "    <tr>\n",
       "      <th>0</th>\n",
       "      <td>3667963787</td>\n",
       "      <td>3312258926</td>\n",
       "      <td>2019-08-15</td>\n",
       "      <td>30.4</td>\n",
       "      <td>B</td>\n",
       "      <td>544</td>\n",
       "    </tr>\n",
       "    <tr>\n",
       "      <th>1</th>\n",
       "      <td>2804400009</td>\n",
       "      <td>3642806036</td>\n",
       "      <td>2019-08-15</td>\n",
       "      <td>15.2</td>\n",
       "      <td>B</td>\n",
       "      <td>544</td>\n",
       "    </tr>\n",
       "  </tbody>\n",
       "</table>\n",
       "</div>"
      ],
      "text/plain": [
       "   transaction_id  visitor_id        date  revenue group  visits\n",
       "0      3667963787  3312258926  2019-08-15     30.4     B     544\n",
       "1      2804400009  3642806036  2019-08-15     15.2     B     544"
      ]
     },
     "execution_count": 34,
     "metadata": {},
     "output_type": "execute_result"
    }
   ],
   "source": [
    "filtered_orders = (\n",
    "    orders[~orders['visitor_id'].isin(abnormal_users['visitor_id'])]\n",
    ") \n",
    "\n",
    "filtered_merge = (\n",
    "    filtered_orders\n",
    "    .merge(\n",
    "        visits,\n",
    "        on = ['date', 'group'],\n",
    "        how = 'left'     \n",
    "    )   \n",
    ")\n",
    "\n",
    "filtered_merge.head(2)"
   ]
  },
  {
   "cell_type": "code",
   "execution_count": 35,
   "metadata": {},
   "outputs": [
    {
     "data": {
      "text/html": [
       "<div>\n",
       "<style scoped>\n",
       "    .dataframe tbody tr th:only-of-type {\n",
       "        vertical-align: middle;\n",
       "    }\n",
       "\n",
       "    .dataframe tbody tr th {\n",
       "        vertical-align: top;\n",
       "    }\n",
       "\n",
       "    .dataframe thead th {\n",
       "        text-align: right;\n",
       "    }\n",
       "</style>\n",
       "<table border=\"1\" class=\"dataframe\">\n",
       "  <thead>\n",
       "    <tr style=\"text-align: right;\">\n",
       "      <th></th>\n",
       "      <th>date</th>\n",
       "      <th>group</th>\n",
       "      <th>visits</th>\n",
       "      <th>n_buyers</th>\n",
       "      <th>conversion_rate</th>\n",
       "      <th>cumulative_visits</th>\n",
       "      <th>cumulative_buyers</th>\n",
       "      <th>cumulative_conversion</th>\n",
       "    </tr>\n",
       "  </thead>\n",
       "  <tbody>\n",
       "    <tr>\n",
       "      <th>0</th>\n",
       "      <td>2019-08-01</td>\n",
       "      <td>A</td>\n",
       "      <td>719</td>\n",
       "      <td>19</td>\n",
       "      <td>0.026426</td>\n",
       "      <td>719</td>\n",
       "      <td>19</td>\n",
       "      <td>0.026426</td>\n",
       "    </tr>\n",
       "    <tr>\n",
       "      <th>1</th>\n",
       "      <td>2019-08-01</td>\n",
       "      <td>B</td>\n",
       "      <td>713</td>\n",
       "      <td>19</td>\n",
       "      <td>0.026648</td>\n",
       "      <td>713</td>\n",
       "      <td>19</td>\n",
       "      <td>0.026648</td>\n",
       "    </tr>\n",
       "    <tr>\n",
       "      <th>2</th>\n",
       "      <td>2019-08-02</td>\n",
       "      <td>A</td>\n",
       "      <td>619</td>\n",
       "      <td>19</td>\n",
       "      <td>0.030695</td>\n",
       "      <td>1338</td>\n",
       "      <td>38</td>\n",
       "      <td>0.028401</td>\n",
       "    </tr>\n",
       "    <tr>\n",
       "      <th>3</th>\n",
       "      <td>2019-08-02</td>\n",
       "      <td>B</td>\n",
       "      <td>581</td>\n",
       "      <td>22</td>\n",
       "      <td>0.037866</td>\n",
       "      <td>1294</td>\n",
       "      <td>41</td>\n",
       "      <td>0.031685</td>\n",
       "    </tr>\n",
       "    <tr>\n",
       "      <th>4</th>\n",
       "      <td>2019-08-03</td>\n",
       "      <td>A</td>\n",
       "      <td>507</td>\n",
       "      <td>24</td>\n",
       "      <td>0.047337</td>\n",
       "      <td>1845</td>\n",
       "      <td>62</td>\n",
       "      <td>0.033604</td>\n",
       "    </tr>\n",
       "  </tbody>\n",
       "</table>\n",
       "</div>"
      ],
      "text/plain": [
       "         date group  visits  n_buyers  conversion_rate  cumulative_visits  \\\n",
       "0  2019-08-01     A     719        19         0.026426                719   \n",
       "1  2019-08-01     B     713        19         0.026648                713   \n",
       "2  2019-08-02     A     619        19         0.030695               1338   \n",
       "3  2019-08-02     B     581        22         0.037866               1294   \n",
       "4  2019-08-03     A     507        24         0.047337               1845   \n",
       "\n",
       "   cumulative_buyers  cumulative_conversion  \n",
       "0                 19               0.026426  \n",
       "1                 19               0.026648  \n",
       "2                 38               0.028401  \n",
       "3                 41               0.031685  \n",
       "4                 62               0.033604  "
      ]
     },
     "execution_count": 35,
     "metadata": {},
     "output_type": "execute_result"
    }
   ],
   "source": [
    "buyers_filtered = (\n",
    "    filtered_merge\n",
    "    .sort_values(by = 'date')\n",
    "    .groupby(['date', 'group', 'visits'])\n",
    "    .agg({\n",
    "        'visitor_id': 'nunique'\n",
    "    })\n",
    "    .reset_index()\n",
    "    .rename(columns = {\n",
    "        'visitor_id': 'n_buyers'\n",
    "    })\n",
    ")\n",
    "\n",
    "buyers_filtered['conversion_rate'] = (\n",
    "    buyers_filtered['n_buyers']\n",
    "    / buyers_filtered['visits']\n",
    ")\n",
    "\n",
    "buyers_filtered['cumulative_visits'] = (\n",
    "    buyers_filtered\n",
    "    .sort_values(by = 'date')\n",
    "    .groupby('group')['visits']\n",
    "    .cumsum()\n",
    ")\n",
    "\n",
    "buyers_filtered['cumulative_buyers'] = (\n",
    "    buyers_filtered\n",
    "    .sort_values(by = 'date')\n",
    "    .groupby('group')['n_buyers']\n",
    "    .cumsum()\n",
    ")\n",
    "\n",
    "buyers_filtered['cumulative_conversion'] = (\n",
    "    buyers_filtered['cumulative_buyers']\n",
    "    / buyers_filtered['cumulative_visits']\n",
    ")\n",
    "buyers_filtered.head(5)"
   ]
  },
  {
   "cell_type": "markdown",
   "metadata": {},
   "source": [
    "#### Continuo a realizar la significancia estadística con la base filtrada."
   ]
  },
  {
   "cell_type": "code",
   "execution_count": 36,
   "metadata": {},
   "outputs": [
    {
     "name": "stdout",
     "output_type": "stream",
     "text": [
      "El valor p de la tasa de conversión acumulada es: 2.8766793566654224e-15\n",
      "Hay una diferencia significativa entre los grupos\n"
     ]
    }
   ],
   "source": [
    "t_stat_filtered, p_val_filtered = ttest_ind(\n",
    "    buyers_filtered.query('group == \"A\"')['cumulative_conversion'],\n",
    "    buyers_filtered.query('group == \"B\"')['cumulative_conversion']\n",
    ")\n",
    "print(f'El valor p de la tasa de conversión acumulada es: {p_val_filtered}')\n",
    "\n",
    "if p_val_filtered < alpha:\n",
    "    print(\"Hay una diferencia significativa entre los grupos\")\n",
    "else:\n",
    "    print(\"No hay una diferencia significativa entre los grupos\")"
   ]
  },
  {
   "cell_type": "markdown",
   "metadata": {},
   "source": [
    "#### Conclusiones de la significancia estadística de la diferencia en la conversión entre los grupos utilizando los datos filtrados."
   ]
  },
  {
   "cell_type": "markdown",
   "metadata": {},
   "source": [
    "La prueba ttest aplicada a la base con los datos filtrados muestra que sigue existiendo una diferencia significativa entre los dos grupos."
   ]
  },
  {
   "cell_type": "markdown",
   "metadata": {},
   "source": [
    "### Significancia estadística de la diferencia en el tamaño promedio de pedido entre los grupos utilizando los datos filtrados."
   ]
  },
  {
   "cell_type": "code",
   "execution_count": 37,
   "metadata": {},
   "outputs": [
    {
     "data": {
      "text/html": [
       "<div>\n",
       "<style scoped>\n",
       "    .dataframe tbody tr th:only-of-type {\n",
       "        vertical-align: middle;\n",
       "    }\n",
       "\n",
       "    .dataframe tbody tr th {\n",
       "        vertical-align: top;\n",
       "    }\n",
       "\n",
       "    .dataframe thead th {\n",
       "        text-align: right;\n",
       "    }\n",
       "</style>\n",
       "<table border=\"1\" class=\"dataframe\">\n",
       "  <thead>\n",
       "    <tr style=\"text-align: right;\">\n",
       "      <th></th>\n",
       "      <th>transaction_id</th>\n",
       "      <th>visitor_id</th>\n",
       "      <th>date</th>\n",
       "      <th>revenue</th>\n",
       "      <th>group</th>\n",
       "      <th>visits</th>\n",
       "    </tr>\n",
       "  </thead>\n",
       "  <tbody>\n",
       "    <tr>\n",
       "      <th>0</th>\n",
       "      <td>3667963787</td>\n",
       "      <td>3312258926</td>\n",
       "      <td>2019-08-15</td>\n",
       "      <td>30.4</td>\n",
       "      <td>B</td>\n",
       "      <td>544</td>\n",
       "    </tr>\n",
       "    <tr>\n",
       "      <th>1</th>\n",
       "      <td>2804400009</td>\n",
       "      <td>3642806036</td>\n",
       "      <td>2019-08-15</td>\n",
       "      <td>15.2</td>\n",
       "      <td>B</td>\n",
       "      <td>544</td>\n",
       "    </tr>\n",
       "    <tr>\n",
       "      <th>2</th>\n",
       "      <td>2961555356</td>\n",
       "      <td>4069496402</td>\n",
       "      <td>2019-08-15</td>\n",
       "      <td>10.2</td>\n",
       "      <td>A</td>\n",
       "      <td>628</td>\n",
       "    </tr>\n",
       "  </tbody>\n",
       "</table>\n",
       "</div>"
      ],
      "text/plain": [
       "   transaction_id  visitor_id        date  revenue group  visits\n",
       "0      3667963787  3312258926  2019-08-15     30.4     B     544\n",
       "1      2804400009  3642806036  2019-08-15     15.2     B     544\n",
       "2      2961555356  4069496402  2019-08-15     10.2     A     628"
      ]
     },
     "execution_count": 37,
     "metadata": {},
     "output_type": "execute_result"
    }
   ],
   "source": [
    "filtered_merge.head(3)"
   ]
  },
  {
   "cell_type": "code",
   "execution_count": 38,
   "metadata": {},
   "outputs": [
    {
     "name": "stdout",
     "output_type": "stream",
     "text": [
      "El promedio de ventas del grupo A es: total_sales_per_day    1710.322581\n",
      "dtype: float64\n",
      "El promedio de ventas del grupo B es: total_sales_per_day    1964.719355\n",
      "dtype: float64\n",
      "\n",
      "\n",
      "El valor p de la tasa de conversión acumulada es: 0.17337316908465497\n",
      "\n",
      "\n",
      "No hay una diferencia significativa entre los grupos\n"
     ]
    }
   ],
   "source": [
    "revenue_filtered = (\n",
    "    filtered_merge\n",
    "    .sort_values(by = 'date')\n",
    "    .groupby(['date', 'group'])['revenue']\n",
    "    .sum()\n",
    "    .reset_index()\n",
    "    .rename(columns = {\n",
    "        'revenue': 'total_sales_per_day'\n",
    "    })\n",
    ")\n",
    "\n",
    "revenue_filtered_A = revenue_filtered[revenue_filtered['group'] == \"A\"].mean()\n",
    "revenue_filtered_B = revenue_filtered[revenue_filtered['group'] == \"B\"].mean()\n",
    "\n",
    "ttest_revenue_filtered, p_val_revenue_filtered = ttest_ind(\n",
    "    revenue_filtered.query(\"group == 'A'\")['total_sales_per_day'],\n",
    "    revenue_filtered.query(\"group == 'B'\")['total_sales_per_day']\n",
    ")\n",
    "\n",
    "print(f'El promedio de ventas del grupo A es: {revenue_filtered_A}')\n",
    "print(f'El promedio de ventas del grupo B es: {revenue_filtered_B}')\n",
    "print(\"\"\"\n",
    "\"\"\")\n",
    "\n",
    "print(f'El valor p de la tasa de conversión acumulada es: {p_val_revenue_filtered}')\n",
    "print(\"\"\"\n",
    "\"\"\")\n",
    "if p_val_revenue_filtered < alpha:\n",
    "    print(\"Hay una diferencia significativa entre los grupos\")\n",
    "else:\n",
    "    print(\"No hay una diferencia significativa entre los grupos\")"
   ]
  },
  {
   "cell_type": "markdown",
   "metadata": {},
   "source": [
    "#### Conclusiones de la significancia estadística de la diferencia en el tamaño promedio de pedido entre los grupos utilizando los datos filtrados."
   ]
  },
  {
   "cell_type": "markdown",
   "metadata": {},
   "source": [
    "El ttest indica que sigue sin haber una diferencia significativa en las ventas."
   ]
  },
  {
   "cell_type": "markdown",
   "metadata": {},
   "source": [
    "## Gráficas extras."
   ]
  },
  {
   "cell_type": "code",
   "execution_count": 39,
   "metadata": {},
   "outputs": [
    {
     "data": {
      "image/png": "[encoded data removed]",
      "text/plain": [
       "<Figure size 640x480 with 1 Axes>"
      ]
     },
     "metadata": {},
     "output_type": "display_data"
    }
   ],
   "source": [
    "daily_average_orders_filtered = (\n",
    "    filtered_orders\n",
    "    .groupby(['date', 'group'])\n",
    "    .agg({'visitor_id': 'nunique',\n",
    "          'revenue': 'sum'                  \n",
    "    })\n",
    "    .reset_index()\n",
    "    .rename(columns = {\n",
    "        'visitor_id': 'n_buyers'\n",
    "    })\n",
    ")\n",
    "\n",
    "daily_average_orders_filtered['cumulative_buyers'] = daily_average_orders_filtered.sort_values(by = 'date').groupby('group')['n_buyers'].cumsum()\n",
    "daily_average_orders_filtered['cumulative_revenue'] = daily_average_orders_filtered.sort_values(by = 'date').groupby('group')['revenue'].cumsum()\n",
    "\n",
    "daily_average_orders_filtered['average_revenue'] = daily_average_orders_filtered['cumulative_revenue'] / daily_average_orders_filtered['cumulative_buyers']\n",
    "\n",
    "daily_average_orders_by_group_filtered = (\n",
    "    daily_average_orders_filtered\n",
    "    .pivot_table(\n",
    "        index = 'date',\n",
    "        columns = 'group',\n",
    "        values = 'average_revenue'\n",
    "    )\n",
    ")\n",
    "\n",
    "daily_average_orders_by_group_filtered.plot(kind = 'line')\n",
    "\n",
    "plt.title('Tamaño promedio por grupo')\n",
    "plt.xlabel('Fecha')\n",
    "plt.ylabel('Promedio por grupo')\n",
    "plt.xticks(rotation = 45)\n",
    "\n",
    "plt.show()"
   ]
  },
  {
   "cell_type": "code",
   "execution_count": 40,
   "metadata": {},
   "outputs": [
    {
     "data": {
      "image/png": "[encoded data removed]",
      "text/plain": [
       "<Figure size 640x480 with 1 Axes>"
      ]
     },
     "metadata": {},
     "output_type": "display_data"
    }
   ],
   "source": [
    "daily_orders_filtered = filtered_merge.groupby(['date', 'group'])['revenue'].sum().reset_index()\n",
    "\n",
    "daily_orders_filtered['cumulative_revenue'] = daily_orders_filtered.sort_values(by = 'date').groupby('group')['revenue'].cumsum()\n",
    "\n",
    "daily_orders_filtered.pivot_table(\n",
    "    index = 'date',\n",
    "    columns = 'group',\n",
    "    values = 'cumulative_revenue',\n",
    "    aggfunc = 'mean'\n",
    ").plot(\n",
    "    kind = 'line'\n",
    ")\n",
    "\n",
    "plt.title('Ventas acumuladas')\n",
    "plt.xlabel('Fecha')\n",
    "plt.ylabel('Ventas acumuladas')\n",
    "plt.xticks(rotation = 45)\n",
    "\n",
    "plt.show()"
   ]
  },
  {
   "cell_type": "code",
   "execution_count": 41,
   "metadata": {
    "scrolled": true
   },
   "outputs": [
    {
     "data": {
      "image/png": "[encoded data removed]",
      "text/plain": [
       "<Figure size 1000x600 with 1 Axes>"
      ]
     },
     "metadata": {},
     "output_type": "display_data"
    }
   ],
   "source": [
    "daily_average_orders_by_group_filtered['relative_changes'] = (\n",
    "    daily_average_orders_by_group_filtered['B'] / daily_average_orders_by_group_filtered['A']\n",
    ") -1 \n",
    "\n",
    "plt.figure(figsize=(10, 6))\n",
    "plt.plot(daily_average_orders_by_group_filtered.index, daily_average_orders_by_group_filtered['relative_changes'], marker='')\n",
    "plt.title('Cambio Relativo B/A - 1')\n",
    "plt.xlabel('Fecha')\n",
    "plt.ylabel('Cambio Relativo')\n",
    "plt.grid(True)\n",
    "plt.axhline(y = 0, color = 'black', linestyle = '--')\n",
    "plt.xticks(rotation = 45)\n",
    "\n",
    "plt.show()"
   ]
  },
  {
   "cell_type": "code",
   "execution_count": 42,
   "metadata": {},
   "outputs": [
    {
     "data": {
      "image/png": "[encoded data removed]",
      "text/plain": [
       "<Figure size 640x480 with 1 Axes>"
      ]
     },
     "metadata": {},
     "output_type": "display_data"
    }
   ],
   "source": [
    "conversion_group_A_filtered_cumulative = buyers_filtered[buyers_filtered['group'] == 'A']\n",
    "conversion_group_B_filtered_cumulative = buyers_filtered[buyers_filtered['group'] == 'B']\n",
    "\n",
    "plt.plot(conversion_group_A_filtered_cumulative['date'], conversion_group_A_filtered_cumulative['cumulative_conversion'], label='Conversión A')\n",
    "plt.plot(conversion_group_B_filtered_cumulative['date'], conversion_group_B_filtered_cumulative['cumulative_conversion'], label='Conversión B')\n",
    "\n",
    "plt.title('Comparación de conversión entre grupos')\n",
    "plt.xlabel('Fecha')\n",
    "plt.ylabel('Ratio de conversión')\n",
    "plt.legend(title='Grupos')\n",
    "plt.grid(True)\n",
    "plt.xticks(rotation = 60)\n",
    "\n",
    "plt.show()"
   ]
  },
  {
   "cell_type": "markdown",
   "metadata": {},
   "source": [
    "Si comparamos estos gráficos con los datos filtrados y comparamos con los datos en bruto podemos comprobar que sí hay cambios por los datos atípicos. Se tienen pocos cambios rerpresentativos y la mayoría muestran poca variación entre grupos."
   ]
  },
  {
   "cell_type": "markdown",
   "metadata": {},
   "source": [
    "## Conclusión Final"
   ]
  },
  {
   "cell_type": "markdown",
   "metadata": {},
   "source": [
    "- Los df fueron importados directamente en un formato que ayude a optimizar los datos.\n",
    "- Durrante la primera parte del análisis solo se necesito modificar los nombres de las columnas para facilitar el análisis posterior.\n",
    "- Al inicio del análisis y las gráficas comenzamos a ver datos que podían indicar la presencia de datos atípicos. Particularmente en una fecha poco después del 16 de agosto había saltos que llamaban la atención.\n",
    "- Cuando fue analizada la conversión no se vió graficamente un cambio significante en las fechas posteriores al 16 de agosto.\n",
    "- La gran mayoría de los usuarios realizan 4 pedidos o menos. Eso quiere decir que los usuarios que se detectaron en los graficos que realizan 5 o más son muy pocos. Pueden considerarse poco convencionales.\n",
    "- Los precios de los pedidos también tienen datos poco convencionales siendo que el 99% de ellos se encuentra por debajo del valor de $901 mientras que hay hay algunos que sobrebasan por mucho esa cantidad. \n",
    "- Una vez eliminados los datos atípicos que están por arriba del 95% de los datos totales, pudimos notar que no existen muchas diferencias en los grupos A y B tanto en las pruebas de significancia, como en los cambios relativos y las graficas de conversión y ventas.\n",
    "- Tomando esto en cuenta puedo sugerir detener la prueba ya que no parece tener un impacto importante en las tasas de conversión ni las ventas."
   ]
  },
  {
   "cell_type": "markdown",
   "metadata": {},
   "source": [
    "<div class=\"alert alert-block alert-success\">\n",
    "<b>Comentario general (1ra Iteracion)</b> <a class=“tocSkip”></a>\n",
    "\n",
    "Hiciste un buen trabajo con las visualizaciones, los cálculos y  los ejercicios propuestos los has resuelto muy bien planteando conclusiones claras sobre los resultados obtenidos en cada paso.\n",
    "    \n",
    "Planteaste muy buenas conclusiones en el último ejercicio en base a tus datos que es un punto importante que deben tener tus proyectos, como Data Analyst debes buscar apoyar en la toma de decisiones basadas en datos.\n",
    "    \n",
    "Te felicito también por que en varias celdas realizaste la buena práctica de dividir la línea de código en varias líneas, esto facilita la lectura del mismo y es una buena práctica en cuanto a programación en Python se refiere.\n",
    "    \n",
    "Saludos!\n",
    "</div>"
   ]
  }
 ],
 "metadata": {
  "ExecuteTimeLog": [
   {
    "duration": 5,
    "start_time": "2024-08-26T23:02:25.750Z"
   },
   {
    "duration": 4,
    "start_time": "2024-08-26T23:03:41.980Z"
   },
   {
    "duration": 3,
    "start_time": "2024-08-26T23:08:07.178Z"
   },
   {
    "duration": 3,
    "start_time": "2024-08-26T23:18:14.863Z"
   },
   {
    "duration": 3,
    "start_time": "2024-08-26T23:18:16.921Z"
   },
   {
    "duration": 4,
    "start_time": "2024-08-26T23:19:37.898Z"
   },
   {
    "duration": 2528,
    "start_time": "2024-08-27T16:36:26.613Z"
   },
   {
    "duration": 13,
    "start_time": "2024-08-27T16:41:25.829Z"
   },
   {
    "duration": 12,
    "start_time": "2024-08-27T16:41:47.847Z"
   },
   {
    "duration": 9,
    "start_time": "2024-08-27T16:42:06.059Z"
   },
   {
    "duration": 8,
    "start_time": "2024-08-27T16:42:20.564Z"
   },
   {
    "duration": 128,
    "start_time": "2024-08-27T16:42:31.369Z"
   },
   {
    "duration": 16,
    "start_time": "2024-08-27T16:42:36.722Z"
   },
   {
    "duration": 10,
    "start_time": "2024-08-27T16:43:04.935Z"
   },
   {
    "duration": 18,
    "start_time": "2024-08-27T16:43:59.366Z"
   },
   {
    "duration": 13,
    "start_time": "2024-08-27T16:44:06.201Z"
   },
   {
    "duration": 19,
    "start_time": "2024-08-27T16:45:14.213Z"
   },
   {
    "duration": 5,
    "start_time": "2024-08-27T16:46:49.685Z"
   },
   {
    "duration": 3,
    "start_time": "2024-08-27T16:46:54.002Z"
   },
   {
    "duration": 109,
    "start_time": "2024-08-27T16:49:57.695Z"
   },
   {
    "duration": 23,
    "start_time": "2024-08-27T16:50:09.664Z"
   },
   {
    "duration": 28,
    "start_time": "2024-08-27T16:52:51.764Z"
   },
   {
    "duration": 24,
    "start_time": "2024-08-27T16:53:11.277Z"
   },
   {
    "duration": 39,
    "start_time": "2024-08-27T16:56:34.990Z"
   },
   {
    "duration": 16,
    "start_time": "2024-08-27T16:58:25.953Z"
   },
   {
    "duration": 5,
    "start_time": "2024-08-27T16:59:05.266Z"
   },
   {
    "duration": 25,
    "start_time": "2024-08-27T16:59:17.777Z"
   },
   {
    "duration": 26,
    "start_time": "2024-08-27T17:06:18.245Z"
   },
   {
    "duration": 25,
    "start_time": "2024-08-27T17:15:37.535Z"
   },
   {
    "duration": 3,
    "start_time": "2024-08-27T17:19:03.020Z"
   },
   {
    "duration": 6,
    "start_time": "2024-08-27T17:19:40.297Z"
   },
   {
    "duration": 3,
    "start_time": "2024-08-27T17:22:29.113Z"
   },
   {
    "duration": 59,
    "start_time": "2024-08-27T17:23:05.881Z"
   },
   {
    "duration": 19,
    "start_time": "2024-08-27T17:23:21.157Z"
   },
   {
    "duration": 11,
    "start_time": "2024-08-27T17:23:27.918Z"
   },
   {
    "duration": 7,
    "start_time": "2024-08-27T17:23:58.628Z"
   },
   {
    "duration": 7,
    "start_time": "2024-08-27T17:30:09.000Z"
   },
   {
    "duration": 14,
    "start_time": "2024-08-27T17:35:54.973Z"
   },
   {
    "duration": 8,
    "start_time": "2024-08-27T17:36:02.936Z"
   },
   {
    "duration": 269,
    "start_time": "2024-08-27T17:39:10.041Z"
   },
   {
    "duration": 8,
    "start_time": "2024-08-27T17:39:27.140Z"
   },
   {
    "duration": 9,
    "start_time": "2024-08-27T17:39:36.420Z"
   },
   {
    "duration": 8,
    "start_time": "2024-08-27T17:52:33.710Z"
   },
   {
    "duration": 46,
    "start_time": "2024-08-27T18:11:16.529Z"
   },
   {
    "duration": 110,
    "start_time": "2024-08-27T18:11:32.291Z"
   },
   {
    "duration": 115,
    "start_time": "2024-08-27T18:14:47.495Z"
   },
   {
    "duration": 183,
    "start_time": "2024-08-27T18:14:54.928Z"
   },
   {
    "duration": 120,
    "start_time": "2024-08-27T18:15:39.822Z"
   },
   {
    "duration": 123,
    "start_time": "2024-08-27T18:30:02.540Z"
   },
   {
    "duration": 7,
    "start_time": "2024-08-27T18:45:28.171Z"
   },
   {
    "duration": 14,
    "start_time": "2024-08-27T18:46:25.320Z"
   },
   {
    "duration": 12,
    "start_time": "2024-08-27T18:47:02.229Z"
   },
   {
    "duration": 12,
    "start_time": "2024-08-27T18:47:12.863Z"
   },
   {
    "duration": 14,
    "start_time": "2024-08-27T18:47:33.005Z"
   },
   {
    "duration": 18,
    "start_time": "2024-08-27T18:49:52.547Z"
   },
   {
    "duration": 17,
    "start_time": "2024-08-27T18:50:22.054Z"
   },
   {
    "duration": 13,
    "start_time": "2024-08-27T18:53:01.592Z"
   },
   {
    "duration": 2,
    "start_time": "2024-08-27T18:53:15.660Z"
   },
   {
    "duration": 43,
    "start_time": "2024-08-27T18:54:49.317Z"
   },
   {
    "duration": 834,
    "start_time": "2024-08-27T18:55:15.670Z"
   },
   {
    "duration": 43,
    "start_time": "2024-08-27T18:55:16.506Z"
   },
   {
    "duration": 26,
    "start_time": "2024-08-27T18:55:16.551Z"
   },
   {
    "duration": 25,
    "start_time": "2024-08-27T18:55:16.579Z"
   },
   {
    "duration": 56,
    "start_time": "2024-08-27T18:55:16.606Z"
   },
   {
    "duration": 2,
    "start_time": "2024-08-27T18:55:16.664Z"
   },
   {
    "duration": 6,
    "start_time": "2024-08-27T18:55:16.668Z"
   },
   {
    "duration": 5,
    "start_time": "2024-08-27T18:55:16.676Z"
   },
   {
    "duration": 8,
    "start_time": "2024-08-27T18:55:16.683Z"
   },
   {
    "duration": 8,
    "start_time": "2024-08-27T18:55:16.693Z"
   },
   {
    "duration": 51,
    "start_time": "2024-08-27T18:55:16.703Z"
   },
   {
    "duration": 149,
    "start_time": "2024-08-27T18:55:16.755Z"
   },
   {
    "duration": 7,
    "start_time": "2024-08-27T18:55:16.905Z"
   },
   {
    "duration": 316,
    "start_time": "2024-08-27T18:55:16.915Z"
   },
   {
    "duration": 12,
    "start_time": "2024-08-27T18:55:40.127Z"
   },
   {
    "duration": 13,
    "start_time": "2024-08-27T18:56:10.830Z"
   },
   {
    "duration": 14,
    "start_time": "2024-08-27T18:58:01.344Z"
   },
   {
    "duration": 17,
    "start_time": "2024-08-27T18:59:37.175Z"
   },
   {
    "duration": 19,
    "start_time": "2024-08-27T19:04:14.140Z"
   },
   {
    "duration": 170,
    "start_time": "2024-08-27T19:05:02.707Z"
   },
   {
    "duration": 4,
    "start_time": "2024-08-27T19:06:08.286Z"
   },
   {
    "duration": 168,
    "start_time": "2024-08-27T19:06:11.371Z"
   },
   {
    "duration": 5,
    "start_time": "2024-08-27T19:06:53.382Z"
   },
   {
    "duration": 4,
    "start_time": "2024-08-27T19:06:58.573Z"
   },
   {
    "duration": 165,
    "start_time": "2024-08-27T19:07:06.664Z"
   },
   {
    "duration": 836,
    "start_time": "2024-08-27T19:08:22.770Z"
   },
   {
    "duration": 41,
    "start_time": "2024-08-27T19:08:23.608Z"
   },
   {
    "duration": 24,
    "start_time": "2024-08-27T19:08:23.651Z"
   },
   {
    "duration": 25,
    "start_time": "2024-08-27T19:08:23.676Z"
   },
   {
    "duration": 56,
    "start_time": "2024-08-27T19:08:23.703Z"
   },
   {
    "duration": 3,
    "start_time": "2024-08-27T19:08:23.760Z"
   },
   {
    "duration": 8,
    "start_time": "2024-08-27T19:08:23.765Z"
   },
   {
    "duration": 6,
    "start_time": "2024-08-27T19:08:23.774Z"
   },
   {
    "duration": 8,
    "start_time": "2024-08-27T19:08:23.781Z"
   },
   {
    "duration": 7,
    "start_time": "2024-08-27T19:08:23.791Z"
   },
   {
    "duration": 7,
    "start_time": "2024-08-27T19:08:23.800Z"
   },
   {
    "duration": 142,
    "start_time": "2024-08-27T19:08:23.848Z"
   },
   {
    "duration": 6,
    "start_time": "2024-08-27T19:08:23.992Z"
   },
   {
    "duration": 15,
    "start_time": "2024-08-27T19:08:24.001Z"
   },
   {
    "duration": 141,
    "start_time": "2024-08-27T19:08:24.018Z"
   },
   {
    "duration": 793,
    "start_time": "2024-08-27T19:09:38.153Z"
   },
   {
    "duration": 37,
    "start_time": "2024-08-27T19:09:38.948Z"
   },
   {
    "duration": 25,
    "start_time": "2024-08-27T19:09:38.986Z"
   },
   {
    "duration": 52,
    "start_time": "2024-08-27T19:09:39.013Z"
   },
   {
    "duration": 20,
    "start_time": "2024-08-27T19:09:39.066Z"
   },
   {
    "duration": 3,
    "start_time": "2024-08-27T19:09:39.087Z"
   },
   {
    "duration": 7,
    "start_time": "2024-08-27T19:09:39.091Z"
   },
   {
    "duration": 50,
    "start_time": "2024-08-27T19:09:39.099Z"
   },
   {
    "duration": 9,
    "start_time": "2024-08-27T19:09:39.150Z"
   },
   {
    "duration": 9,
    "start_time": "2024-08-27T19:09:39.162Z"
   },
   {
    "duration": 7,
    "start_time": "2024-08-27T19:09:39.173Z"
   },
   {
    "duration": 159,
    "start_time": "2024-08-27T19:09:39.182Z"
   },
   {
    "duration": 11,
    "start_time": "2024-08-27T19:09:39.343Z"
   },
   {
    "duration": 16,
    "start_time": "2024-08-27T19:09:39.356Z"
   },
   {
    "duration": 145,
    "start_time": "2024-08-27T19:09:39.374Z"
   },
   {
    "duration": 166,
    "start_time": "2024-08-27T19:10:31.198Z"
   },
   {
    "duration": 121,
    "start_time": "2024-08-27T19:10:41.494Z"
   },
   {
    "duration": 124,
    "start_time": "2024-08-27T19:10:52.193Z"
   },
   {
    "duration": 334,
    "start_time": "2024-08-27T19:11:31.502Z"
   },
   {
    "duration": 785,
    "start_time": "2024-08-27T19:12:46.052Z"
   },
   {
    "duration": 45,
    "start_time": "2024-08-27T19:12:46.839Z"
   },
   {
    "duration": 25,
    "start_time": "2024-08-27T19:12:46.886Z"
   },
   {
    "duration": 60,
    "start_time": "2024-08-27T19:12:46.913Z"
   },
   {
    "duration": 19,
    "start_time": "2024-08-27T19:12:46.976Z"
   },
   {
    "duration": 2,
    "start_time": "2024-08-27T19:12:46.997Z"
   },
   {
    "duration": 7,
    "start_time": "2024-08-27T19:12:47.000Z"
   },
   {
    "duration": 42,
    "start_time": "2024-08-27T19:12:47.008Z"
   },
   {
    "duration": 8,
    "start_time": "2024-08-27T19:12:47.054Z"
   },
   {
    "duration": 9,
    "start_time": "2024-08-27T19:12:47.063Z"
   },
   {
    "duration": 8,
    "start_time": "2024-08-27T19:12:47.073Z"
   },
   {
    "duration": 161,
    "start_time": "2024-08-27T19:12:47.083Z"
   },
   {
    "duration": 8,
    "start_time": "2024-08-27T19:12:47.245Z"
   },
   {
    "duration": 16,
    "start_time": "2024-08-27T19:12:47.256Z"
   },
   {
    "duration": 152,
    "start_time": "2024-08-27T19:12:47.273Z"
   },
   {
    "duration": 385,
    "start_time": "2024-08-27T19:14:12.065Z"
   },
   {
    "duration": 146,
    "start_time": "2024-08-27T19:14:43.652Z"
   },
   {
    "duration": 407,
    "start_time": "2024-08-27T19:14:47.394Z"
   },
   {
    "duration": 135,
    "start_time": "2024-08-27T19:14:51.919Z"
   },
   {
    "duration": 2625,
    "start_time": "2024-08-28T16:18:39.002Z"
   },
   {
    "duration": 53,
    "start_time": "2024-08-28T16:18:41.629Z"
   },
   {
    "duration": 34,
    "start_time": "2024-08-28T16:18:41.684Z"
   },
   {
    "duration": 27,
    "start_time": "2024-08-28T16:18:41.720Z"
   },
   {
    "duration": 58,
    "start_time": "2024-08-28T16:18:41.749Z"
   },
   {
    "duration": 3,
    "start_time": "2024-08-28T16:18:41.809Z"
   },
   {
    "duration": 8,
    "start_time": "2024-08-28T16:18:41.813Z"
   },
   {
    "duration": 6,
    "start_time": "2024-08-28T16:18:41.822Z"
   },
   {
    "duration": 9,
    "start_time": "2024-08-28T16:18:41.830Z"
   },
   {
    "duration": 9,
    "start_time": "2024-08-28T16:18:41.842Z"
   },
   {
    "duration": 9,
    "start_time": "2024-08-28T16:18:41.853Z"
   },
   {
    "duration": 188,
    "start_time": "2024-08-28T16:18:41.865Z"
   },
   {
    "duration": 7,
    "start_time": "2024-08-28T16:18:42.055Z"
   },
   {
    "duration": 17,
    "start_time": "2024-08-28T16:18:42.064Z"
   },
   {
    "duration": 166,
    "start_time": "2024-08-28T16:18:42.082Z"
   },
   {
    "duration": 16,
    "start_time": "2024-08-28T16:18:46.507Z"
   },
   {
    "duration": 21,
    "start_time": "2024-08-28T16:21:41.619Z"
   },
   {
    "duration": 22,
    "start_time": "2024-08-28T16:24:51.665Z"
   },
   {
    "duration": 157,
    "start_time": "2024-08-28T16:28:03.606Z"
   },
   {
    "duration": 149,
    "start_time": "2024-08-28T16:28:33.605Z"
   },
   {
    "duration": 13,
    "start_time": "2024-08-28T16:28:46.898Z"
   },
   {
    "duration": 139,
    "start_time": "2024-08-28T16:29:49.635Z"
   },
   {
    "duration": 469,
    "start_time": "2024-08-28T16:32:25.385Z"
   },
   {
    "duration": 134,
    "start_time": "2024-08-28T16:32:42.941Z"
   },
   {
    "duration": 14,
    "start_time": "2024-08-28T16:39:23.374Z"
   },
   {
    "duration": 225,
    "start_time": "2024-08-28T16:43:14.073Z"
   },
   {
    "duration": 160,
    "start_time": "2024-08-28T16:44:54.936Z"
   },
   {
    "duration": 6,
    "start_time": "2024-08-28T16:50:38.404Z"
   },
   {
    "duration": 787,
    "start_time": "2024-08-28T16:54:32.870Z"
   },
   {
    "duration": 78,
    "start_time": "2024-08-28T16:56:18.564Z"
   },
   {
    "duration": 80,
    "start_time": "2024-08-28T16:56:40.614Z"
   },
   {
    "duration": 10,
    "start_time": "2024-08-28T16:56:49.813Z"
   },
   {
    "duration": 80,
    "start_time": "2024-08-28T16:57:50.370Z"
   },
   {
    "duration": 79,
    "start_time": "2024-08-28T16:58:06.552Z"
   },
   {
    "duration": 7,
    "start_time": "2024-08-28T16:59:31.438Z"
   },
   {
    "duration": 9,
    "start_time": "2024-08-28T16:59:41.051Z"
   },
   {
    "duration": 9,
    "start_time": "2024-08-28T17:02:22.689Z"
   },
   {
    "duration": 79,
    "start_time": "2024-08-28T17:03:05.873Z"
   },
   {
    "duration": 34,
    "start_time": "2024-08-28T17:03:31.606Z"
   },
   {
    "duration": 756,
    "start_time": "2024-08-28T17:03:40.457Z"
   },
   {
    "duration": 37,
    "start_time": "2024-08-28T17:03:41.215Z"
   },
   {
    "duration": 24,
    "start_time": "2024-08-28T17:03:41.254Z"
   },
   {
    "duration": 23,
    "start_time": "2024-08-28T17:03:41.305Z"
   },
   {
    "duration": 20,
    "start_time": "2024-08-28T17:03:41.330Z"
   },
   {
    "duration": 2,
    "start_time": "2024-08-28T17:03:41.351Z"
   },
   {
    "duration": 5,
    "start_time": "2024-08-28T17:03:41.355Z"
   },
   {
    "duration": 47,
    "start_time": "2024-08-28T17:03:41.363Z"
   },
   {
    "duration": 9,
    "start_time": "2024-08-28T17:03:41.411Z"
   },
   {
    "duration": 8,
    "start_time": "2024-08-28T17:03:41.421Z"
   },
   {
    "duration": 7,
    "start_time": "2024-08-28T17:03:41.431Z"
   },
   {
    "duration": 166,
    "start_time": "2024-08-28T17:03:41.439Z"
   },
   {
    "duration": 11,
    "start_time": "2024-08-28T17:03:41.606Z"
   },
   {
    "duration": 14,
    "start_time": "2024-08-28T17:03:41.621Z"
   },
   {
    "duration": 150,
    "start_time": "2024-08-28T17:03:41.636Z"
   },
   {
    "duration": 189,
    "start_time": "2024-08-28T17:03:41.788Z"
   },
   {
    "duration": 9,
    "start_time": "2024-08-28T17:03:41.979Z"
   },
   {
    "duration": 18,
    "start_time": "2024-08-28T17:03:41.990Z"
   },
   {
    "duration": 11,
    "start_time": "2024-08-28T17:03:59.479Z"
   },
   {
    "duration": 7,
    "start_time": "2024-08-28T17:04:03.925Z"
   },
   {
    "duration": 786,
    "start_time": "2024-08-28T17:04:19.008Z"
   },
   {
    "duration": 38,
    "start_time": "2024-08-28T17:04:19.796Z"
   },
   {
    "duration": 25,
    "start_time": "2024-08-28T17:04:19.835Z"
   },
   {
    "duration": 50,
    "start_time": "2024-08-28T17:04:19.862Z"
   },
   {
    "duration": 22,
    "start_time": "2024-08-28T17:04:19.914Z"
   },
   {
    "duration": 2,
    "start_time": "2024-08-28T17:04:19.937Z"
   },
   {
    "duration": 5,
    "start_time": "2024-08-28T17:04:19.941Z"
   },
   {
    "duration": 6,
    "start_time": "2024-08-28T17:04:19.948Z"
   },
   {
    "duration": 56,
    "start_time": "2024-08-28T17:04:19.955Z"
   },
   {
    "duration": 9,
    "start_time": "2024-08-28T17:04:20.015Z"
   },
   {
    "duration": 7,
    "start_time": "2024-08-28T17:04:20.025Z"
   },
   {
    "duration": 155,
    "start_time": "2024-08-28T17:04:20.033Z"
   },
   {
    "duration": 6,
    "start_time": "2024-08-28T17:04:20.190Z"
   },
   {
    "duration": 13,
    "start_time": "2024-08-28T17:04:20.205Z"
   },
   {
    "duration": 142,
    "start_time": "2024-08-28T17:04:20.220Z"
   },
   {
    "duration": 194,
    "start_time": "2024-08-28T17:04:20.364Z"
   },
   {
    "duration": 9,
    "start_time": "2024-08-28T17:04:20.560Z"
   },
   {
    "duration": 7,
    "start_time": "2024-08-28T17:04:20.571Z"
   },
   {
    "duration": 6,
    "start_time": "2024-08-28T17:04:43.119Z"
   },
   {
    "duration": 31,
    "start_time": "2024-08-28T17:05:03.161Z"
   },
   {
    "duration": 801,
    "start_time": "2024-08-28T17:05:12.643Z"
   },
   {
    "duration": 33,
    "start_time": "2024-08-28T17:05:13.446Z"
   },
   {
    "duration": 43,
    "start_time": "2024-08-28T17:05:13.481Z"
   },
   {
    "duration": 23,
    "start_time": "2024-08-28T17:05:13.526Z"
   },
   {
    "duration": 54,
    "start_time": "2024-08-28T17:05:13.551Z"
   },
   {
    "duration": 2,
    "start_time": "2024-08-28T17:05:13.607Z"
   },
   {
    "duration": 6,
    "start_time": "2024-08-28T17:05:13.610Z"
   },
   {
    "duration": 6,
    "start_time": "2024-08-28T17:05:13.620Z"
   },
   {
    "duration": 9,
    "start_time": "2024-08-28T17:05:13.629Z"
   },
   {
    "duration": 10,
    "start_time": "2024-08-28T17:05:13.640Z"
   },
   {
    "duration": 7,
    "start_time": "2024-08-28T17:05:13.651Z"
   },
   {
    "duration": 171,
    "start_time": "2024-08-28T17:05:13.660Z"
   },
   {
    "duration": 6,
    "start_time": "2024-08-28T17:05:13.833Z"
   },
   {
    "duration": 14,
    "start_time": "2024-08-28T17:05:13.843Z"
   },
   {
    "duration": 154,
    "start_time": "2024-08-28T17:05:13.858Z"
   },
   {
    "duration": 184,
    "start_time": "2024-08-28T17:05:14.013Z"
   },
   {
    "duration": 10,
    "start_time": "2024-08-28T17:05:14.199Z"
   },
   {
    "duration": 8,
    "start_time": "2024-08-28T17:05:14.211Z"
   },
   {
    "duration": 18,
    "start_time": "2024-08-28T17:50:48.868Z"
   },
   {
    "duration": 212,
    "start_time": "2024-08-28T17:51:16.333Z"
   },
   {
    "duration": 323,
    "start_time": "2024-08-28T17:51:58.941Z"
   },
   {
    "duration": 123,
    "start_time": "2024-08-28T17:52:38.966Z"
   },
   {
    "duration": 232,
    "start_time": "2024-08-28T17:52:44.925Z"
   },
   {
    "duration": 131,
    "start_time": "2024-08-28T17:53:08.324Z"
   },
   {
    "duration": 225,
    "start_time": "2024-08-28T17:53:13.825Z"
   },
   {
    "duration": 136,
    "start_time": "2024-08-28T17:53:22.759Z"
   },
   {
    "duration": 15,
    "start_time": "2024-08-28T18:04:56.108Z"
   },
   {
    "duration": 15,
    "start_time": "2024-08-28T18:05:01.586Z"
   },
   {
    "duration": 17,
    "start_time": "2024-08-28T18:09:02.176Z"
   },
   {
    "duration": 24,
    "start_time": "2024-08-28T18:10:10.403Z"
   },
   {
    "duration": 17,
    "start_time": "2024-08-28T18:10:18.651Z"
   },
   {
    "duration": 20,
    "start_time": "2024-08-28T18:11:57.393Z"
   },
   {
    "duration": 23,
    "start_time": "2024-08-28T18:13:07.752Z"
   },
   {
    "duration": 25,
    "start_time": "2024-08-28T18:14:08.313Z"
   },
   {
    "duration": 20,
    "start_time": "2024-08-28T18:15:51.010Z"
   },
   {
    "duration": 13,
    "start_time": "2024-08-28T18:19:33.617Z"
   },
   {
    "duration": 11,
    "start_time": "2024-08-28T18:20:26.704Z"
   },
   {
    "duration": 124,
    "start_time": "2024-08-28T18:21:02.116Z"
   },
   {
    "duration": 9,
    "start_time": "2024-08-28T18:21:15.709Z"
   },
   {
    "duration": 164,
    "start_time": "2024-08-28T18:23:11.720Z"
   },
   {
    "duration": 231,
    "start_time": "2024-08-28T18:25:27.286Z"
   },
   {
    "duration": 246,
    "start_time": "2024-08-28T18:25:40.381Z"
   },
   {
    "duration": 242,
    "start_time": "2024-08-28T18:25:55.762Z"
   },
   {
    "duration": 360,
    "start_time": "2024-08-28T18:26:02.917Z"
   },
   {
    "duration": 250,
    "start_time": "2024-08-28T18:27:30.784Z"
   },
   {
    "duration": 224,
    "start_time": "2024-08-28T18:27:45.064Z"
   },
   {
    "duration": 244,
    "start_time": "2024-08-28T18:28:12.285Z"
   },
   {
    "duration": 14,
    "start_time": "2024-08-28T18:42:14.294Z"
   },
   {
    "duration": 11,
    "start_time": "2024-08-28T18:42:26.521Z"
   },
   {
    "duration": 15,
    "start_time": "2024-08-28T18:44:17.594Z"
   },
   {
    "duration": 185,
    "start_time": "2024-08-28T18:44:37.050Z"
   },
   {
    "duration": 806,
    "start_time": "2024-08-28T18:45:41.475Z"
   },
   {
    "duration": 192,
    "start_time": "2024-08-28T18:45:50.823Z"
   },
   {
    "duration": 229,
    "start_time": "2024-08-28T18:46:14.277Z"
   },
   {
    "duration": 224,
    "start_time": "2024-08-28T18:46:42.718Z"
   },
   {
    "duration": 364,
    "start_time": "2024-08-28T18:46:50.937Z"
   },
   {
    "duration": 300,
    "start_time": "2024-08-28T18:47:09.385Z"
   },
   {
    "duration": 237,
    "start_time": "2024-08-28T18:47:59.484Z"
   },
   {
    "duration": 240,
    "start_time": "2024-08-28T18:48:29.839Z"
   },
   {
    "duration": 216,
    "start_time": "2024-08-28T18:49:29.199Z"
   },
   {
    "duration": 144,
    "start_time": "2024-08-28T19:03:17.505Z"
   },
   {
    "duration": 108,
    "start_time": "2024-08-28T19:03:57.516Z"
   },
   {
    "duration": 9,
    "start_time": "2024-08-28T23:11:38.573Z"
   },
   {
    "duration": 90,
    "start_time": "2024-08-28T23:11:38.592Z"
   },
   {
    "duration": 30,
    "start_time": "2024-08-28T23:11:38.695Z"
   },
   {
    "duration": 75,
    "start_time": "2024-08-28T23:11:38.728Z"
   },
   {
    "duration": 20,
    "start_time": "2024-08-28T23:11:38.806Z"
   },
   {
    "duration": 11,
    "start_time": "2024-08-28T23:11:38.828Z"
   },
   {
    "duration": 31,
    "start_time": "2024-08-28T23:11:38.855Z"
   },
   {
    "duration": 14,
    "start_time": "2024-08-28T23:11:38.888Z"
   },
   {
    "duration": 17,
    "start_time": "2024-08-28T23:11:38.904Z"
   },
   {
    "duration": 48,
    "start_time": "2024-08-28T23:11:38.926Z"
   },
   {
    "duration": 17,
    "start_time": "2024-08-28T23:11:38.989Z"
   },
   {
    "duration": 258,
    "start_time": "2024-08-28T23:11:39.010Z"
   },
   {
    "duration": 10,
    "start_time": "2024-08-28T23:11:39.273Z"
   },
   {
    "duration": 19,
    "start_time": "2024-08-28T23:11:39.288Z"
   },
   {
    "duration": 181,
    "start_time": "2024-08-28T23:11:39.310Z"
   },
   {
    "duration": 218,
    "start_time": "2024-08-28T23:11:39.493Z"
   },
   {
    "duration": 8,
    "start_time": "2024-08-28T23:11:39.713Z"
   },
   {
    "duration": 449,
    "start_time": "2024-08-28T23:11:39.723Z"
   },
   {
    "duration": 27,
    "start_time": "2024-08-28T23:11:40.174Z"
   },
   {
    "duration": 345,
    "start_time": "2024-08-28T23:11:40.203Z"
   },
   {
    "duration": 372,
    "start_time": "2024-08-28T23:11:40.550Z"
   },
   {
    "duration": 18,
    "start_time": "2024-08-28T23:11:40.924Z"
   },
   {
    "duration": 199,
    "start_time": "2024-08-28T23:11:40.963Z"
   },
   {
    "duration": 152,
    "start_time": "2024-08-28T23:11:41.164Z"
   },
   {
    "duration": 15,
    "start_time": "2024-08-28T23:18:08.735Z"
   },
   {
    "duration": 8,
    "start_time": "2024-08-28T23:19:13.391Z"
   },
   {
    "duration": 27,
    "start_time": "2024-08-28T23:21:26.159Z"
   },
   {
    "duration": 12,
    "start_time": "2024-08-28T23:22:12.629Z"
   },
   {
    "duration": 9,
    "start_time": "2024-08-28T23:22:28.756Z"
   },
   {
    "duration": 4,
    "start_time": "2024-08-28T23:22:38.990Z"
   },
   {
    "duration": 28,
    "start_time": "2024-08-28T23:23:58.864Z"
   },
   {
    "duration": 12,
    "start_time": "2024-08-28T23:24:11.971Z"
   },
   {
    "duration": 2589,
    "start_time": "2024-08-29T16:12:32.306Z"
   },
   {
    "duration": 55,
    "start_time": "2024-08-29T16:12:34.898Z"
   },
   {
    "duration": 32,
    "start_time": "2024-08-29T16:12:34.955Z"
   },
   {
    "duration": 57,
    "start_time": "2024-08-29T16:12:34.989Z"
   },
   {
    "duration": 22,
    "start_time": "2024-08-29T16:12:35.049Z"
   },
   {
    "duration": 5,
    "start_time": "2024-08-29T16:12:35.073Z"
   },
   {
    "duration": 6,
    "start_time": "2024-08-29T16:12:35.079Z"
   },
   {
    "duration": 7,
    "start_time": "2024-08-29T16:12:35.087Z"
   },
   {
    "duration": 10,
    "start_time": "2024-08-29T16:12:35.132Z"
   },
   {
    "duration": 10,
    "start_time": "2024-08-29T16:12:35.144Z"
   },
   {
    "duration": 9,
    "start_time": "2024-08-29T16:12:35.156Z"
   },
   {
    "duration": 186,
    "start_time": "2024-08-29T16:12:35.167Z"
   },
   {
    "duration": 7,
    "start_time": "2024-08-29T16:12:35.355Z"
   },
   {
    "duration": 14,
    "start_time": "2024-08-29T16:12:35.366Z"
   },
   {
    "duration": 156,
    "start_time": "2024-08-29T16:12:35.381Z"
   },
   {
    "duration": 147,
    "start_time": "2024-08-29T16:12:35.539Z"
   },
   {
    "duration": 6,
    "start_time": "2024-08-29T16:12:35.688Z"
   },
   {
    "duration": 350,
    "start_time": "2024-08-29T16:12:35.697Z"
   },
   {
    "duration": 27,
    "start_time": "2024-08-29T16:12:36.049Z"
   },
   {
    "duration": 268,
    "start_time": "2024-08-29T16:12:36.078Z"
   },
   {
    "duration": 301,
    "start_time": "2024-08-29T16:12:36.348Z"
   },
   {
    "duration": 12,
    "start_time": "2024-08-29T16:12:36.651Z"
   },
   {
    "duration": 129,
    "start_time": "2024-08-29T16:12:36.664Z"
   },
   {
    "duration": 119,
    "start_time": "2024-08-29T16:12:36.795Z"
   },
   {
    "duration": 4,
    "start_time": "2024-08-29T16:12:36.916Z"
   },
   {
    "duration": 11,
    "start_time": "2024-08-29T16:12:39.927Z"
   },
   {
    "duration": 112,
    "start_time": "2024-08-29T16:14:26.498Z"
   },
   {
    "duration": 331,
    "start_time": "2024-08-29T16:15:51.962Z"
   },
   {
    "duration": 138,
    "start_time": "2024-08-29T16:15:57.123Z"
   },
   {
    "duration": 123,
    "start_time": "2024-08-29T16:18:48.662Z"
   },
   {
    "duration": 183,
    "start_time": "2024-08-29T16:19:04.050Z"
   },
   {
    "duration": 132,
    "start_time": "2024-08-29T16:19:13.887Z"
   },
   {
    "duration": 5,
    "start_time": "2024-08-29T16:23:27.902Z"
   },
   {
    "duration": 437,
    "start_time": "2024-08-29T16:24:21.747Z"
   },
   {
    "duration": 19,
    "start_time": "2024-08-29T16:24:37.300Z"
   },
   {
    "duration": 3,
    "start_time": "2024-08-29T16:24:58.747Z"
   },
   {
    "duration": 4,
    "start_time": "2024-08-29T16:25:09.190Z"
   },
   {
    "duration": 4,
    "start_time": "2024-08-29T16:26:46.729Z"
   },
   {
    "duration": 4,
    "start_time": "2024-08-29T16:27:02.362Z"
   },
   {
    "duration": 4,
    "start_time": "2024-08-29T16:27:12.048Z"
   },
   {
    "duration": 4,
    "start_time": "2024-08-29T16:27:17.091Z"
   },
   {
    "duration": 144,
    "start_time": "2024-08-29T16:34:28.158Z"
   },
   {
    "duration": 4,
    "start_time": "2024-08-29T16:36:30.330Z"
   },
   {
    "duration": 116,
    "start_time": "2024-08-29T16:44:55.214Z"
   },
   {
    "duration": 105,
    "start_time": "2024-08-29T16:45:10.471Z"
   },
   {
    "duration": 116,
    "start_time": "2024-08-29T16:45:17.680Z"
   },
   {
    "duration": 4,
    "start_time": "2024-08-29T16:45:23.156Z"
   },
   {
    "duration": 118,
    "start_time": "2024-08-29T16:52:33.017Z"
   },
   {
    "duration": 101,
    "start_time": "2024-08-29T16:52:42.603Z"
   },
   {
    "duration": 101,
    "start_time": "2024-08-29T16:54:42.901Z"
   },
   {
    "duration": 13,
    "start_time": "2024-08-29T17:01:33.230Z"
   },
   {
    "duration": 4,
    "start_time": "2024-08-29T17:04:11.828Z"
   },
   {
    "duration": 6,
    "start_time": "2024-08-29T17:04:34.717Z"
   },
   {
    "duration": 265,
    "start_time": "2024-08-29T17:05:04.378Z"
   },
   {
    "duration": 67,
    "start_time": "2024-08-29T17:06:16.862Z"
   },
   {
    "duration": 4,
    "start_time": "2024-08-29T17:07:04.921Z"
   },
   {
    "duration": 3,
    "start_time": "2024-08-29T17:07:13.402Z"
   },
   {
    "duration": 3,
    "start_time": "2024-08-29T17:07:21.222Z"
   },
   {
    "duration": 4,
    "start_time": "2024-08-29T17:07:41.709Z"
   },
   {
    "duration": 13,
    "start_time": "2024-08-29T17:07:55.987Z"
   },
   {
    "duration": 78,
    "start_time": "2024-08-29T17:08:47.418Z"
   },
   {
    "duration": 22,
    "start_time": "2024-08-29T17:13:59.247Z"
   },
   {
    "duration": 795,
    "start_time": "2024-08-29T17:15:40.519Z"
   },
   {
    "duration": 41,
    "start_time": "2024-08-29T17:15:41.317Z"
   },
   {
    "duration": 30,
    "start_time": "2024-08-29T17:15:41.360Z"
   },
   {
    "duration": 56,
    "start_time": "2024-08-29T17:15:41.391Z"
   },
   {
    "duration": 23,
    "start_time": "2024-08-29T17:15:41.451Z"
   },
   {
    "duration": 3,
    "start_time": "2024-08-29T17:15:41.476Z"
   },
   {
    "duration": 7,
    "start_time": "2024-08-29T17:15:41.481Z"
   },
   {
    "duration": 42,
    "start_time": "2024-08-29T17:15:41.490Z"
   },
   {
    "duration": 10,
    "start_time": "2024-08-29T17:15:41.534Z"
   },
   {
    "duration": 11,
    "start_time": "2024-08-29T17:15:41.547Z"
   },
   {
    "duration": 10,
    "start_time": "2024-08-29T17:15:41.562Z"
   },
   {
    "duration": 175,
    "start_time": "2024-08-29T17:15:41.573Z"
   },
   {
    "duration": 7,
    "start_time": "2024-08-29T17:15:41.750Z"
   },
   {
    "duration": 20,
    "start_time": "2024-08-29T17:15:41.761Z"
   },
   {
    "duration": 165,
    "start_time": "2024-08-29T17:15:41.783Z"
   },
   {
    "duration": 197,
    "start_time": "2024-08-29T17:15:41.949Z"
   },
   {
    "duration": 8,
    "start_time": "2024-08-29T17:15:42.148Z"
   },
   {
    "duration": 369,
    "start_time": "2024-08-29T17:15:42.157Z"
   },
   {
    "duration": 27,
    "start_time": "2024-08-29T17:15:42.528Z"
   },
   {
    "duration": 13,
    "start_time": "2024-08-29T17:15:42.557Z"
   },
   {
    "duration": 238,
    "start_time": "2024-08-29T17:15:42.572Z"
   },
   {
    "duration": 285,
    "start_time": "2024-08-29T17:15:42.812Z"
   },
   {
    "duration": 10,
    "start_time": "2024-08-29T17:15:43.098Z"
   },
   {
    "duration": 142,
    "start_time": "2024-08-29T17:15:43.110Z"
   },
   {
    "duration": 107,
    "start_time": "2024-08-29T17:15:43.254Z"
   },
   {
    "duration": 5,
    "start_time": "2024-08-29T17:15:43.362Z"
   },
   {
    "duration": 134,
    "start_time": "2024-08-29T17:15:43.369Z"
   },
   {
    "duration": 128,
    "start_time": "2024-08-29T17:15:43.505Z"
   },
   {
    "duration": 4,
    "start_time": "2024-08-29T17:15:43.635Z"
   },
   {
    "duration": 3,
    "start_time": "2024-08-29T17:15:43.640Z"
   },
   {
    "duration": 15,
    "start_time": "2024-08-29T17:19:04.677Z"
   },
   {
    "duration": 3,
    "start_time": "2024-08-29T17:23:53.268Z"
   },
   {
    "duration": 4,
    "start_time": "2024-08-29T17:26:52.743Z"
   },
   {
    "duration": 8,
    "start_time": "2024-08-29T17:27:11.513Z"
   },
   {
    "duration": 6,
    "start_time": "2024-08-29T17:28:08.610Z"
   },
   {
    "duration": 7,
    "start_time": "2024-08-29T17:28:21.207Z"
   },
   {
    "duration": 315,
    "start_time": "2024-08-29T17:29:10.796Z"
   },
   {
    "duration": 7,
    "start_time": "2024-08-29T17:29:24.825Z"
   },
   {
    "duration": 8,
    "start_time": "2024-08-29T17:29:34.584Z"
   },
   {
    "duration": 9,
    "start_time": "2024-08-29T17:29:48.546Z"
   },
   {
    "duration": 9,
    "start_time": "2024-08-29T17:29:57.107Z"
   },
   {
    "duration": 7,
    "start_time": "2024-08-29T17:30:27.170Z"
   },
   {
    "duration": 7,
    "start_time": "2024-08-29T17:33:20.166Z"
   },
   {
    "duration": 13,
    "start_time": "2024-08-29T17:33:48.920Z"
   },
   {
    "duration": 6,
    "start_time": "2024-08-29T17:34:17.008Z"
   },
   {
    "duration": 22,
    "start_time": "2024-08-29T17:34:22.539Z"
   },
   {
    "duration": 10,
    "start_time": "2024-08-29T17:34:31.847Z"
   },
   {
    "duration": 11,
    "start_time": "2024-08-29T17:34:50.745Z"
   },
   {
    "duration": 9,
    "start_time": "2024-08-29T17:36:17.481Z"
   },
   {
    "duration": 14,
    "start_time": "2024-08-29T17:43:16.831Z"
   },
   {
    "duration": 25,
    "start_time": "2024-08-29T17:43:40.574Z"
   },
   {
    "duration": 21,
    "start_time": "2024-08-29T17:43:48.449Z"
   },
   {
    "duration": 20,
    "start_time": "2024-08-29T17:44:27.142Z"
   },
   {
    "duration": 20,
    "start_time": "2024-08-29T17:44:38.208Z"
   },
   {
    "duration": 21,
    "start_time": "2024-08-29T17:46:07.671Z"
   },
   {
    "duration": 17,
    "start_time": "2024-08-29T17:46:27.034Z"
   },
   {
    "duration": 20,
    "start_time": "2024-08-29T17:55:05.235Z"
   },
   {
    "duration": 16,
    "start_time": "2024-08-29T17:56:24.275Z"
   },
   {
    "duration": 13,
    "start_time": "2024-08-29T17:57:06.565Z"
   },
   {
    "duration": 16,
    "start_time": "2024-08-29T17:57:39.278Z"
   },
   {
    "duration": 16,
    "start_time": "2024-08-29T17:58:04.484Z"
   },
   {
    "duration": 22,
    "start_time": "2024-08-29T17:59:26.819Z"
   },
   {
    "duration": 14,
    "start_time": "2024-08-29T17:59:55.627Z"
   },
   {
    "duration": 24,
    "start_time": "2024-08-29T18:01:10.972Z"
   },
   {
    "duration": 14,
    "start_time": "2024-08-29T18:01:34.844Z"
   },
   {
    "duration": 15,
    "start_time": "2024-08-29T18:01:55.938Z"
   },
   {
    "duration": 14,
    "start_time": "2024-08-29T18:02:13.474Z"
   },
   {
    "duration": 814,
    "start_time": "2024-08-29T18:02:34.510Z"
   },
   {
    "duration": 39,
    "start_time": "2024-08-29T18:02:35.326Z"
   },
   {
    "duration": 27,
    "start_time": "2024-08-29T18:02:35.367Z"
   },
   {
    "duration": 49,
    "start_time": "2024-08-29T18:02:35.396Z"
   },
   {
    "duration": 18,
    "start_time": "2024-08-29T18:02:35.449Z"
   },
   {
    "duration": 4,
    "start_time": "2024-08-29T18:02:35.469Z"
   },
   {
    "duration": 5,
    "start_time": "2024-08-29T18:02:35.474Z"
   },
   {
    "duration": 5,
    "start_time": "2024-08-29T18:02:35.481Z"
   },
   {
    "duration": 50,
    "start_time": "2024-08-29T18:02:35.489Z"
   },
   {
    "duration": 9,
    "start_time": "2024-08-29T18:02:35.541Z"
   },
   {
    "duration": 8,
    "start_time": "2024-08-29T18:02:35.552Z"
   },
   {
    "duration": 166,
    "start_time": "2024-08-29T18:02:35.562Z"
   },
   {
    "duration": 7,
    "start_time": "2024-08-29T18:02:35.731Z"
   },
   {
    "duration": 13,
    "start_time": "2024-08-29T18:02:35.742Z"
   },
   {
    "duration": 171,
    "start_time": "2024-08-29T18:02:35.757Z"
   },
   {
    "duration": 198,
    "start_time": "2024-08-29T18:02:35.931Z"
   },
   {
    "duration": 8,
    "start_time": "2024-08-29T18:02:36.132Z"
   },
   {
    "duration": 371,
    "start_time": "2024-08-29T18:02:36.141Z"
   },
   {
    "duration": 21,
    "start_time": "2024-08-29T18:02:36.514Z"
   },
   {
    "duration": 235,
    "start_time": "2024-08-29T18:02:36.536Z"
   },
   {
    "duration": 248,
    "start_time": "2024-08-29T18:02:36.774Z"
   },
   {
    "duration": 14,
    "start_time": "2024-08-29T18:02:37.024Z"
   },
   {
    "duration": 124,
    "start_time": "2024-08-29T18:02:37.040Z"
   },
   {
    "duration": 112,
    "start_time": "2024-08-29T18:02:37.166Z"
   },
   {
    "duration": 3,
    "start_time": "2024-08-29T18:02:37.280Z"
   },
   {
    "duration": 124,
    "start_time": "2024-08-29T18:02:37.285Z"
   },
   {
    "duration": 120,
    "start_time": "2024-08-29T18:02:37.411Z"
   },
   {
    "duration": 4,
    "start_time": "2024-08-29T18:02:37.533Z"
   },
   {
    "duration": 11,
    "start_time": "2024-08-29T18:02:37.539Z"
   },
   {
    "duration": 12,
    "start_time": "2024-08-29T18:02:37.551Z"
   },
   {
    "duration": 12,
    "start_time": "2024-08-29T18:02:37.565Z"
   },
   {
    "duration": 16,
    "start_time": "2024-08-29T18:04:21.252Z"
   },
   {
    "duration": 16,
    "start_time": "2024-08-29T18:04:43.368Z"
   },
   {
    "duration": 16,
    "start_time": "2024-08-29T18:04:49.686Z"
   },
   {
    "duration": 14,
    "start_time": "2024-08-29T18:05:20.951Z"
   },
   {
    "duration": 309,
    "start_time": "2024-08-29T18:06:33.623Z"
   },
   {
    "duration": 3,
    "start_time": "2024-08-29T18:07:07.679Z"
   },
   {
    "duration": 17,
    "start_time": "2024-08-29T18:07:23.195Z"
   },
   {
    "duration": 4,
    "start_time": "2024-08-29T18:08:30.334Z"
   },
   {
    "duration": 14,
    "start_time": "2024-08-29T18:08:55.562Z"
   },
   {
    "duration": 8,
    "start_time": "2024-08-29T18:10:41.537Z"
   },
   {
    "duration": 453,
    "start_time": "2024-08-29T18:14:38.832Z"
   },
   {
    "duration": 56,
    "start_time": "2024-08-29T18:16:01.640Z"
   },
   {
    "duration": 9,
    "start_time": "2024-08-29T18:16:11.163Z"
   },
   {
    "duration": 16,
    "start_time": "2024-08-29T18:16:30.157Z"
   },
   {
    "duration": 18,
    "start_time": "2024-08-29T18:26:07.665Z"
   },
   {
    "duration": 18,
    "start_time": "2024-08-29T18:27:42.538Z"
   },
   {
    "duration": 26,
    "start_time": "2024-08-29T18:28:10.404Z"
   },
   {
    "duration": 18,
    "start_time": "2024-08-29T18:28:18.436Z"
   },
   {
    "duration": 110,
    "start_time": "2024-08-29T18:33:25.063Z"
   },
   {
    "duration": 8,
    "start_time": "2024-08-29T18:33:35.197Z"
   },
   {
    "duration": 3,
    "start_time": "2024-08-29T18:42:28.811Z"
   },
   {
    "duration": 8,
    "start_time": "2024-08-29T18:45:53.592Z"
   },
   {
    "duration": 5,
    "start_time": "2024-08-29T18:46:53.350Z"
   },
   {
    "duration": 8,
    "start_time": "2024-08-29T18:47:01.451Z"
   },
   {
    "duration": 11,
    "start_time": "2024-08-29T18:50:09.693Z"
   },
   {
    "duration": 16,
    "start_time": "2024-08-29T18:50:22.909Z"
   },
   {
    "duration": 5,
    "start_time": "2024-08-29T18:50:26.475Z"
   },
   {
    "duration": 4,
    "start_time": "2024-08-29T18:50:32.567Z"
   },
   {
    "duration": 14,
    "start_time": "2024-08-29T18:50:37.792Z"
   },
   {
    "duration": 6,
    "start_time": "2024-08-29T18:50:51.584Z"
   },
   {
    "duration": 12,
    "start_time": "2024-08-29T18:51:00.625Z"
   },
   {
    "duration": 18,
    "start_time": "2024-08-29T18:53:37.869Z"
   },
   {
    "duration": 19,
    "start_time": "2024-08-29T18:54:39.324Z"
   },
   {
    "duration": 172,
    "start_time": "2024-08-29T22:20:22.003Z"
   },
   {
    "duration": 2551,
    "start_time": "2024-08-29T22:20:28.791Z"
   },
   {
    "duration": 44,
    "start_time": "2024-08-29T22:20:31.345Z"
   },
   {
    "duration": 38,
    "start_time": "2024-08-29T22:20:31.391Z"
   },
   {
    "duration": 24,
    "start_time": "2024-08-29T22:20:31.432Z"
   },
   {
    "duration": 53,
    "start_time": "2024-08-29T22:20:31.458Z"
   },
   {
    "duration": 2,
    "start_time": "2024-08-29T22:20:31.513Z"
   },
   {
    "duration": 6,
    "start_time": "2024-08-29T22:20:31.517Z"
   },
   {
    "duration": 6,
    "start_time": "2024-08-29T22:20:31.524Z"
   },
   {
    "duration": 8,
    "start_time": "2024-08-29T22:20:31.531Z"
   },
   {
    "duration": 8,
    "start_time": "2024-08-29T22:20:31.543Z"
   },
   {
    "duration": 7,
    "start_time": "2024-08-29T22:20:31.552Z"
   },
   {
    "duration": 188,
    "start_time": "2024-08-29T22:20:31.561Z"
   },
   {
    "duration": 7,
    "start_time": "2024-08-29T22:20:31.751Z"
   },
   {
    "duration": 16,
    "start_time": "2024-08-29T22:20:31.760Z"
   },
   {
    "duration": 155,
    "start_time": "2024-08-29T22:20:31.778Z"
   },
   {
    "duration": 146,
    "start_time": "2024-08-29T22:20:31.934Z"
   },
   {
    "duration": 7,
    "start_time": "2024-08-29T22:20:32.081Z"
   },
   {
    "duration": 383,
    "start_time": "2024-08-29T22:20:32.090Z"
   },
   {
    "duration": 22,
    "start_time": "2024-08-29T22:20:32.475Z"
   },
   {
    "duration": 229,
    "start_time": "2024-08-29T22:20:32.498Z"
   },
   {
    "duration": 263,
    "start_time": "2024-08-29T22:20:32.729Z"
   },
   {
    "duration": 9,
    "start_time": "2024-08-29T22:20:32.994Z"
   },
   {
    "duration": 121,
    "start_time": "2024-08-29T22:20:33.009Z"
   },
   {
    "duration": 111,
    "start_time": "2024-08-29T22:20:33.131Z"
   },
   {
    "duration": 4,
    "start_time": "2024-08-29T22:20:33.244Z"
   },
   {
    "duration": 639,
    "start_time": "2024-08-29T22:20:33.250Z"
   },
   {
    "duration": 0,
    "start_time": "2024-08-29T22:20:33.892Z"
   },
   {
    "duration": 0,
    "start_time": "2024-08-29T22:20:33.893Z"
   },
   {
    "duration": 0,
    "start_time": "2024-08-29T22:20:33.895Z"
   },
   {
    "duration": 0,
    "start_time": "2024-08-29T22:20:33.896Z"
   },
   {
    "duration": 0,
    "start_time": "2024-08-29T22:20:33.910Z"
   },
   {
    "duration": 0,
    "start_time": "2024-08-29T22:20:33.911Z"
   },
   {
    "duration": 0,
    "start_time": "2024-08-29T22:20:33.913Z"
   },
   {
    "duration": 120,
    "start_time": "2024-08-29T22:21:30.891Z"
   },
   {
    "duration": 120,
    "start_time": "2024-08-29T22:21:35.290Z"
   },
   {
    "duration": 113,
    "start_time": "2024-08-29T22:21:36.432Z"
   },
   {
    "duration": 5,
    "start_time": "2024-08-29T22:21:40.197Z"
   },
   {
    "duration": 13,
    "start_time": "2024-08-29T22:21:44.379Z"
   },
   {
    "duration": 18,
    "start_time": "2024-08-29T22:21:52.033Z"
   },
   {
    "duration": 9,
    "start_time": "2024-08-29T22:21:57.568Z"
   },
   {
    "duration": 24,
    "start_time": "2024-08-29T22:22:01.615Z"
   },
   {
    "duration": 22,
    "start_time": "2024-08-29T22:22:21.676Z"
   },
   {
    "duration": 10,
    "start_time": "2024-08-29T22:22:29.354Z"
   },
   {
    "duration": 12,
    "start_time": "2024-08-29T22:24:48.612Z"
   },
   {
    "duration": 14,
    "start_time": "2024-08-29T22:26:33.865Z"
   },
   {
    "duration": 8,
    "start_time": "2024-08-29T22:26:44.597Z"
   },
   {
    "duration": 15,
    "start_time": "2024-08-29T22:27:35.770Z"
   },
   {
    "duration": 23,
    "start_time": "2024-08-29T22:30:23.363Z"
   },
   {
    "duration": 12,
    "start_time": "2024-08-29T22:30:45.042Z"
   },
   {
    "duration": 22,
    "start_time": "2024-08-29T22:31:09.278Z"
   },
   {
    "duration": 12,
    "start_time": "2024-08-29T22:34:08.761Z"
   },
   {
    "duration": 27,
    "start_time": "2024-08-29T22:34:28.123Z"
   },
   {
    "duration": 6,
    "start_time": "2024-08-29T22:35:58.463Z"
   },
   {
    "duration": 762,
    "start_time": "2024-08-29T22:37:12.708Z"
   },
   {
    "duration": 76,
    "start_time": "2024-08-29T22:37:48.430Z"
   },
   {
    "duration": 22,
    "start_time": "2024-08-29T22:38:31.777Z"
   },
   {
    "duration": 12,
    "start_time": "2024-08-29T22:39:41.917Z"
   },
   {
    "duration": 22,
    "start_time": "2024-08-29T22:40:11.481Z"
   },
   {
    "duration": 828,
    "start_time": "2024-08-29T22:40:31.759Z"
   },
   {
    "duration": 38,
    "start_time": "2024-08-29T22:40:32.590Z"
   },
   {
    "duration": 26,
    "start_time": "2024-08-29T22:40:32.629Z"
   },
   {
    "duration": 57,
    "start_time": "2024-08-29T22:40:32.656Z"
   },
   {
    "duration": 18,
    "start_time": "2024-08-29T22:40:32.716Z"
   },
   {
    "duration": 3,
    "start_time": "2024-08-29T22:40:32.736Z"
   },
   {
    "duration": 7,
    "start_time": "2024-08-29T22:40:32.740Z"
   },
   {
    "duration": 5,
    "start_time": "2024-08-29T22:40:32.749Z"
   },
   {
    "duration": 8,
    "start_time": "2024-08-29T22:40:32.757Z"
   },
   {
    "duration": 50,
    "start_time": "2024-08-29T22:40:32.766Z"
   },
   {
    "duration": 8,
    "start_time": "2024-08-29T22:40:32.817Z"
   },
   {
    "duration": 159,
    "start_time": "2024-08-29T22:40:32.827Z"
   },
   {
    "duration": 6,
    "start_time": "2024-08-29T22:40:32.988Z"
   },
   {
    "duration": 14,
    "start_time": "2024-08-29T22:40:33.011Z"
   },
   {
    "duration": 148,
    "start_time": "2024-08-29T22:40:33.026Z"
   },
   {
    "duration": 202,
    "start_time": "2024-08-29T22:40:33.177Z"
   },
   {
    "duration": 6,
    "start_time": "2024-08-29T22:40:33.381Z"
   },
   {
    "duration": 349,
    "start_time": "2024-08-29T22:40:33.389Z"
   },
   {
    "duration": 24,
    "start_time": "2024-08-29T22:40:33.739Z"
   },
   {
    "duration": 14,
    "start_time": "2024-08-29T22:40:33.766Z"
   },
   {
    "duration": 233,
    "start_time": "2024-08-29T22:40:33.782Z"
   },
   {
    "duration": 255,
    "start_time": "2024-08-29T22:40:34.017Z"
   },
   {
    "duration": 10,
    "start_time": "2024-08-29T22:40:34.273Z"
   },
   {
    "duration": 129,
    "start_time": "2024-08-29T22:40:34.285Z"
   },
   {
    "duration": 111,
    "start_time": "2024-08-29T22:40:34.416Z"
   },
   {
    "duration": 5,
    "start_time": "2024-08-29T22:40:34.529Z"
   },
   {
    "duration": 128,
    "start_time": "2024-08-29T22:40:34.536Z"
   },
   {
    "duration": 126,
    "start_time": "2024-08-29T22:40:34.666Z"
   },
   {
    "duration": 4,
    "start_time": "2024-08-29T22:40:34.794Z"
   },
   {
    "duration": 17,
    "start_time": "2024-08-29T22:40:34.800Z"
   },
   {
    "duration": 17,
    "start_time": "2024-08-29T22:40:34.819Z"
   },
   {
    "duration": 9,
    "start_time": "2024-08-29T22:40:34.837Z"
   },
   {
    "duration": 12,
    "start_time": "2024-08-29T22:40:34.848Z"
   },
   {
    "duration": 7,
    "start_time": "2024-08-29T22:40:34.862Z"
   },
   {
    "duration": 43,
    "start_time": "2024-08-29T22:40:34.871Z"
   },
   {
    "duration": 338,
    "start_time": "2024-08-29T22:58:39.896Z"
   },
   {
    "duration": 495,
    "start_time": "2024-08-29T22:59:08.327Z"
   },
   {
    "duration": 6,
    "start_time": "2024-08-29T23:00:05.823Z"
   },
   {
    "duration": 4,
    "start_time": "2024-08-29T23:00:10.200Z"
   },
   {
    "duration": 15,
    "start_time": "2024-08-29T23:01:02.255Z"
   },
   {
    "duration": 12,
    "start_time": "2024-08-29T23:01:13.238Z"
   },
   {
    "duration": 5,
    "start_time": "2024-08-29T23:01:24.004Z"
   },
   {
    "duration": 12,
    "start_time": "2024-08-29T23:04:29.683Z"
   },
   {
    "duration": 13,
    "start_time": "2024-08-29T23:04:41.485Z"
   },
   {
    "duration": 12,
    "start_time": "2024-08-29T23:05:03.779Z"
   },
   {
    "duration": 15,
    "start_time": "2024-08-29T23:05:30.856Z"
   },
   {
    "duration": 16,
    "start_time": "2024-08-29T23:07:00.942Z"
   },
   {
    "duration": 10,
    "start_time": "2024-08-29T23:08:26.895Z"
   },
   {
    "duration": 15,
    "start_time": "2024-08-29T23:10:32.831Z"
   },
   {
    "duration": 11,
    "start_time": "2024-08-29T23:10:50.108Z"
   },
   {
    "duration": 188,
    "start_time": "2024-08-29T23:23:05.414Z"
   },
   {
    "duration": 953,
    "start_time": "2024-08-29T23:23:18.036Z"
   },
   {
    "duration": 50,
    "start_time": "2024-08-29T23:23:18.992Z"
   },
   {
    "duration": 25,
    "start_time": "2024-08-29T23:23:19.044Z"
   },
   {
    "duration": 47,
    "start_time": "2024-08-29T23:23:19.071Z"
   },
   {
    "duration": 24,
    "start_time": "2024-08-29T23:23:19.121Z"
   },
   {
    "duration": 2,
    "start_time": "2024-08-29T23:23:19.146Z"
   },
   {
    "duration": 7,
    "start_time": "2024-08-29T23:23:19.150Z"
   },
   {
    "duration": 6,
    "start_time": "2024-08-29T23:23:19.158Z"
   },
   {
    "duration": 48,
    "start_time": "2024-08-29T23:23:19.166Z"
   },
   {
    "duration": 14,
    "start_time": "2024-08-29T23:23:19.216Z"
   },
   {
    "duration": 10,
    "start_time": "2024-08-29T23:23:19.232Z"
   },
   {
    "duration": 161,
    "start_time": "2024-08-29T23:23:19.243Z"
   },
   {
    "duration": 11,
    "start_time": "2024-08-29T23:23:19.407Z"
   },
   {
    "duration": 22,
    "start_time": "2024-08-29T23:23:19.423Z"
   },
   {
    "duration": 156,
    "start_time": "2024-08-29T23:23:19.447Z"
   },
   {
    "duration": 184,
    "start_time": "2024-08-29T23:23:19.604Z"
   },
   {
    "duration": 6,
    "start_time": "2024-08-29T23:23:19.790Z"
   },
   {
    "duration": 383,
    "start_time": "2024-08-29T23:23:19.798Z"
   },
   {
    "duration": 22,
    "start_time": "2024-08-29T23:23:20.184Z"
   },
   {
    "duration": 17,
    "start_time": "2024-08-29T23:23:20.208Z"
   },
   {
    "duration": 272,
    "start_time": "2024-08-29T23:23:20.227Z"
   },
   {
    "duration": 273,
    "start_time": "2024-08-29T23:23:20.501Z"
   },
   {
    "duration": 10,
    "start_time": "2024-08-29T23:23:20.776Z"
   },
   {
    "duration": 124,
    "start_time": "2024-08-29T23:23:20.788Z"
   },
   {
    "duration": 131,
    "start_time": "2024-08-29T23:23:20.914Z"
   },
   {
    "duration": 5,
    "start_time": "2024-08-29T23:23:21.047Z"
   },
   {
    "duration": 139,
    "start_time": "2024-08-29T23:23:21.053Z"
   },
   {
    "duration": 145,
    "start_time": "2024-08-29T23:23:21.194Z"
   },
   {
    "duration": 4,
    "start_time": "2024-08-29T23:23:21.342Z"
   },
   {
    "duration": 13,
    "start_time": "2024-08-29T23:23:21.348Z"
   },
   {
    "duration": 22,
    "start_time": "2024-08-29T23:23:21.362Z"
   },
   {
    "duration": 9,
    "start_time": "2024-08-29T23:23:21.387Z"
   },
   {
    "duration": 25,
    "start_time": "2024-08-29T23:23:21.398Z"
   },
   {
    "duration": 12,
    "start_time": "2024-08-29T23:24:24.346Z"
   },
   {
    "duration": 23,
    "start_time": "2024-08-29T23:26:22.201Z"
   },
   {
    "duration": 25,
    "start_time": "2024-08-29T23:27:40.103Z"
   },
   {
    "duration": 16,
    "start_time": "2024-08-29T23:28:46.422Z"
   },
   {
    "duration": 516,
    "start_time": "2024-08-29T23:29:39.064Z"
   },
   {
    "duration": 15,
    "start_time": "2024-08-29T23:30:41.810Z"
   },
   {
    "duration": 15,
    "start_time": "2024-08-29T23:30:47.617Z"
   },
   {
    "duration": 15,
    "start_time": "2024-08-29T23:31:19.853Z"
   },
   {
    "duration": 18,
    "start_time": "2024-08-29T23:32:39.610Z"
   },
   {
    "duration": 20,
    "start_time": "2024-08-29T23:33:41.372Z"
   },
   {
    "duration": 12,
    "start_time": "2024-08-29T23:34:27.470Z"
   },
   {
    "duration": 62,
    "start_time": "2024-08-29T23:37:03.703Z"
   },
   {
    "duration": 7,
    "start_time": "2024-08-29T23:37:20.794Z"
   },
   {
    "duration": 12,
    "start_time": "2024-08-29T23:40:37.049Z"
   },
   {
    "duration": 8,
    "start_time": "2024-08-29T23:40:57.449Z"
   },
   {
    "duration": 8,
    "start_time": "2024-08-29T23:41:01.102Z"
   },
   {
    "duration": 9,
    "start_time": "2024-08-29T23:53:14.668Z"
   },
   {
    "duration": 14,
    "start_time": "2024-08-29T23:53:24.680Z"
   },
   {
    "duration": 18,
    "start_time": "2024-08-29T23:56:05.585Z"
   },
   {
    "duration": 133,
    "start_time": "2024-08-29T23:58:32.904Z"
   },
   {
    "duration": 14,
    "start_time": "2024-08-29T23:59:06.502Z"
   },
   {
    "duration": 15,
    "start_time": "2024-08-29T23:59:58.079Z"
   },
   {
    "duration": 14,
    "start_time": "2024-08-30T00:01:02.631Z"
   },
   {
    "duration": 15,
    "start_time": "2024-08-30T00:01:11.186Z"
   },
   {
    "duration": 143,
    "start_time": "2024-08-30T00:09:55.259Z"
   },
   {
    "duration": 311,
    "start_time": "2024-08-30T00:11:07.790Z"
   },
   {
    "duration": 318,
    "start_time": "2024-08-30T00:11:24.853Z"
   },
   {
    "duration": 228,
    "start_time": "2024-08-30T00:14:14.187Z"
   },
   {
    "duration": 46,
    "start_time": "2024-08-30T00:14:59.978Z"
   },
   {
    "duration": 233,
    "start_time": "2024-08-30T00:16:09.175Z"
   },
   {
    "duration": 236,
    "start_time": "2024-08-30T00:16:34.767Z"
   },
   {
    "duration": 810,
    "start_time": "2024-08-30T00:17:04.988Z"
   },
   {
    "duration": 35,
    "start_time": "2024-08-30T00:17:05.801Z"
   },
   {
    "duration": 25,
    "start_time": "2024-08-30T00:17:05.838Z"
   },
   {
    "duration": 56,
    "start_time": "2024-08-30T00:17:05.865Z"
   },
   {
    "duration": 20,
    "start_time": "2024-08-30T00:17:05.922Z"
   },
   {
    "duration": 2,
    "start_time": "2024-08-30T00:17:05.944Z"
   },
   {
    "duration": 7,
    "start_time": "2024-08-30T00:17:05.948Z"
   },
   {
    "duration": 6,
    "start_time": "2024-08-30T00:17:05.957Z"
   },
   {
    "duration": 46,
    "start_time": "2024-08-30T00:17:05.965Z"
   },
   {
    "duration": 10,
    "start_time": "2024-08-30T00:17:06.014Z"
   },
   {
    "duration": 8,
    "start_time": "2024-08-30T00:17:06.025Z"
   },
   {
    "duration": 165,
    "start_time": "2024-08-30T00:17:06.034Z"
   },
   {
    "duration": 13,
    "start_time": "2024-08-30T00:17:06.200Z"
   },
   {
    "duration": 14,
    "start_time": "2024-08-30T00:17:06.215Z"
   },
   {
    "duration": 170,
    "start_time": "2024-08-30T00:17:06.230Z"
   },
   {
    "duration": 189,
    "start_time": "2024-08-30T00:17:06.401Z"
   },
   {
    "duration": 6,
    "start_time": "2024-08-30T00:17:06.592Z"
   },
   {
    "duration": 349,
    "start_time": "2024-08-30T00:17:06.600Z"
   },
   {
    "duration": 21,
    "start_time": "2024-08-30T00:17:06.952Z"
   },
   {
    "duration": 11,
    "start_time": "2024-08-30T00:17:06.975Z"
   },
   {
    "duration": 242,
    "start_time": "2024-08-30T00:17:06.988Z"
   },
   {
    "duration": 281,
    "start_time": "2024-08-30T00:17:07.232Z"
   },
   {
    "duration": 10,
    "start_time": "2024-08-30T00:17:07.515Z"
   },
   {
    "duration": 129,
    "start_time": "2024-08-30T00:17:07.526Z"
   },
   {
    "duration": 116,
    "start_time": "2024-08-30T00:17:07.657Z"
   },
   {
    "duration": 4,
    "start_time": "2024-08-30T00:17:07.775Z"
   },
   {
    "duration": 132,
    "start_time": "2024-08-30T00:17:07.781Z"
   },
   {
    "duration": 122,
    "start_time": "2024-08-30T00:17:07.917Z"
   },
   {
    "duration": 4,
    "start_time": "2024-08-30T00:17:08.041Z"
   },
   {
    "duration": 12,
    "start_time": "2024-08-30T00:17:08.047Z"
   },
   {
    "duration": 17,
    "start_time": "2024-08-30T00:17:08.061Z"
   },
   {
    "duration": 33,
    "start_time": "2024-08-30T00:17:08.080Z"
   },
   {
    "duration": 12,
    "start_time": "2024-08-30T00:17:08.114Z"
   },
   {
    "duration": 10,
    "start_time": "2024-08-30T00:17:08.128Z"
   },
   {
    "duration": 19,
    "start_time": "2024-08-30T00:17:08.139Z"
   },
   {
    "duration": 8,
    "start_time": "2024-08-30T00:17:08.159Z"
   },
   {
    "duration": 40,
    "start_time": "2024-08-30T00:17:08.170Z"
   },
   {
    "duration": 15,
    "start_time": "2024-08-30T00:17:08.212Z"
   },
   {
    "duration": 154,
    "start_time": "2024-08-30T00:17:08.229Z"
   },
   {
    "duration": 317,
    "start_time": "2024-08-30T00:17:08.385Z"
   },
   {
    "duration": 292,
    "start_time": "2024-08-30T00:17:08.704Z"
   },
   {
    "duration": 249,
    "start_time": "2024-08-30T00:17:08.998Z"
   },
   {
    "duration": 824,
    "start_time": "2024-08-30T00:19:06.047Z"
   },
   {
    "duration": 40,
    "start_time": "2024-08-30T00:19:06.873Z"
   },
   {
    "duration": 25,
    "start_time": "2024-08-30T00:19:06.915Z"
   },
   {
    "duration": 25,
    "start_time": "2024-08-30T00:19:06.942Z"
   },
   {
    "duration": 56,
    "start_time": "2024-08-30T00:19:06.969Z"
   },
   {
    "duration": 3,
    "start_time": "2024-08-30T00:19:07.026Z"
   },
   {
    "duration": 6,
    "start_time": "2024-08-30T00:19:07.030Z"
   },
   {
    "duration": 5,
    "start_time": "2024-08-30T00:19:07.038Z"
   },
   {
    "duration": 8,
    "start_time": "2024-08-30T00:19:07.046Z"
   },
   {
    "duration": 8,
    "start_time": "2024-08-30T00:19:07.058Z"
   },
   {
    "duration": 7,
    "start_time": "2024-08-30T00:19:07.109Z"
   },
   {
    "duration": 169,
    "start_time": "2024-08-30T00:19:07.118Z"
   },
   {
    "duration": 8,
    "start_time": "2024-08-30T00:19:07.289Z"
   },
   {
    "duration": 23,
    "start_time": "2024-08-30T00:19:07.298Z"
   },
   {
    "duration": 157,
    "start_time": "2024-08-30T00:19:07.323Z"
   },
   {
    "duration": 198,
    "start_time": "2024-08-30T00:19:07.482Z"
   },
   {
    "duration": 7,
    "start_time": "2024-08-30T00:19:07.682Z"
   },
   {
    "duration": 374,
    "start_time": "2024-08-30T00:19:07.691Z"
   },
   {
    "duration": 24,
    "start_time": "2024-08-30T00:19:08.067Z"
   },
   {
    "duration": 11,
    "start_time": "2024-08-30T00:19:08.093Z"
   },
   {
    "duration": 236,
    "start_time": "2024-08-30T00:19:08.106Z"
   },
   {
    "duration": 251,
    "start_time": "2024-08-30T00:19:08.344Z"
   },
   {
    "duration": 16,
    "start_time": "2024-08-30T00:19:08.597Z"
   },
   {
    "duration": 122,
    "start_time": "2024-08-30T00:19:08.614Z"
   },
   {
    "duration": 112,
    "start_time": "2024-08-30T00:19:08.737Z"
   },
   {
    "duration": 4,
    "start_time": "2024-08-30T00:19:08.851Z"
   },
   {
    "duration": 134,
    "start_time": "2024-08-30T00:19:08.856Z"
   },
   {
    "duration": 121,
    "start_time": "2024-08-30T00:19:08.995Z"
   },
   {
    "duration": 5,
    "start_time": "2024-08-30T00:19:09.117Z"
   },
   {
    "duration": 13,
    "start_time": "2024-08-30T00:19:09.123Z"
   },
   {
    "duration": 17,
    "start_time": "2024-08-30T00:19:09.138Z"
   },
   {
    "duration": 9,
    "start_time": "2024-08-30T00:19:09.156Z"
   },
   {
    "duration": 47,
    "start_time": "2024-08-30T00:19:09.167Z"
   },
   {
    "duration": 11,
    "start_time": "2024-08-30T00:19:09.215Z"
   },
   {
    "duration": 18,
    "start_time": "2024-08-30T00:19:09.228Z"
   },
   {
    "duration": 7,
    "start_time": "2024-08-30T00:19:09.248Z"
   },
   {
    "duration": 12,
    "start_time": "2024-08-30T00:19:09.256Z"
   },
   {
    "duration": 39,
    "start_time": "2024-08-30T00:19:09.270Z"
   },
   {
    "duration": 150,
    "start_time": "2024-08-30T00:19:09.311Z"
   },
   {
    "duration": 334,
    "start_time": "2024-08-30T00:19:09.463Z"
   },
   {
    "duration": 237,
    "start_time": "2024-08-30T00:19:09.798Z"
   },
   {
    "duration": 321,
    "start_time": "2024-08-30T00:19:10.037Z"
   },
   {
    "duration": 163,
    "start_time": "2024-08-30T16:10:29.046Z"
   },
   {
    "duration": 2803,
    "start_time": "2024-08-30T16:10:32.669Z"
   },
   {
    "duration": 49,
    "start_time": "2024-08-30T16:10:35.474Z"
   },
   {
    "duration": 33,
    "start_time": "2024-08-30T16:10:35.525Z"
   },
   {
    "duration": 55,
    "start_time": "2024-08-30T16:10:35.561Z"
   },
   {
    "duration": 24,
    "start_time": "2024-08-30T16:10:35.617Z"
   },
   {
    "duration": 3,
    "start_time": "2024-08-30T16:10:35.642Z"
   },
   {
    "duration": 8,
    "start_time": "2024-08-30T16:10:35.647Z"
   },
   {
    "duration": 7,
    "start_time": "2024-08-30T16:10:35.657Z"
   },
   {
    "duration": 50,
    "start_time": "2024-08-30T16:10:35.666Z"
   },
   {
    "duration": 8,
    "start_time": "2024-08-30T16:10:35.720Z"
   },
   {
    "duration": 9,
    "start_time": "2024-08-30T16:10:35.730Z"
   },
   {
    "duration": 179,
    "start_time": "2024-08-30T16:10:35.740Z"
   },
   {
    "duration": 8,
    "start_time": "2024-08-30T16:10:35.923Z"
   },
   {
    "duration": 17,
    "start_time": "2024-08-30T16:10:35.933Z"
   },
   {
    "duration": 161,
    "start_time": "2024-08-30T16:10:35.952Z"
   },
   {
    "duration": 168,
    "start_time": "2024-08-30T16:10:36.116Z"
   },
   {
    "duration": 7,
    "start_time": "2024-08-30T16:10:36.286Z"
   },
   {
    "duration": 404,
    "start_time": "2024-08-30T16:10:36.297Z"
   },
   {
    "duration": 30,
    "start_time": "2024-08-30T16:10:36.703Z"
   },
   {
    "duration": 16,
    "start_time": "2024-08-30T16:10:36.734Z"
   },
   {
    "duration": 259,
    "start_time": "2024-08-30T16:10:36.752Z"
   },
   {
    "duration": 270,
    "start_time": "2024-08-30T16:10:37.013Z"
   },
   {
    "duration": 12,
    "start_time": "2024-08-30T16:10:37.285Z"
   },
   {
    "duration": 138,
    "start_time": "2024-08-30T16:10:37.299Z"
   },
   {
    "duration": 115,
    "start_time": "2024-08-30T16:10:37.439Z"
   },
   {
    "duration": 5,
    "start_time": "2024-08-30T16:10:37.556Z"
   },
   {
    "duration": 147,
    "start_time": "2024-08-30T16:10:37.563Z"
   },
   {
    "duration": 124,
    "start_time": "2024-08-30T16:10:37.716Z"
   },
   {
    "duration": 4,
    "start_time": "2024-08-30T16:10:37.842Z"
   },
   {
    "duration": 14,
    "start_time": "2024-08-30T16:10:37.848Z"
   },
   {
    "duration": 21,
    "start_time": "2024-08-30T16:10:37.866Z"
   },
   {
    "duration": 10,
    "start_time": "2024-08-30T16:10:37.910Z"
   },
   {
    "duration": 15,
    "start_time": "2024-08-30T16:10:37.922Z"
   },
   {
    "duration": 11,
    "start_time": "2024-08-30T16:10:37.939Z"
   },
   {
    "duration": 21,
    "start_time": "2024-08-30T16:10:37.952Z"
   },
   {
    "duration": 40,
    "start_time": "2024-08-30T16:10:37.975Z"
   },
   {
    "duration": 10,
    "start_time": "2024-08-30T16:10:38.017Z"
   },
   {
    "duration": 21,
    "start_time": "2024-08-30T16:10:38.029Z"
   },
   {
    "duration": 177,
    "start_time": "2024-08-30T16:10:38.055Z"
   },
   {
    "duration": 454,
    "start_time": "2024-08-30T16:10:38.233Z"
   },
   {
    "duration": 266,
    "start_time": "2024-08-30T16:10:38.689Z"
   },
   {
    "duration": 154,
    "start_time": "2024-08-30T16:10:38.958Z"
   },
   {
    "duration": 14,
    "start_time": "2024-08-30T16:10:39.114Z"
   },
   {
    "duration": 13,
    "start_time": "2024-08-30T16:14:33.493Z"
   },
   {
    "duration": 15,
    "start_time": "2024-08-30T16:15:41.903Z"
   },
   {
    "duration": 13,
    "start_time": "2024-08-30T16:17:05.828Z"
   },
   {
    "duration": 15,
    "start_time": "2024-08-30T16:17:26.425Z"
   },
   {
    "duration": 156,
    "start_time": "2024-08-30T16:17:46.379Z"
   },
   {
    "duration": 147,
    "start_time": "2024-08-30T16:18:01.964Z"
   },
   {
    "duration": 11,
    "start_time": "2024-08-30T16:21:52.481Z"
   },
   {
    "duration": 19,
    "start_time": "2024-08-30T16:22:26.129Z"
   },
   {
    "duration": 805,
    "start_time": "2024-08-30T16:33:36.621Z"
   },
   {
    "duration": 50,
    "start_time": "2024-08-30T16:33:37.428Z"
   },
   {
    "duration": 26,
    "start_time": "2024-08-30T16:33:37.479Z"
   },
   {
    "duration": 48,
    "start_time": "2024-08-30T16:33:37.510Z"
   },
   {
    "duration": 18,
    "start_time": "2024-08-30T16:33:37.561Z"
   },
   {
    "duration": 3,
    "start_time": "2024-08-30T16:33:37.581Z"
   },
   {
    "duration": 30,
    "start_time": "2024-08-30T16:33:37.586Z"
   },
   {
    "duration": 8,
    "start_time": "2024-08-30T16:33:37.631Z"
   },
   {
    "duration": 9,
    "start_time": "2024-08-30T16:33:37.641Z"
   },
   {
    "duration": 8,
    "start_time": "2024-08-30T16:33:37.652Z"
   },
   {
    "duration": 8,
    "start_time": "2024-08-30T16:33:37.662Z"
   },
   {
    "duration": 172,
    "start_time": "2024-08-30T16:33:37.672Z"
   },
   {
    "duration": 12,
    "start_time": "2024-08-30T16:33:37.845Z"
   },
   {
    "duration": 12,
    "start_time": "2024-08-30T16:33:37.860Z"
   },
   {
    "duration": 166,
    "start_time": "2024-08-30T16:33:37.874Z"
   },
   {
    "duration": 201,
    "start_time": "2024-08-30T16:33:38.042Z"
   },
   {
    "duration": 6,
    "start_time": "2024-08-30T16:33:38.245Z"
   },
   {
    "duration": 352,
    "start_time": "2024-08-30T16:33:38.253Z"
   },
   {
    "duration": 22,
    "start_time": "2024-08-30T16:33:38.607Z"
   },
   {
    "duration": 14,
    "start_time": "2024-08-30T16:33:38.630Z"
   },
   {
    "duration": 243,
    "start_time": "2024-08-30T16:33:38.646Z"
   },
   {
    "duration": 253,
    "start_time": "2024-08-30T16:33:38.890Z"
   },
   {
    "duration": 10,
    "start_time": "2024-08-30T16:33:39.145Z"
   },
   {
    "duration": 140,
    "start_time": "2024-08-30T16:33:39.157Z"
   },
   {
    "duration": 104,
    "start_time": "2024-08-30T16:33:39.299Z"
   },
   {
    "duration": 5,
    "start_time": "2024-08-30T16:33:39.405Z"
   },
   {
    "duration": 132,
    "start_time": "2024-08-30T16:33:39.411Z"
   },
   {
    "duration": 127,
    "start_time": "2024-08-30T16:33:39.545Z"
   },
   {
    "duration": 4,
    "start_time": "2024-08-30T16:33:39.673Z"
   },
   {
    "duration": 12,
    "start_time": "2024-08-30T16:33:39.679Z"
   },
   {
    "duration": 43,
    "start_time": "2024-08-30T16:33:39.693Z"
   },
   {
    "duration": 19,
    "start_time": "2024-08-30T16:33:39.738Z"
   },
   {
    "duration": 21,
    "start_time": "2024-08-30T16:33:39.759Z"
   },
   {
    "duration": 12,
    "start_time": "2024-08-30T16:33:39.783Z"
   },
   {
    "duration": 28,
    "start_time": "2024-08-30T16:33:39.797Z"
   },
   {
    "duration": 7,
    "start_time": "2024-08-30T16:33:39.827Z"
   },
   {
    "duration": 6,
    "start_time": "2024-08-30T16:33:39.840Z"
   },
   {
    "duration": 13,
    "start_time": "2024-08-30T16:33:39.848Z"
   },
   {
    "duration": 181,
    "start_time": "2024-08-30T16:33:39.863Z"
   },
   {
    "duration": 144,
    "start_time": "2024-08-30T16:33:40.046Z"
   },
   {
    "duration": 363,
    "start_time": "2024-08-30T16:33:40.195Z"
   },
   {
    "duration": 316,
    "start_time": "2024-08-30T16:33:40.560Z"
   },
   {
    "duration": 2620,
    "start_time": "2024-08-31T19:35:27.114Z"
   },
   {
    "duration": 40,
    "start_time": "2024-08-31T19:35:29.736Z"
   },
   {
    "duration": 47,
    "start_time": "2024-08-31T19:35:29.777Z"
   },
   {
    "duration": 25,
    "start_time": "2024-08-31T19:35:29.827Z"
   },
   {
    "duration": 18,
    "start_time": "2024-08-31T19:35:29.853Z"
   },
   {
    "duration": 2,
    "start_time": "2024-08-31T19:35:29.874Z"
   },
   {
    "duration": 45,
    "start_time": "2024-08-31T19:35:29.878Z"
   },
   {
    "duration": 7,
    "start_time": "2024-08-31T19:35:29.925Z"
   },
   {
    "duration": 9,
    "start_time": "2024-08-31T19:35:29.934Z"
   },
   {
    "duration": 8,
    "start_time": "2024-08-31T19:35:29.946Z"
   },
   {
    "duration": 7,
    "start_time": "2024-08-31T19:35:29.955Z"
   },
   {
    "duration": 167,
    "start_time": "2024-08-31T19:35:29.964Z"
   },
   {
    "duration": 6,
    "start_time": "2024-08-31T19:35:30.133Z"
   },
   {
    "duration": 12,
    "start_time": "2024-08-31T19:35:30.141Z"
   },
   {
    "duration": 151,
    "start_time": "2024-08-31T19:35:30.154Z"
   },
   {
    "duration": 152,
    "start_time": "2024-08-31T19:35:30.306Z"
   },
   {
    "duration": 7,
    "start_time": "2024-08-31T19:35:30.459Z"
   },
   {
    "duration": 366,
    "start_time": "2024-08-31T19:35:30.467Z"
   },
   {
    "duration": 21,
    "start_time": "2024-08-31T19:35:30.835Z"
   },
   {
    "duration": 10,
    "start_time": "2024-08-31T19:35:30.858Z"
   },
   {
    "duration": 241,
    "start_time": "2024-08-31T19:35:30.870Z"
   },
   {
    "duration": 250,
    "start_time": "2024-08-31T19:35:31.113Z"
   },
   {
    "duration": 9,
    "start_time": "2024-08-31T19:35:31.365Z"
   },
   {
    "duration": 174,
    "start_time": "2024-08-31T19:35:31.376Z"
   },
   {
    "duration": 106,
    "start_time": "2024-08-31T19:35:31.552Z"
   },
   {
    "duration": 4,
    "start_time": "2024-08-31T19:35:31.659Z"
   },
   {
    "duration": 126,
    "start_time": "2024-08-31T19:35:31.665Z"
   },
   {
    "duration": 108,
    "start_time": "2024-08-31T19:35:31.795Z"
   },
   {
    "duration": 5,
    "start_time": "2024-08-31T19:35:31.905Z"
   },
   {
    "duration": 18,
    "start_time": "2024-08-31T19:35:31.912Z"
   },
   {
    "duration": 16,
    "start_time": "2024-08-31T19:35:31.932Z"
   },
   {
    "duration": 9,
    "start_time": "2024-08-31T19:35:31.950Z"
   },
   {
    "duration": 13,
    "start_time": "2024-08-31T19:35:31.960Z"
   },
   {
    "duration": 12,
    "start_time": "2024-08-31T19:35:31.974Z"
   },
   {
    "duration": 51,
    "start_time": "2024-08-31T19:35:31.988Z"
   },
   {
    "duration": 8,
    "start_time": "2024-08-31T19:35:32.040Z"
   },
   {
    "duration": 7,
    "start_time": "2024-08-31T19:35:32.049Z"
   },
   {
    "duration": 13,
    "start_time": "2024-08-31T19:35:32.058Z"
   },
   {
    "duration": 169,
    "start_time": "2024-08-31T19:35:32.073Z"
   },
   {
    "duration": 151,
    "start_time": "2024-08-31T19:35:32.244Z"
   },
   {
    "duration": 300,
    "start_time": "2024-08-31T19:35:32.397Z"
   },
   {
    "duration": 232,
    "start_time": "2024-08-31T19:35:32.699Z"
   }
  ],
  "kernelspec": {
   "display_name": "Python 3 (ipykernel)",
   "language": "python",
   "name": "python3"
  },
  "language_info": {
   "codemirror_mode": {
    "name": "ipython",
    "version": 3
   },
   "file_extension": ".py",
   "mimetype": "text/x-python",
   "name": "python",
   "nbconvert_exporter": "python",
   "pygments_lexer": "ipython3",
   "version": "3.9.19"
  },
  "toc": {
   "base_numbering": 1,
   "nav_menu": {},
   "number_sections": true,
   "sideBar": true,
   "skip_h1_title": true,
   "title_cell": "Table of Contents",
   "title_sidebar": "Contents",
   "toc_cell": false,
   "toc_position": {},
   "toc_section_display": true,
   "toc_window_display": false
  }
 },
 "nbformat": 4,
 "nbformat_minor": 2
}
